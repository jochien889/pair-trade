{
 "cells": [
  {
   "cell_type": "code",
   "execution_count": null,
   "id": "13b214f7",
   "metadata": {},
   "outputs": [],
   "source": [
    "import os\n",
    "print(\"PYTHONPATH:\", os.environ.get('PYTHONPATH'))\n",
    "print(\"PATH:\", os.environ.get('PATH'))"
   ]
  },
  {
   "cell_type": "code",
   "execution_count": null,
   "id": "b99feb7e",
   "metadata": {},
   "outputs": [],
   "source": [
    "import quandl\n",
    "import pandas as pd\n",
    "from matplotlib import pyplot as plt\n",
    "import requests\n",
    "import statsmodels.tsa.stattools as ts \n",
    "from statsmodels.tsa.vector_ar.vecm import coint_johansen"
   ]
  },
  {
   "cell_type": "code",
   "execution_count": null,
   "id": "09f89e80",
   "metadata": {},
   "outputs": [],
   "source": [
    "def get_bitfinex_asset(asset, ts_ms_start, ts_ms_end):\n",
    "    url = 'https://api.bitfinex.com/v2/candles/trade:1D:t' + asset + '/hist'\n",
    "    params = { 'start': ts_ms_start, 'end': ts_ms_end, 'sort': 1}\n",
    "    r = requests.get(url, params = params)\n",
    "    data = r.json()\n",
    "    return pd.DataFrame(data)[2]"
   ]
  },
  {
   "cell_type": "markdown",
   "id": "60137cc1",
   "metadata": {},
   "source": [
    "# specify symbols"
   ]
  },
  {
   "cell_type": "code",
   "execution_count": null,
   "id": "d2b1aea1",
   "metadata": {},
   "outputs": [],
   "source": [
    "start_date = 1514768400000 # 1 January 2018, 00:00:00\n",
    "end_date = 1527811199000   # 31 May 2018, 23:59:59\n",
    "assets = ['BTCUSD', 'ETHUSD', 'LTCUSD', 'XMRUSD', 'NEOUSD', 'XRPUSD', 'ZECUSD']"
   ]
  },
  {
   "cell_type": "code",
   "execution_count": null,
   "id": "45e9e933",
   "metadata": {},
   "outputs": [],
   "source": [
    "crypto_prices = pd.DataFrame()\n",
    "for a in assets:\n",
    "    print('Downloading ' + a)\n",
    "    crypto_prices[a] = get_bitfinex_asset(asset = a, ts_ms_start = start_date, ts_ms_end = end_date)\n",
    "\n",
    "crypto_prices.head()"
   ]
  },
  {
   "cell_type": "markdown",
   "id": "a7b20ab0",
   "metadata": {},
   "source": [
    "# auto extract"
   ]
  },
  {
   "cell_type": "code",
   "execution_count": null,
   "id": "a193b3fc",
   "metadata": {},
   "outputs": [],
   "source": [
    "symbols = pd.read_csv(\"crypto_ohlc/symbols.csv\").symbol.tolist()\n",
    "print(assets[0:5])"
   ]
  },
  {
   "cell_type": "code",
   "execution_count": null,
   "id": "57138a72",
   "metadata": {},
   "outputs": [],
   "source": [
    "crypto_prices = ((pd.concat([pd.read_csv(f\"crypto_ohlc/{symbol}.csv\", index_col='date', parse_dates=True)\n",
    "        ['close'].rename(symbol)for symbol in symbols],axis=1,sort=True)))\n",
    "crypto_prices = crypto_prices.loc[:,~crypto_prices.columns.duplicated()]"
   ]
  },
  {
   "cell_type": "code",
   "execution_count": null,
   "id": "fb8f72eb",
   "metadata": {},
   "outputs": [],
   "source": [
    "crypto_prices.head()"
   ]
  },
  {
   "cell_type": "code",
   "execution_count": null,
   "id": "2998253f",
   "metadata": {},
   "outputs": [],
   "source": [
    "print(crypto_prices.BTCUSDT.tolist()[0:5])\n",
    "ratio = crypto_prices.BTCUSDT.pct_change()\n",
    "print(ratio[0:5])"
   ]
  },
  {
   "cell_type": "markdown",
   "id": "bf69b950",
   "metadata": {},
   "source": [
    "# Normalize prices by first value"
   ]
  },
  {
   "cell_type": "markdown",
   "id": "f41d0060",
   "metadata": {},
   "source": [
    "### p-value夠小, 沒證據證明不具備cointegration "
   ]
  },
  {
   "cell_type": "code",
   "execution_count": null,
   "id": "ef1c6263",
   "metadata": {
    "scrolled": false
   },
   "outputs": [],
   "source": [
    "norm_prices = crypto_prices.divide(crypto_prices.iloc[0])\n",
    "\n",
    "plt.figure(figsize = (15, 10))\n",
    "plt.plot(norm_prices)\n",
    "plt.xlabel('days')\n",
    "plt.title('Performance of cryptocurrencies')\n",
    "plt.legend(assets)\n",
    "plt.show()\n",
    "\n",
    "for a1 in crypto_prices.columns:\n",
    "    for a2 in crypto_prices.columns:\n",
    "        if a1 != a2:\n",
    "            test_result = ts.coint(crypto_prices[a1], crypto_prices[a2])\n",
    "            if test_result[1] < 0.05:\n",
    "                print(a1 + ' and ' + a2 + ': p-value = ' + str(test_result[1]))"
   ]
  },
  {
   "cell_type": "markdown",
   "id": "1fdc395f",
   "metadata": {},
   "source": [
    "# backtrader"
   ]
  },
  {
   "cell_type": "markdown",
   "id": "11f0260f",
   "metadata": {},
   "source": [
    "# catalyst"
   ]
  },
  {
   "cell_type": "code",
   "execution_count": null,
   "id": "4740c597",
   "metadata": {},
   "outputs": [],
   "source": [
    "!pip install Logbook==0.12.4"
   ]
  },
  {
   "cell_type": "code",
   "execution_count": null,
   "id": "0a3708d7",
   "metadata": {},
   "outputs": [],
   "source": [
    "!pip install setuptools==38.5.1"
   ]
  },
  {
   "cell_type": "code",
   "execution_count": null,
   "id": "d257a02e",
   "metadata": {},
   "outputs": [],
   "source": [
    "!pip3 install hdf5"
   ]
  },
  {
   "cell_type": "code",
   "execution_count": null,
   "id": "df839e53",
   "metadata": {
    "scrolled": false
   },
   "outputs": [],
   "source": [
    "!pip install enigma-catalyst matplotlib"
   ]
  },
  {
   "cell_type": "code",
   "execution_count": null,
   "id": "4d155ff8",
   "metadata": {},
   "outputs": [],
   "source": [
    "import matplotlib.pyplot as plt\n",
    "import numpy as np\n",
    "import pandas as pd\n",
    "import scipy.stats as st\n",
    "\n",
    "# from catalyst import run_algorithm\n",
    "from catalyst.api import (record, symbol, order_target_percent, date_rules, time_rules, get_datetime)"
   ]
  },
  {
   "cell_type": "code",
   "execution_count": null,
   "id": "af890d50",
   "metadata": {},
   "outputs": [],
   "source": [
    "import matplotlib.pyplot as plt\n",
    "import numpy as np\n",
    "import pandas as pd\n",
    "import scipy.stats as st\n",
    "\n",
    "from catalyst import run_algorithm\n",
    "from catalyst.api import (record, symbol, order_target_percent, date_rules, time_rules, get_datetime)\n",
    "\n",
    "def initialize(context):\n",
    "    context.A = symbol('xmr_usd')\n",
    "    context.B = symbol('neo_usd')\n",
    "\n",
    "    context.leverage = 1.0                              # 1.0 - no leverage\n",
    "    context.n_modelling = 144                           # number of lookback bars for modelling (rolling day)\n",
    "    context.tf = str(30) + \"T\"                          # how many minutes in a timeframe; 1 - to get minute data (often errors happen); 60 - to get hourly data\n",
    "    context.z_signal_in = st.norm.ppf(1 - 0.05 / 2)     # z-score threshold to open an order\n",
    "    context.z_signal_out = st.norm.ppf(1 - 0.60 / 2)    # z-score threshold to close an order\n",
    "    context.min_spread = 0.01                           # threshold for minimal allowed spread\n",
    "    \n",
    "    context.set_commission(maker = 0.000, taker = 0.000)# 手續費\n",
    "    context.set_slippage(slippage = 0.0000)             # 滑價\n",
    "\n",
    "def handle_data(context, data):\n",
    "    current_time = get_datetime().time()\n",
    "    \n",
    "    # Get data\n",
    "    A = data.history(context.A,\n",
    "                    'price',\n",
    "                    bar_count = context.n_modelling,\n",
    "                    frequency = context.tf,\n",
    "                    )\n",
    "\n",
    "    B = data.history(context.B,\n",
    "                    'price',\n",
    "                    bar_count = context.n_modelling,\n",
    "                    frequency = context.tf,\n",
    "                    )\n",
    "\n",
    "    # Calc returns and spread\n",
    "    A_return = A.pct_change()\n",
    "    B_return = B.pct_change()\n",
    "    spread = A_return - B_return\n",
    "\n",
    "    zscore = (spread.iloc[-1] - spread.mean()) / spread.std()\n",
    "\n",
    "    # Close positions\n",
    "    if context.portfolio.positions[context.B].amount < 0 and zscore >= -context.z_signal_out:\n",
    "        order_target_percent(context.A,  0.0)\n",
    "        order_target_percent(context.B,  0.0)\n",
    "    if context.portfolio.positions[context.B].amount > 0 and zscore <= context.z_signal_out:\n",
    "        order_target_percent(context.A,  0.0)\n",
    "        order_target_percent(context.B,  0.0)\n",
    "\n",
    "    # Check minimal allowed spread value\n",
    "    if (abs(spread[-1]) >= context.min_spread):# and np.sign(A_return[-1] * B_return[-1]) < 0:\n",
    "        # Long and Short positions for assets\n",
    "        if context.portfolio.positions[context.B].amount == 0 and zscore > context.z_signal_in:\n",
    "            order_target_percent(context.A,  -0.5 * context.leverage)\n",
    "            order_target_percent(context.B,  0.5 * context.leverage)\n",
    "\n",
    "        if context.portfolio.positions[context.B].amount == 0 and zscore < -context.z_signal_in:\n",
    "            order_target_percent(context.A,  0.5 * context.leverage)\n",
    "            order_target_percent(context.B,  -0.5  * context.leverage)\n",
    "\n",
    "\n",
    "    record(\n",
    "        A_return = A_return[-1],\n",
    "        B_return = B_return[-1],\n",
    "        spread = spread[-1],\n",
    "        zscore = zscore\n",
    "    )\n",
    "\n",
    "def analyze(context, perf):\n",
    "    # Summary output\n",
    "    print(\"Total return: \" + str(perf.algorithm_period_return[-1]))\n",
    "    print(\"Sortino coef: \" + str(perf.sortino[-1]))\n",
    "    print(\"Max drawdown: \" + str(np.min(perf.max_drawdown)))\n",
    "    \n",
    "    f = plt.figure(figsize = (7.2, 7.2))\n",
    "\n",
    "    # Plot 1st A group\n",
    "    ax1 = f.add_subplot(611)\n",
    "    ax1.plot(perf.A_return, 'blue')\n",
    "    ax1.set_title('A return')\n",
    "    ax1.set_xlabel('Time')\n",
    "    ax1.set_ylabel('Return')\n",
    "\n",
    "    # Plot 2nd public group\n",
    "    ax2 = f.add_subplot(612, sharex = ax1)\n",
    "    ax2.plot(perf.B_return, 'green')\n",
    "    ax2.set_title('B return')\n",
    "    ax2.set_xlabel('Time')\n",
    "    ax2.set_ylabel('Return')\n",
    "\n",
    "    # Plot spread\n",
    "    ax3 = f.add_subplot(613, sharex = ax1)\n",
    "    ax3.plot(perf.spread, 'darkmagenta')\n",
    "    ax3.axhline(context.min_spread, c = 'red')\n",
    "    ax3.axhline(-context.min_spread, c = 'red')\n",
    "    ax3.set_title('Spread')\n",
    "    ax3.set_xlabel('Time')\n",
    "    ax3.set_ylabel('Value')\n",
    "\n",
    "    # Plot z-score\n",
    "    ax4 = f.add_subplot(614, sharex = ax1)\n",
    "    ax4.plot(perf.zscore, 'grey')\n",
    "    ax4.axhline(context.z_signal_in, c = 'green')\n",
    "    ax4.axhline(-context.z_signal_in, c = 'green')\n",
    "    ax4.axhline(context.z_signal_out, c = 'red')\n",
    "    ax4.axhline(-context.z_signal_out, c = 'red')\n",
    "    ax4.set_title('z-score')\n",
    "    ax4.set_xlabel('Time')\n",
    "    ax4.set_ylabel('Value')\n",
    "\n",
    "    # Plot return\n",
    "    ax5 = f.add_subplot(615, sharex = ax1)\n",
    "    ax5.plot(perf.algorithm_period_return, 'red')\n",
    "    ax5.set_title('Algorithm return')\n",
    "    ax5.set_xlabel('Time')\n",
    "    ax5.set_ylabel('Value')\n",
    "\n",
    "    # Plot leverage\n",
    "    ax6 = f.add_subplot(616, sharex = ax1)\n",
    "    ax6.plot(perf.gross_leverage, 'yellow')\n",
    "    ax6.set_title('Leverage')\n",
    "    ax6.set_xlabel('Time')\n",
    "    ax6.set_ylabel('Value')\n",
    "\n",
    "    plt.tight_layout()\n",
    "    plt.show()\n",
    "\n",
    "run_algorithm(\n",
    "    capital_base = 10000,\n",
    "    data_frequency = 'minute',\n",
    "    initialize = initialize,\n",
    "    handle_data = handle_data,\n",
    "    analyze = analyze,\n",
    "    exchange_name = 'bitfinex',\n",
    "    quote_currency = 'usd',\n",
    "    start = pd.to_datetime('2018-6-1', utc = True),\n",
    "    end = pd.to_datetime('2018-9-30', utc = True))"
   ]
  },
  {
   "cell_type": "code",
   "execution_count": null,
   "id": "c87f8867",
   "metadata": {},
   "outputs": [],
   "source": []
  }
 ],
 "metadata": {
  "kernelspec": {
   "display_name": "Python 3.8.9 64-bit",
   "language": "python",
   "name": "python389jvsc74a57bd031f2aee4e71d21fbe5cf8b01ff0e069b9275f58929596ceb00d14d90e3e16cd6"
  },
  "language_info": {
   "codemirror_mode": {
    "name": "ipython",
    "version": 3
   },
   "file_extension": ".py",
   "mimetype": "text/x-python",
   "name": "python",
   "nbconvert_exporter": "python",
   "pygments_lexer": "ipython3",
   "version": "3.8.9"
  }
 },
 "nbformat": 4,
 "nbformat_minor": 5
}
