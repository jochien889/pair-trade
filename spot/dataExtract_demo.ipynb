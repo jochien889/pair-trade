{
 "cells": [
  {
   "cell_type": "code",
   "execution_count": 1,
   "id": "ea214147",
   "metadata": {},
   "outputs": [],
   "source": [
    "from BinanceHttpClient import BinanceHttp, contractType, Interval, OrderSide, OrderType\n",
    "import pandas as pd\n",
    "import numpy as np\n",
    "from datetime import datetime\n",
    "import time\n",
    "import traceback"
   ]
  },
  {
   "cell_type": "code",
   "execution_count": 2,
   "id": "bc5b2413",
   "metadata": {},
   "outputs": [],
   "source": [
    "def tsConverter(Year, Month, Day, Hour, Min, Second):\n",
    "    ts= datetime(Year, Month, Day, Hour, Min, Second).timestamp()\n",
    "    return int(ts)\n",
    "\n",
    "# interval = MINUTE_30"
   ]
  },
  {
   "cell_type": "code",
   "execution_count": 3,
   "id": "ef629549",
   "metadata": {},
   "outputs": [],
   "source": [
    "http_client = BinanceHttp()\n",
    "exchangeInfo = http_client.get_exchange_info()\n",
    "exchangeInfo['symbols']\n",
    "usdt = [i['symbol'] for i in exchangeInfo['symbols'] if i['symbol'][-4:] == 'USDT']"
   ]
  },
  {
   "cell_type": "code",
   "execution_count": 17,
   "id": "45b8d7dc",
   "metadata": {},
   "outputs": [
    {
     "name": "stdout",
     "output_type": "stream",
     "text": [
      "BTCUSDT 3354\n",
      "ETHUSDT 3354\n",
      "BNBUSDT 3354\n",
      "NEOUSDT 3354\n",
      "LTCUSDT 3354\n",
      "QTUMUSDT 3354\n",
      "ADAUSDT 3354\n",
      "XRPUSDT 3354\n",
      "EOSUSDT 3354\n",
      "TUSDUSDT 3354\n",
      "IOTAUSDT 3354\n",
      "XLMUSDT 3354\n",
      "ONTUSDT 3354\n",
      "TRXUSDT 3354\n",
      "ETCUSDT 3354\n",
      "ICXUSDT 3354\n",
      "NULSUSDT 3354\n",
      "VETUSDT 3354\n",
      "USDCUSDT 3354\n",
      "LINKUSDT 3354\n",
      "WAVESUSDT 3354\n",
      "ONGUSDT 3354\n",
      "HOTUSDT 3354\n",
      "ZILUSDT 3354\n",
      "ZRXUSDT 3354\n",
      "FETUSDT 3354\n",
      "BATUSDT 3354\n",
      "XMRUSDT 3354\n",
      "ZECUSDT 3354\n",
      "IOSTUSDT 3354\n",
      "CELRUSDT 3354\n",
      "DASHUSDT 3354\n",
      "OMGUSDT 3354\n",
      "THETAUSDT 3354\n",
      "ENJUSDT 3354\n",
      "MITHUSDT 3354\n",
      "MATICUSDT 3354\n",
      "ATOMUSDT 3354\n",
      "TFUELUSDT 3354\n",
      "ONEUSDT 3354\n",
      "FTMUSDT 3354\n",
      "ALGOUSDT 3354\n",
      "GTOUSDT 3354\n",
      "DOGEUSDT 3354\n",
      "DUSKUSDT 3354\n",
      "ANKRUSDT 3354\n",
      "WINUSDT 3354\n",
      "COSUSDT 3354\n",
      "MTLUSDT 3354\n",
      "TOMOUSDT 3354\n",
      "PERLUSDT 3354\n",
      "DENTUSDT 3354\n",
      "MFTUSDT 3354\n",
      "KEYUSDT 3354\n",
      "DOCKUSDT 3354\n",
      "WANUSDT 3354\n",
      "FUNUSDT 3354\n",
      "CVCUSDT 3354\n",
      "CHZUSDT 3354\n",
      "BANDUSDT 3354\n",
      "BUSDUSDT 3354\n",
      "BEAMUSDT 3354\n",
      "XTZUSDT 3354\n",
      "RENUSDT 3354\n",
      "RVNUSDT 3354\n",
      "HBARUSDT 3354\n",
      "NKNUSDT 3354\n",
      "STXUSDT 3354\n",
      "KAVAUSDT 3354\n",
      "ARPAUSDT 3354\n",
      "IOTXUSDT 3354\n",
      "RLCUSDT 3354\n",
      "CTXCUSDT 3354\n",
      "BCHUSDT 3354\n",
      "TROYUSDT 3354\n",
      "VITEUSDT 3354\n",
      "FTTUSDT 3354\n",
      "EURUSDT 3354\n",
      "OGNUSDT 3354\n",
      "TCTUSDT 3354\n",
      "WRXUSDT 3354\n",
      "BTSUSDT 3354\n",
      "LSKUSDT 3354\n",
      "BNTUSDT 3354\n",
      "LTOUSDT 3354\n",
      "AIONUSDT 3354\n",
      "MBLUSDT 3354\n",
      "COTIUSDT 3354\n",
      "STPTUSDT 3354\n",
      "WTCUSDT 3354\n",
      "DATAUSDT 3354\n",
      "SOLUSDT 3354\n",
      "CTSIUSDT 3354\n",
      "HIVEUSDT 3354\n",
      "CHRUSDT 3354\n",
      "BTCUPUSDT 3354\n",
      "BTCDOWNUSDT 3354\n",
      "GXSUSDT 3354\n",
      "ARDRUSDT 3354\n",
      "MDTUSDT 3354\n",
      "STMXUSDT 3354\n",
      "KNCUSDT 3354\n",
      "REPUSDT 3354\n",
      "LRCUSDT 3354\n",
      "PNTUSDT 3354\n",
      "COMPUSDT 3354\n",
      "SCUSDT 3354\n",
      "ZENUSDT 3354\n",
      "SNXUSDT 3354\n",
      "ETHUPUSDT 3354\n",
      "ADAUPUSDT 3354\n",
      "LINKUPUSDT 3354\n",
      "VTHOUSDT 3354\n",
      "DGBUSDT 3354\n",
      "GBPUSDT 3354\n",
      "SXPUSDT 3354\n",
      "MKRUSDT 3354\n",
      "DCRUSDT 3354\n",
      "STORJUSDT 3354\n",
      "BNBUPUSDT 3354\n",
      "MANAUSDT 3354\n",
      "AUDUSDT 3354\n",
      "YFIUSDT 3354\n",
      "BALUSDT 3354\n",
      "BLZUSDT 3354\n",
      "IRISUSDT 3354\n",
      "KMDUSDT 3354\n",
      "JSTUSDT 3354\n",
      "SRMUSDT 3354\n",
      "ANTUSDT 3354\n",
      "CRVUSDT 3354\n",
      "SANDUSDT 3354\n",
      "DOTUSDT 3354\n"
     ]
    }
   ],
   "source": [
    "columns = {'date': 0, 'open': 1, 'high': 2, 'low': 3, 'close': 4, 'volume': 5}\n",
    "result = []\n",
    "interval_int = 4*60\n",
    "interval = Interval.HOUR_4\n",
    "\n",
    "for i in usdt:\n",
    "    time.sleep(1)\n",
    "    start_time = tsConverter(2020, 8, 19, 4, 0, 0) * 1000 ### UTC +8\n",
    "    end_time = tsConverter(2022, 3, 1, 0, 0, 0) * 1000   ### UTC +8\n",
    "    klineList = []\n",
    "    while start_time <= end_time:\n",
    "        klineResp = http_client.get_kline(symbol = f'{i}', interval=interval, start_time = start_time, end_time= end_time, limit=1440)\n",
    "#         print(klineResp)\n",
    "        klineList += klineResp\n",
    "        start_time += 1000 * 60 * 1000 * interval_int\n",
    "    ts = {i[0] for i in klineList}\n",
    "    \n",
    "    if len(ts) == 3354:\n",
    "        print(i, len(ts))\n",
    "        result.append(i)\n",
    "        klines = [[datetime.fromtimestamp(int(kline[0]/1000)).strftime('%Y-%m-%d'),\n",
    "                   kline[1],kline[2],kline[3],kline[4],kline[5]] for kline in klineList]  \n",
    "        df = pd.DataFrame(klines, columns = columns)\n",
    "        df.to_csv(f'4h/{i}.csv', index=False)\n",
    "df = pd.DataFrame(result, columns = ['symbol'])\n",
    "df.to_csv('4h/symbols.csv')"
   ]
  },
  {
   "cell_type": "code",
   "execution_count": 18,
   "id": "3763d3ff",
   "metadata": {},
   "outputs": [
    {
     "data": {
      "text/plain": [
       "746132"
      ]
     },
     "execution_count": 18,
     "metadata": {},
     "output_type": "execute_result"
    }
   ],
   "source": [
    "570810 + 175322"
   ]
  },
  {
   "cell_type": "code",
   "execution_count": 5,
   "id": "17b38cb7",
   "metadata": {},
   "outputs": [],
   "source": [
    "interval = Interval.HOUR_4"
   ]
  },
  {
   "cell_type": "code",
   "execution_count": 12,
   "id": "1bc2d06d",
   "metadata": {},
   "outputs": [
    {
     "name": "stdout",
     "output_type": "stream",
     "text": [
      "3354\n"
     ]
    }
   ],
   "source": [
    "start_time = tsConverter(2020, 8, 19, 0, 0, 0) * 1000 ### UTC +8\n",
    "end_time = tsConverter(2022, 3, 1, 0, 0, 0) * 1000   ### UTC +8\n",
    "klineList = []\n",
    "while start_time <= end_time:\n",
    "    klineResp = http_client.get_kline(symbol = 'DOTUSDT', interval=interval, start_time = start_time, end_time= end_time, limit=1440)\n",
    "#         print(klineResp)\n",
    "    klineList += klineResp\n",
    "    start_time += 1000 * 60 * 1000 * 60 * 4\n",
    "ts = {i[0] for i in klineList}\n",
    "print(len(ts))"
   ]
  },
  {
   "cell_type": "code",
   "execution_count": 16,
   "id": "0e9c574d",
   "metadata": {},
   "outputs": [
    {
     "name": "stdout",
     "output_type": "stream",
     "text": [
      "3354\n"
     ]
    }
   ],
   "source": [
    "start_time = tsConverter(2020, 8, 19, 4, 0, 0) * 1000 ### UTC +8\n",
    "end_time = tsConverter(2022, 3, 1, 0, 0, 0) * 1000   ### UTC +8\n",
    "klineList = []\n",
    "while start_time <= end_time:\n",
    "    klineResp = http_client.get_kline(symbol = 'SOLUSDT', interval=interval, start_time = start_time, end_time= end_time, limit=1440)\n",
    "#         print(klineResp)\n",
    "    klineList += klineResp\n",
    "    start_time += 1000 * 60 * 1000 * 60 * 4\n",
    "ts = {i[0] for i in klineList}\n",
    "print(len(ts))"
   ]
  },
  {
   "cell_type": "code",
   "execution_count": null,
   "id": "7d5d37ff",
   "metadata": {},
   "outputs": [],
   "source": [
    "print(sorted(ts))"
   ]
  },
  {
   "cell_type": "code",
   "execution_count": 21,
   "id": "9be7765b",
   "metadata": {},
   "outputs": [
    {
     "ename": "TypeError",
     "evalue": "'<' not supported between instances of 'int' and 'NoneType'",
     "output_type": "error",
     "traceback": [
      "\u001b[0;31m---------------------------------------------------------------------------\u001b[0m",
      "\u001b[0;31mTypeError\u001b[0m                                 Traceback (most recent call last)",
      "\u001b[0;32m/var/folders/2j/lxqmn2g17532zb7s9cbfcmbw0000gn/T/ipykernel_41540/1361674149.py\u001b[0m in \u001b[0;36m<module>\u001b[0;34m\u001b[0m\n\u001b[1;32m      2\u001b[0m \u001b[0mb\u001b[0m \u001b[0;34m=\u001b[0m \u001b[0;32mNone\u001b[0m\u001b[0;34m\u001b[0m\u001b[0;34m\u001b[0m\u001b[0m\n\u001b[1;32m      3\u001b[0m \u001b[0mc\u001b[0m \u001b[0;34m=\u001b[0m \u001b[0;36m5\u001b[0m\u001b[0;34m\u001b[0m\u001b[0;34m\u001b[0m\u001b[0m\n\u001b[0;32m----> 4\u001b[0;31m \u001b[0;32mif\u001b[0m \u001b[0mc\u001b[0m\u001b[0;34m<\u001b[0m\u001b[0mb\u001b[0m \u001b[0;32mor\u001b[0m \u001b[0mc\u001b[0m\u001b[0;34m>\u001b[0m\u001b[0ma\u001b[0m\u001b[0;34m:\u001b[0m\u001b[0;34m\u001b[0m\u001b[0;34m\u001b[0m\u001b[0m\n\u001b[0m\u001b[1;32m      5\u001b[0m     \u001b[0mprint\u001b[0m\u001b[0;34m(\u001b[0m\u001b[0;36m1\u001b[0m\u001b[0;34m)\u001b[0m\u001b[0;34m\u001b[0m\u001b[0;34m\u001b[0m\u001b[0m\n",
      "\u001b[0;31mTypeError\u001b[0m: '<' not supported between instances of 'int' and 'NoneType'"
     ]
    }
   ],
   "source": [
    "a = 1\n",
    "b = None \n",
    "c = 5\n",
    "if c<b or c>a:\n",
    "    print(1)"
   ]
  },
  {
   "cell_type": "code",
   "execution_count": 20,
   "id": "ac832eeb",
   "metadata": {},
   "outputs": [
    {
     "ename": "TypeError",
     "evalue": "'<' not supported between instances of 'int' and 'NoneType'",
     "output_type": "error",
     "traceback": [
      "\u001b[0;31m---------------------------------------------------------------------------\u001b[0m",
      "\u001b[0;31mTypeError\u001b[0m                                 Traceback (most recent call last)",
      "\u001b[0;32m/var/folders/2j/lxqmn2g17532zb7s9cbfcmbw0000gn/T/ipykernel_41540/856105118.py\u001b[0m in \u001b[0;36m<module>\u001b[0;34m\u001b[0m\n\u001b[0;32m----> 1\u001b[0;31m \u001b[0mc\u001b[0m\u001b[0;34m<\u001b[0m\u001b[0mb\u001b[0m\u001b[0;34m\u001b[0m\u001b[0;34m\u001b[0m\u001b[0m\n\u001b[0m",
      "\u001b[0;31mTypeError\u001b[0m: '<' not supported between instances of 'int' and 'NoneType'"
     ]
    }
   ],
   "source": [
    "d = c<b c>a\n",
    "    "
   ]
  },
  {
   "cell_type": "code",
   "execution_count": null,
   "id": "c5cb2066",
   "metadata": {},
   "outputs": [],
   "source": []
  }
 ],
 "metadata": {
  "kernelspec": {
   "display_name": "Python 3 (ipykernel)",
   "language": "python",
   "name": "python3"
  },
  "language_info": {
   "codemirror_mode": {
    "name": "ipython",
    "version": 3
   },
   "file_extension": ".py",
   "mimetype": "text/x-python",
   "name": "python",
   "nbconvert_exporter": "python",
   "pygments_lexer": "ipython3",
   "version": "3.9.7"
  }
 },
 "nbformat": 4,
 "nbformat_minor": 5
}
