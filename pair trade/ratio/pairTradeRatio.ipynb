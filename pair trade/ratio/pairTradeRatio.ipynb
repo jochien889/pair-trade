{
 "cells": [
  {
   "cell_type": "code",
   "execution_count": 1,
   "metadata": {},
   "outputs": [
    {
     "name": "stderr",
     "output_type": "stream",
     "text": [
      "C:\\ProgramData\\Anaconda3\\lib\\site-packages\\statsmodels\\tools\\_testing.py:19: FutureWarning: pandas.util.testing is deprecated. Use the functions in the public API at pandas.testing instead.\n",
      "  import pandas.util.testing as tm\n"
     ]
    }
   ],
   "source": [
    "import quandl\n",
    "import pandas as pd\n",
    "from matplotlib import pyplot as plt\n",
    "import requests\n",
    "import statsmodels.tsa.stattools as ts \n",
    "from statsmodels.tsa.vector_ar.vecm import coint_johansen\n",
    "import scipy.stats as st\n",
    "from numpy_ext import rolling_apply # multipler parameters\n",
    "import numpy as np\n",
    "import warnings\n",
    "warnings.filterwarnings(\"ignore\")"
   ]
  },
  {
   "cell_type": "code",
   "execution_count": 2,
   "metadata": {
    "scrolled": false
   },
   "outputs": [
    {
     "data": {
      "text/html": [
       "<div>\n",
       "<style scoped>\n",
       "    .dataframe tbody tr th:only-of-type {\n",
       "        vertical-align: middle;\n",
       "    }\n",
       "\n",
       "    .dataframe tbody tr th {\n",
       "        vertical-align: top;\n",
       "    }\n",
       "\n",
       "    .dataframe thead th {\n",
       "        text-align: right;\n",
       "    }\n",
       "</style>\n",
       "<table border=\"1\" class=\"dataframe\">\n",
       "  <thead>\n",
       "    <tr style=\"text-align: right;\">\n",
       "      <th></th>\n",
       "      <th>BTCUSDT</th>\n",
       "      <th>ETHUSDT</th>\n",
       "      <th>BNBUSDT</th>\n",
       "      <th>NEOUSDT</th>\n",
       "      <th>LTCUSDT</th>\n",
       "      <th>QTUMUSDT</th>\n",
       "      <th>ADAUSDT</th>\n",
       "      <th>XRPUSDT</th>\n",
       "      <th>EOSUSDT</th>\n",
       "      <th>ONEUSDT</th>\n",
       "      <th>...</th>\n",
       "      <th>ZECUSDT</th>\n",
       "      <th>IOSTUSDT</th>\n",
       "      <th>CELRUSDT</th>\n",
       "      <th>DASHUSDT</th>\n",
       "      <th>OMGUSDT</th>\n",
       "      <th>THETAUSDT</th>\n",
       "      <th>ENJUSDT</th>\n",
       "      <th>MITHUSDT</th>\n",
       "      <th>MATICUSDT</th>\n",
       "      <th>ATOMUSDT</th>\n",
       "    </tr>\n",
       "    <tr>\n",
       "      <th>date</th>\n",
       "      <th></th>\n",
       "      <th></th>\n",
       "      <th></th>\n",
       "      <th></th>\n",
       "      <th></th>\n",
       "      <th></th>\n",
       "      <th></th>\n",
       "      <th></th>\n",
       "      <th></th>\n",
       "      <th></th>\n",
       "      <th></th>\n",
       "      <th></th>\n",
       "      <th></th>\n",
       "      <th></th>\n",
       "      <th></th>\n",
       "      <th></th>\n",
       "      <th></th>\n",
       "      <th></th>\n",
       "      <th></th>\n",
       "      <th></th>\n",
       "      <th></th>\n",
       "    </tr>\n",
       "  </thead>\n",
       "  <tbody>\n",
       "    <tr>\n",
       "      <th>2020-01-01</th>\n",
       "      <td>7200.85</td>\n",
       "      <td>130.77</td>\n",
       "      <td>13.7184</td>\n",
       "      <td>8.850</td>\n",
       "      <td>41.62</td>\n",
       "      <td>1.603</td>\n",
       "      <td>0.03348</td>\n",
       "      <td>0.19305</td>\n",
       "      <td>2.6039</td>\n",
       "      <td>0.00466</td>\n",
       "      <td>...</td>\n",
       "      <td>28.07</td>\n",
       "      <td>0.004817</td>\n",
       "      <td>0.00362</td>\n",
       "      <td>41.84</td>\n",
       "      <td>0.6214</td>\n",
       "      <td>0.08656</td>\n",
       "      <td>0.07963</td>\n",
       "      <td>0.00757</td>\n",
       "      <td>0.01496</td>\n",
       "      <td>4.380</td>\n",
       "    </tr>\n",
       "    <tr>\n",
       "      <th>2020-01-02</th>\n",
       "      <td>6965.71</td>\n",
       "      <td>127.19</td>\n",
       "      <td>13.0105</td>\n",
       "      <td>8.462</td>\n",
       "      <td>39.43</td>\n",
       "      <td>1.533</td>\n",
       "      <td>0.03269</td>\n",
       "      <td>0.18750</td>\n",
       "      <td>2.4593</td>\n",
       "      <td>0.00470</td>\n",
       "      <td>...</td>\n",
       "      <td>27.02</td>\n",
       "      <td>0.004605</td>\n",
       "      <td>0.00340</td>\n",
       "      <td>40.04</td>\n",
       "      <td>0.5950</td>\n",
       "      <td>0.08443</td>\n",
       "      <td>0.07371</td>\n",
       "      <td>0.00699</td>\n",
       "      <td>0.01467</td>\n",
       "      <td>4.096</td>\n",
       "    </tr>\n",
       "    <tr>\n",
       "      <th>2020-01-03</th>\n",
       "      <td>7344.96</td>\n",
       "      <td>134.35</td>\n",
       "      <td>13.6474</td>\n",
       "      <td>8.888</td>\n",
       "      <td>42.23</td>\n",
       "      <td>1.629</td>\n",
       "      <td>0.03417</td>\n",
       "      <td>0.19338</td>\n",
       "      <td>2.6396</td>\n",
       "      <td>0.00478</td>\n",
       "      <td>...</td>\n",
       "      <td>28.41</td>\n",
       "      <td>0.004819</td>\n",
       "      <td>0.00355</td>\n",
       "      <td>43.92</td>\n",
       "      <td>0.6248</td>\n",
       "      <td>0.08771</td>\n",
       "      <td>0.07800</td>\n",
       "      <td>0.00739</td>\n",
       "      <td>0.01512</td>\n",
       "      <td>4.237</td>\n",
       "    </tr>\n",
       "    <tr>\n",
       "      <th>2020-01-04</th>\n",
       "      <td>7354.11</td>\n",
       "      <td>134.20</td>\n",
       "      <td>13.8092</td>\n",
       "      <td>9.077</td>\n",
       "      <td>42.78</td>\n",
       "      <td>1.642</td>\n",
       "      <td>0.03434</td>\n",
       "      <td>0.19305</td>\n",
       "      <td>2.6481</td>\n",
       "      <td>0.00475</td>\n",
       "      <td>...</td>\n",
       "      <td>29.91</td>\n",
       "      <td>0.004869</td>\n",
       "      <td>0.00355</td>\n",
       "      <td>46.19</td>\n",
       "      <td>0.6246</td>\n",
       "      <td>0.09394</td>\n",
       "      <td>0.07720</td>\n",
       "      <td>0.00728</td>\n",
       "      <td>0.01484</td>\n",
       "      <td>4.250</td>\n",
       "    </tr>\n",
       "    <tr>\n",
       "      <th>2020-01-05</th>\n",
       "      <td>7358.75</td>\n",
       "      <td>135.37</td>\n",
       "      <td>14.0532</td>\n",
       "      <td>9.020</td>\n",
       "      <td>43.30</td>\n",
       "      <td>1.631</td>\n",
       "      <td>0.03460</td>\n",
       "      <td>0.19453</td>\n",
       "      <td>2.6865</td>\n",
       "      <td>0.00466</td>\n",
       "      <td>...</td>\n",
       "      <td>30.81</td>\n",
       "      <td>0.004916</td>\n",
       "      <td>0.00349</td>\n",
       "      <td>51.17</td>\n",
       "      <td>0.6367</td>\n",
       "      <td>0.09421</td>\n",
       "      <td>0.07637</td>\n",
       "      <td>0.00734</td>\n",
       "      <td>0.01483</td>\n",
       "      <td>4.200</td>\n",
       "    </tr>\n",
       "  </tbody>\n",
       "</table>\n",
       "<p>5 rows × 38 columns</p>\n",
       "</div>"
      ],
      "text/plain": [
       "            BTCUSDT  ETHUSDT  BNBUSDT  NEOUSDT  LTCUSDT  QTUMUSDT  ADAUSDT  \\\n",
       "date                                                                         \n",
       "2020-01-01  7200.85   130.77  13.7184    8.850    41.62     1.603  0.03348   \n",
       "2020-01-02  6965.71   127.19  13.0105    8.462    39.43     1.533  0.03269   \n",
       "2020-01-03  7344.96   134.35  13.6474    8.888    42.23     1.629  0.03417   \n",
       "2020-01-04  7354.11   134.20  13.8092    9.077    42.78     1.642  0.03434   \n",
       "2020-01-05  7358.75   135.37  14.0532    9.020    43.30     1.631  0.03460   \n",
       "\n",
       "            XRPUSDT  EOSUSDT  ONEUSDT  ...  ZECUSDT  IOSTUSDT  CELRUSDT  \\\n",
       "date                                   ...                                \n",
       "2020-01-01  0.19305   2.6039  0.00466  ...    28.07  0.004817   0.00362   \n",
       "2020-01-02  0.18750   2.4593  0.00470  ...    27.02  0.004605   0.00340   \n",
       "2020-01-03  0.19338   2.6396  0.00478  ...    28.41  0.004819   0.00355   \n",
       "2020-01-04  0.19305   2.6481  0.00475  ...    29.91  0.004869   0.00355   \n",
       "2020-01-05  0.19453   2.6865  0.00466  ...    30.81  0.004916   0.00349   \n",
       "\n",
       "            DASHUSDT  OMGUSDT  THETAUSDT  ENJUSDT  MITHUSDT  MATICUSDT  \\\n",
       "date                                                                     \n",
       "2020-01-01     41.84   0.6214    0.08656  0.07963   0.00757    0.01496   \n",
       "2020-01-02     40.04   0.5950    0.08443  0.07371   0.00699    0.01467   \n",
       "2020-01-03     43.92   0.6248    0.08771  0.07800   0.00739    0.01512   \n",
       "2020-01-04     46.19   0.6246    0.09394  0.07720   0.00728    0.01484   \n",
       "2020-01-05     51.17   0.6367    0.09421  0.07637   0.00734    0.01483   \n",
       "\n",
       "            ATOMUSDT  \n",
       "date                  \n",
       "2020-01-01     4.380  \n",
       "2020-01-02     4.096  \n",
       "2020-01-03     4.237  \n",
       "2020-01-04     4.250  \n",
       "2020-01-05     4.200  \n",
       "\n",
       "[5 rows x 38 columns]"
      ]
     },
     "execution_count": 2,
     "metadata": {},
     "output_type": "execute_result"
    }
   ],
   "source": [
    "symbols = pd.read_csv(f\"symbols.csv\").symbol.tolist()\n",
    "df = ((pd.concat([pd.read_csv(f\"{symbol}.csv\", index_col='date', parse_dates=True)\n",
    "        ['close'].rename(symbol)for symbol in symbols],axis=1,sort=True)))\n",
    "df = df.loc[:,~df.columns.duplicated()]\n",
    "df.head()"
   ]
  },
  {
   "cell_type": "code",
   "execution_count": 3,
   "metadata": {},
   "outputs": [
    {
     "data": {
      "image/png": "[encoded data removed]",
      "text/plain": [
       "<Figure size 1080x720 with 1 Axes>"
      ]
     },
     "metadata": {
      "needs_background": "light"
     },
     "output_type": "display_data"
    },
    {
     "name": "stdout",
     "output_type": "stream",
     "text": [
      "ETHUSDT and BNBUSDT: p-value = 0.03979705332444611\n",
      "ETHUSDT and FETUSDT: p-value = 0.00929444623247325\n",
      "ETHUSDT and ATOMUSDT: p-value = 0.023721913440312492\n",
      "BNBUSDT and ETHUSDT: p-value = 0.041843271809026326\n",
      "BNBUSDT and ONEUSDT: p-value = 0.017484822695047256\n",
      "BNBUSDT and TFUELUSDT: p-value = 0.03356023967788732\n",
      "BNBUSDT and ONGUSDT: p-value = 0.017847752585666694\n",
      "BNBUSDT and HOTUSDT: p-value = 0.03491978636054878\n",
      "BNBUSDT and FETUSDT: p-value = 0.046052060336596534\n",
      "BNBUSDT and CELRUSDT: p-value = 0.018390725167988134\n",
      "BNBUSDT and ENJUSDT: p-value = 0.023781731733975086\n",
      "BNBUSDT and MATICUSDT: p-value = 0.03810752895361327\n",
      "NEOUSDT and TFUELUSDT: p-value = 0.00016846197375098098\n",
      "NEOUSDT and HOTUSDT: p-value = 0.01848294455288712\n",
      "NEOUSDT and ZILUSDT: p-value = 0.0259578421031618\n",
      "NEOUSDT and THETAUSDT: p-value = 2.6834950126713157e-07\n",
      "LTCUSDT and BTCUSDT: p-value = 0.03861984946462694\n",
      "LTCUSDT and IOTAUSDT: p-value = 0.019048489602640894\n",
      "LTCUSDT and XLMUSDT: p-value = 0.00039515054718914207\n",
      "LTCUSDT and LINKUSDT: p-value = 0.023626770115257274\n",
      "LTCUSDT and HOTUSDT: p-value = 0.022709107105385797\n",
      "LTCUSDT and DASHUSDT: p-value = 0.03713094464822938\n",
      "LTCUSDT and THETAUSDT: p-value = 0.0049038902107652535\n",
      "QTUMUSDT and XRPUSDT: p-value = 0.002068743693094533\n",
      "QTUMUSDT and IOTAUSDT: p-value = 0.03943986471350238\n",
      "QTUMUSDT and TRXUSDT: p-value = 0.0009494412427422669\n",
      "QTUMUSDT and VETUSDT: p-value = 5.750227045449891e-07\n",
      "QTUMUSDT and TFUELUSDT: p-value = 0.0026478830807722437\n",
      "QTUMUSDT and ONGUSDT: p-value = 0.011115515789367253\n",
      "QTUMUSDT and HOTUSDT: p-value = 0.0051888728406339745\n",
      "QTUMUSDT and FETUSDT: p-value = 0.029510795861753994\n",
      "QTUMUSDT and IOSTUSDT: p-value = 0.022130442055890796\n",
      "QTUMUSDT and THETAUSDT: p-value = 0.024360651013118736\n",
      "QTUMUSDT and MITHUSDT: p-value = 0.027273624370269575\n",
      "ADAUSDT and XRPUSDT: p-value = 0.019714601295092143\n",
      "ADAUSDT and TRXUSDT: p-value = 0.02139791637102997\n",
      "ADAUSDT and ETCUSDT: p-value = 0.03118277971751865\n",
      "ADAUSDT and TFUELUSDT: p-value = 0.02799631463621279\n",
      "ADAUSDT and WAVESUSDT: p-value = 0.0013823147822238893\n",
      "ADAUSDT and ONGUSDT: p-value = 0.01664306331251545\n",
      "ADAUSDT and FETUSDT: p-value = 0.030067423675781437\n",
      "XRPUSDT and ETHUSDT: p-value = 0.02806745065597895\n",
      "XRPUSDT and QTUMUSDT: p-value = 0.0019710604550154196\n",
      "XRPUSDT and ADAUSDT: p-value = 0.003608492021076031\n",
      "XRPUSDT and TRXUSDT: p-value = 0.018731069225657617\n",
      "XRPUSDT and ETCUSDT: p-value = 0.0004999416610815033\n",
      "XRPUSDT and VETUSDT: p-value = 0.005430641191097184\n",
      "XRPUSDT and TFUELUSDT: p-value = 0.0002668623092132749\n",
      "XRPUSDT and WAVESUSDT: p-value = 0.00017691577044526657\n",
      "XRPUSDT and ONGUSDT: p-value = 0.0006468358243263406\n",
      "XRPUSDT and HOTUSDT: p-value = 0.0012997328944727505\n",
      "XRPUSDT and FETUSDT: p-value = 0.00988895178131794\n",
      "XRPUSDT and IOSTUSDT: p-value = 0.0264259605928502\n",
      "XRPUSDT and CELRUSDT: p-value = 0.028846465286064105\n",
      "XRPUSDT and OMGUSDT: p-value = 0.04074986299658593\n",
      "XRPUSDT and THETAUSDT: p-value = 0.027853418625385935\n",
      "EOSUSDT and NEOUSDT: p-value = 0.023002612225628025\n",
      "EOSUSDT and DASHUSDT: p-value = 0.008918973028747737\n",
      "EOSUSDT and THETAUSDT: p-value = 0.007944627711286689\n",
      "EOSUSDT and MITHUSDT: p-value = 0.0035939507098718916\n",
      "ONEUSDT and ETHUSDT: p-value = 0.016386947078835496\n",
      "ONEUSDT and BNBUSDT: p-value = 0.013842476445799466\n",
      "ONEUSDT and CELRUSDT: p-value = 0.02567600211199603\n",
      "ONEUSDT and MATICUSDT: p-value = 0.01227388094164617\n",
      "ONEUSDT and ATOMUSDT: p-value = 0.03459056042888907\n",
      "IOTAUSDT and LTCUSDT: p-value = 0.020450499774643312\n",
      "IOTAUSDT and TFUELUSDT: p-value = 0.01696893182051288\n",
      "IOTAUSDT and ONGUSDT: p-value = 0.020319254508972963\n",
      "IOTAUSDT and HOTUSDT: p-value = 0.012918829485636656\n",
      "IOTAUSDT and XMRUSDT: p-value = 0.031186936037463843\n",
      "IOTAUSDT and THETAUSDT: p-value = 0.00023161317442586175\n",
      "IOTAUSDT and MITHUSDT: p-value = 0.00046585243555272805\n",
      "XLMUSDT and LTCUSDT: p-value = 0.0005303755825262389\n",
      "XLMUSDT and ICXUSDT: p-value = 0.029161638109932983\n",
      "XLMUSDT and ZILUSDT: p-value = 5.173560327251092e-05\n",
      "XLMUSDT and ZRXUSDT: p-value = 0.015376717606141817\n",
      "XLMUSDT and XMRUSDT: p-value = 0.03714588284130315\n",
      "XLMUSDT and IOSTUSDT: p-value = 0.028168787701554912\n",
      "ONTUSDT and NEOUSDT: p-value = 0.015141615798510082\n",
      "ONTUSDT and THETAUSDT: p-value = 0.019714515626263317\n",
      "TRXUSDT and QTUMUSDT: p-value = 0.002180642641601812\n",
      "TRXUSDT and ADAUSDT: p-value = 0.014047236690837617\n",
      "TRXUSDT and XRPUSDT: p-value = 0.013355537409024582\n",
      "TRXUSDT and ETCUSDT: p-value = 0.018400040702454167\n",
      "TRXUSDT and VETUSDT: p-value = 0.001162787985880802\n",
      "TRXUSDT and TFUELUSDT: p-value = 0.0009931243119925613\n",
      "TRXUSDT and WAVESUSDT: p-value = 0.010849167849631918\n",
      "TRXUSDT and ONGUSDT: p-value = 0.0016971855821477152\n",
      "TRXUSDT and HOTUSDT: p-value = 0.0032857109696133925\n",
      "TRXUSDT and FETUSDT: p-value = 0.011279869928940237\n",
      "TRXUSDT and THETAUSDT: p-value = 0.028491860935881103\n",
      "TRXUSDT and ENJUSDT: p-value = 0.01643650555793803\n",
      "ETCUSDT and BNBUSDT: p-value = 0.03330700152758736\n",
      "ETCUSDT and QTUMUSDT: p-value = 0.04285726592523461\n",
      "ETCUSDT and ADAUSDT: p-value = 0.009735199226188157\n",
      "ETCUSDT and XRPUSDT: p-value = 0.0004418925942325179\n",
      "ETCUSDT and TRXUSDT: p-value = 0.005326481442434001\n",
      "ETCUSDT and VETUSDT: p-value = 0.03210050300454622\n",
      "ETCUSDT and TFUELUSDT: p-value = 1.6225614032420075e-05\n",
      "ETCUSDT and HOTUSDT: p-value = 0.0170103005980974\n",
      "ETCUSDT and FETUSDT: p-value = 0.04933252832875112\n",
      "ETCUSDT and IOSTUSDT: p-value = 0.044933959699219164\n",
      "ETCUSDT and THETAUSDT: p-value = 0.009644588165549086\n",
      "ICXUSDT and IOTAUSDT: p-value = 0.0021141493052993024\n",
      "ICXUSDT and XLMUSDT: p-value = 0.03124387696685155\n",
      "ICXUSDT and VETUSDT: p-value = 0.009620508665866554\n",
      "ICXUSDT and LINKUSDT: p-value = 0.01900257419831678\n",
      "ICXUSDT and ZECUSDT: p-value = 0.016525594953041036\n",
      "ICXUSDT and IOSTUSDT: p-value = 4.3334261718027535e-05\n",
      "ICXUSDT and DASHUSDT: p-value = 0.010147255559131568\n",
      "ICXUSDT and MITHUSDT: p-value = 0.04598180770812558\n",
      "NULSUSDT and NEOUSDT: p-value = 0.03199478424999355\n",
      "NULSUSDT and LTCUSDT: p-value = 0.01462957789086122\n",
      "NULSUSDT and IOTAUSDT: p-value = 0.04299969987944335\n",
      "NULSUSDT and ONTUSDT: p-value = 0.03196111137022372\n",
      "NULSUSDT and ICXUSDT: p-value = 0.03901369346724933\n",
      "NULSUSDT and LINKUSDT: p-value = 0.012186422287252264\n",
      "NULSUSDT and HOTUSDT: p-value = 0.031933895472867214\n",
      "NULSUSDT and ZILUSDT: p-value = 0.03810457583402707\n",
      "NULSUSDT and ZRXUSDT: p-value = 0.0179823297207304\n",
      "NULSUSDT and ZECUSDT: p-value = 0.013198924080022599\n",
      "NULSUSDT and DASHUSDT: p-value = 0.00828248987711659\n",
      "VETUSDT and QTUMUSDT: p-value = 0.0019745343862184166\n",
      "VETUSDT and ADAUSDT: p-value = 0.030800490096153394\n",
      "VETUSDT and XRPUSDT: p-value = 0.007265922030648882\n",
      "VETUSDT and TRXUSDT: p-value = 0.0012923958119772875\n",
      "VETUSDT and ETCUSDT: p-value = 0.04157171841854448\n",
      "VETUSDT and ICXUSDT: p-value = 0.014213652681690583\n",
      "VETUSDT and TFUELUSDT: p-value = 0.00037368781868384716\n",
      "VETUSDT and WAVESUSDT: p-value = 0.01745432582974991\n",
      "VETUSDT and ONGUSDT: p-value = 0.000382114433953837\n",
      "VETUSDT and HOTUSDT: p-value = 0.0014140935811313507\n",
      "VETUSDT and FETUSDT: p-value = 0.029590043977176454\n",
      "VETUSDT and IOSTUSDT: p-value = 0.020009043220607176\n",
      "VETUSDT and THETAUSDT: p-value = 0.002675175469179477\n",
      "TFUELUSDT and BNBUSDT: p-value = 0.023709036529644505\n",
      "TFUELUSDT and NEOUSDT: p-value = 0.001598843964728139\n",
      "TFUELUSDT and QTUMUSDT: p-value = 0.003811340716264874\n",
      "TFUELUSDT and ADAUSDT: p-value = 0.030558404986872727\n",
      "TFUELUSDT and XRPUSDT: p-value = 0.0008218736395146644\n",
      "TFUELUSDT and IOTAUSDT: p-value = 0.011373951732491365\n",
      "TFUELUSDT and TRXUSDT: p-value = 0.0014814852625577896\n",
      "TFUELUSDT and ETCUSDT: p-value = 3.481108210228593e-05\n",
      "TFUELUSDT and VETUSDT: p-value = 0.0012709981794564945\n",
      "TFUELUSDT and WAVESUSDT: p-value = 0.001676723850092972\n",
      "TFUELUSDT and ONGUSDT: p-value = 0.04916696288975387\n",
      "TFUELUSDT and HOTUSDT: p-value = 0.04635174538158995\n",
      "TFUELUSDT and XMRUSDT: p-value = 2.7671874681291975e-05\n",
      "TFUELUSDT and IOSTUSDT: p-value = 0.014749903506887959\n",
      "TFUELUSDT and MITHUSDT: p-value = 0.01425255592989772\n",
      "LINKUSDT and LTCUSDT: p-value = 0.020791074189352887\n",
      "LINKUSDT and ICXUSDT: p-value = 0.012498643109714972\n",
      "LINKUSDT and TFUELUSDT: p-value = 0.029125983830526773\n",
      "LINKUSDT and ZRXUSDT: p-value = 0.003741861773136895\n",
      "WAVESUSDT and ADAUSDT: p-value = 0.0005193115567310859\n",
      "WAVESUSDT and XRPUSDT: p-value = 0.0004803640959424242\n"
     ]
    },
    {
     "name": "stdout",
     "output_type": "stream",
     "text": [
      "WAVESUSDT and TRXUSDT: p-value = 0.011169728777207297\n",
      "WAVESUSDT and VETUSDT: p-value = 0.01568392369144123\n",
      "WAVESUSDT and TFUELUSDT: p-value = 0.00163230740311893\n",
      "WAVESUSDT and ONGUSDT: p-value = 8.89782203659704e-05\n",
      "WAVESUSDT and HOTUSDT: p-value = 0.006923414180555499\n",
      "WAVESUSDT and FETUSDT: p-value = 0.0023848624756069073\n",
      "WAVESUSDT and OMGUSDT: p-value = 0.042239187944367554\n",
      "WAVESUSDT and THETAUSDT: p-value = 0.019079190315282886\n",
      "ONGUSDT and ETHUSDT: p-value = 0.03418164222454857\n",
      "ONGUSDT and BNBUSDT: p-value = 0.009574291195622784\n",
      "ONGUSDT and QTUMUSDT: p-value = 0.022383863688808445\n",
      "ONGUSDT and ADAUSDT: p-value = 0.009979372077112796\n",
      "ONGUSDT and XRPUSDT: p-value = 0.005212552926376693\n",
      "ONGUSDT and IOTAUSDT: p-value = 0.03279373127168102\n",
      "ONGUSDT and TRXUSDT: p-value = 0.0018682625614576144\n",
      "ONGUSDT and VETUSDT: p-value = 0.0014384162716002884\n",
      "ONGUSDT and TFUELUSDT: p-value = 0.03851453444051624\n",
      "ONGUSDT and WAVESUSDT: p-value = 0.00010944247282060756\n",
      "ONGUSDT and HOTUSDT: p-value = 0.009880407045162326\n",
      "ONGUSDT and FETUSDT: p-value = 0.004513827536129792\n",
      "ONGUSDT and ZECUSDT: p-value = 0.025123392163322086\n",
      "ONGUSDT and IOSTUSDT: p-value = 0.04043581713586288\n",
      "ONGUSDT and CELRUSDT: p-value = 0.02844544484061382\n",
      "ONGUSDT and MITHUSDT: p-value = 0.014162854729723371\n",
      "HOTUSDT and BNBUSDT: p-value = 0.00564244312415143\n",
      "HOTUSDT and NEOUSDT: p-value = 0.010630349342222106\n",
      "HOTUSDT and LTCUSDT: p-value = 0.028049883657917562\n",
      "HOTUSDT and QTUMUSDT: p-value = 0.0041877758513618355\n",
      "HOTUSDT and ADAUSDT: p-value = 0.045401387230048315\n",
      "HOTUSDT and XRPUSDT: p-value = 0.000975735960623642\n",
      "HOTUSDT and IOTAUSDT: p-value = 0.0004136196613687451\n",
      "HOTUSDT and TRXUSDT: p-value = 0.002946582581370088\n",
      "HOTUSDT and ETCUSDT: p-value = 0.02303808877214525\n",
      "HOTUSDT and ICXUSDT: p-value = 0.028153734604639862\n",
      "HOTUSDT and VETUSDT: p-value = 0.0004418611937400767\n",
      "HOTUSDT and TFUELUSDT: p-value = 0.0027368821819567725\n",
      "HOTUSDT and WAVESUSDT: p-value = 0.0020270257432382123\n",
      "HOTUSDT and ONGUSDT: p-value = 0.0020743990584519765\n",
      "HOTUSDT and FETUSDT: p-value = 0.013819521769876046\n",
      "HOTUSDT and XMRUSDT: p-value = 0.014738580578817521\n",
      "HOTUSDT and ZECUSDT: p-value = 0.003123979524880504\n",
      "HOTUSDT and IOSTUSDT: p-value = 0.002131481539989573\n",
      "HOTUSDT and CELRUSDT: p-value = 0.022075735889754797\n",
      "HOTUSDT and DASHUSDT: p-value = 0.00823288621501562\n",
      "HOTUSDT and MITHUSDT: p-value = 7.936713044609909e-05\n",
      "ZILUSDT and XLMUSDT: p-value = 7.672489711426052e-05\n",
      "ZILUSDT and ZRXUSDT: p-value = 0.008057535481196832\n",
      "ZILUSDT and DASHUSDT: p-value = 0.007673206504380566\n",
      "ZRXUSDT and LTCUSDT: p-value = 0.031516847170026396\n",
      "ZRXUSDT and IOTAUSDT: p-value = 0.008465189227427125\n",
      "ZRXUSDT and XLMUSDT: p-value = 0.00038129060359230353\n",
      "ZRXUSDT and NULSUSDT: p-value = 0.04368452121591093\n",
      "ZRXUSDT and LINKUSDT: p-value = 0.004383454184476032\n",
      "ZRXUSDT and ZILUSDT: p-value = 0.003984691668472614\n",
      "ZRXUSDT and ZECUSDT: p-value = 0.04013312075248546\n",
      "ZRXUSDT and DASHUSDT: p-value = 0.0086250462137948\n",
      "FETUSDT and ETHUSDT: p-value = 0.0032540805292547393\n",
      "FETUSDT and BNBUSDT: p-value = 0.019920145115272923\n",
      "FETUSDT and QTUMUSDT: p-value = 0.032689877819902784\n",
      "FETUSDT and ADAUSDT: p-value = 0.02432106405151301\n",
      "FETUSDT and XRPUSDT: p-value = 0.01823442210684571\n",
      "FETUSDT and TRXUSDT: p-value = 0.01563092179761576\n",
      "FETUSDT and WAVESUSDT: p-value = 0.006153384549637841\n",
      "FETUSDT and ONGUSDT: p-value = 0.005553681984299838\n",
      "FETUSDT and HOTUSDT: p-value = 0.020139040359795926\n",
      "FETUSDT and IOSTUSDT: p-value = 0.04434214650084812\n",
      "FETUSDT and CELRUSDT: p-value = 0.03697809747917137\n",
      "FETUSDT and OMGUSDT: p-value = 0.011542995984806417\n",
      "FETUSDT and ATOMUSDT: p-value = 0.027478364209476778\n",
      "BATUSDT and ENJUSDT: p-value = 0.01743553454940666\n",
      "BATUSDT and ATOMUSDT: p-value = 0.04449409632942135\n",
      "XMRUSDT and XLMUSDT: p-value = 0.03251315538699641\n",
      "XMRUSDT and TFUELUSDT: p-value = 1.4451917277297382e-05\n",
      "XMRUSDT and ONGUSDT: p-value = 0.046624645218341663\n",
      "XMRUSDT and HOTUSDT: p-value = 0.019729559931751448\n",
      "XMRUSDT and THETAUSDT: p-value = 2.559376638291613e-05\n",
      "ZECUSDT and BTCUSDT: p-value = 0.02118435308769804\n",
      "ZECUSDT and IOTAUSDT: p-value = 0.019511789459702507\n",
      "ZECUSDT and TRXUSDT: p-value = 0.014622540412255206\n",
      "ZECUSDT and ICXUSDT: p-value = 0.005893545239016752\n",
      "ZECUSDT and NULSUSDT: p-value = 0.01731089414458046\n",
      "ZECUSDT and VETUSDT: p-value = 0.000905780214593257\n",
      "ZECUSDT and TFUELUSDT: p-value = 0.024211653945636184\n",
      "ZECUSDT and LINKUSDT: p-value = 0.007415033463255821\n",
      "ZECUSDT and ONGUSDT: p-value = 0.008515691267672742\n",
      "ZECUSDT and HOTUSDT: p-value = 0.005912789318584464\n",
      "ZECUSDT and ZRXUSDT: p-value = 0.018646891956238584\n",
      "ZECUSDT and FETUSDT: p-value = 0.03015593394796931\n",
      "ZECUSDT and XMRUSDT: p-value = 0.01789924547493142\n",
      "ZECUSDT and THETAUSDT: p-value = 0.0036950575034266782\n",
      "ZECUSDT and ENJUSDT: p-value = 0.018319786209498867\n",
      "ZECUSDT and MITHUSDT: p-value = 0.028395922761947454\n",
      "IOSTUSDT and QTUMUSDT: p-value = 0.020741865406909782\n",
      "IOSTUSDT and XRPUSDT: p-value = 0.03905988270154111\n",
      "IOSTUSDT and TRXUSDT: p-value = 0.026746727452408404\n",
      "IOSTUSDT and ICXUSDT: p-value = 4.5223158669256496e-05\n",
      "IOSTUSDT and VETUSDT: p-value = 0.026665228122729732\n",
      "IOSTUSDT and TFUELUSDT: p-value = 0.02236192125267704\n",
      "IOSTUSDT and ONGUSDT: p-value = 0.025705799326407597\n",
      "IOSTUSDT and HOTUSDT: p-value = 0.007756516815858605\n",
      "IOSTUSDT and THETAUSDT: p-value = 0.01743935689496856\n",
      "CELRUSDT and ETHUSDT: p-value = 0.007872740648016813\n",
      "CELRUSDT and BNBUSDT: p-value = 0.02254849881554494\n",
      "CELRUSDT and ADAUSDT: p-value = 0.016611088524813997\n",
      "CELRUSDT and ONEUSDT: p-value = 0.011402486757236546\n",
      "CELRUSDT and ONGUSDT: p-value = 0.032501787908749746\n",
      "CELRUSDT and FETUSDT: p-value = 0.02242819426466384\n",
      "CELRUSDT and MATICUSDT: p-value = 0.00889458364002168\n",
      "DASHUSDT and NEOUSDT: p-value = 0.0034063178504338465\n",
      "DASHUSDT and LTCUSDT: p-value = 0.01203256376561881\n",
      "DASHUSDT and EOSUSDT: p-value = 0.03219891639406335\n",
      "DASHUSDT and XLMUSDT: p-value = 0.0008760793208605381\n",
      "DASHUSDT and ICXUSDT: p-value = 0.004660120960575425\n",
      "DASHUSDT and TFUELUSDT: p-value = 0.009746282146598171\n",
      "DASHUSDT and LINKUSDT: p-value = 0.03058175363018959\n",
      "DASHUSDT and HOTUSDT: p-value = 0.005899775713372494\n",
      "DASHUSDT and ZILUSDT: p-value = 0.001169286660645607\n",
      "DASHUSDT and ZRXUSDT: p-value = 0.0030984488353335135\n",
      "DASHUSDT and IOSTUSDT: p-value = 0.008410923120450449\n",
      "DASHUSDT and THETAUSDT: p-value = 5.738705718600809e-05\n",
      "DASHUSDT and MITHUSDT: p-value = 0.001154620227422109\n",
      "OMGUSDT and ADAUSDT: p-value = 0.0403137300498529\n",
      "OMGUSDT and ONEUSDT: p-value = 0.03421730454969917\n",
      "OMGUSDT and WAVESUSDT: p-value = 0.015900649126265796\n",
      "OMGUSDT and ONGUSDT: p-value = 0.026137943121901284\n",
      "OMGUSDT and FETUSDT: p-value = 0.006276735020553423\n",
      "OMGUSDT and ATOMUSDT: p-value = 0.041179686349500366\n",
      "THETAUSDT and NEOUSDT: p-value = 3.410227932342851e-05\n",
      "THETAUSDT and LTCUSDT: p-value = 0.012873435923293479\n",
      "THETAUSDT and IOTAUSDT: p-value = 0.009828165241064236\n",
      "THETAUSDT and XLMUSDT: p-value = 0.04973710797738839\n",
      "THETAUSDT and TRXUSDT: p-value = 0.026353127491247727\n",
      "THETAUSDT and ETCUSDT: p-value = 0.014946143508758721\n",
      "THETAUSDT and VETUSDT: p-value = 0.006899784131638419\n",
      "THETAUSDT and WAVESUSDT: p-value = 0.024540063212832305\n",
      "THETAUSDT and XMRUSDT: p-value = 3.6721165909726986e-05\n",
      "THETAUSDT and ZECUSDT: p-value = 0.010937393436062776\n",
      "THETAUSDT and IOSTUSDT: p-value = 0.025285293539470507\n",
      "THETAUSDT and DASHUSDT: p-value = 0.0010116577352746023\n",
      "THETAUSDT and MITHUSDT: p-value = 0.0034052294728845606\n",
      "ENJUSDT and BNBUSDT: p-value = 0.007368156045778439\n",
      "ENJUSDT and TRXUSDT: p-value = 0.02452693208448653\n",
      "ENJUSDT and BATUSDT: p-value = 0.015697920396787413\n",
      "ENJUSDT and ATOMUSDT: p-value = 0.01708886115936236\n",
      "MITHUSDT and NEOUSDT: p-value = 0.043700764338980055\n",
      "MITHUSDT and LTCUSDT: p-value = 0.008220798149492028\n",
      "MITHUSDT and QTUMUSDT: p-value = 0.023293007610511056\n",
      "MITHUSDT and IOTAUSDT: p-value = 0.00019474635959132518\n",
      "MITHUSDT and ICXUSDT: p-value = 0.00524555790345928\n",
      "MITHUSDT and VETUSDT: p-value = 0.02553451517053905\n",
      "MITHUSDT and TFUELUSDT: p-value = 0.010239219755689076\n",
      "MITHUSDT and ONGUSDT: p-value = 0.00427198377136346\n",
      "MITHUSDT and HOTUSDT: p-value = 3.5334849552024463e-05\n",
      "MITHUSDT and BATUSDT: p-value = 0.014806455888968138\n",
      "MITHUSDT and ZECUSDT: p-value = 0.032383828576707796\n",
      "MITHUSDT and DASHUSDT: p-value = 0.006560933853022443\n"
     ]
    },
    {
     "name": "stdout",
     "output_type": "stream",
     "text": [
      "MITHUSDT and THETAUSDT: p-value = 0.0006217928037544444\n",
      "MATICUSDT and BNBUSDT: p-value = 0.03431794557039613\n",
      "MATICUSDT and ONEUSDT: p-value = 0.032746298468652416\n",
      "MATICUSDT and CELRUSDT: p-value = 0.037815414702902714\n",
      "ATOMUSDT and ETHUSDT: p-value = 0.014003139677686622\n",
      "ATOMUSDT and ONEUSDT: p-value = 0.0030698077520654433\n",
      "ATOMUSDT and FETUSDT: p-value = 0.03033057537430442\n",
      "ATOMUSDT and BATUSDT: p-value = 0.023245696792688435\n",
      "ATOMUSDT and CELRUSDT: p-value = 0.01721653317572093\n",
      "ATOMUSDT and ENJUSDT: p-value = 0.0074358629487091725\n"
     ]
    }
   ],
   "source": [
    "norm_prices = df.divide(df.iloc[0])\n",
    "\n",
    "plt.figure(figsize = (15, 10))\n",
    "plt.plot(norm_prices)\n",
    "plt.xlabel('days')\n",
    "plt.title('Performance of cryptocurrencies')\n",
    "plt.legend(symbols)\n",
    "plt.show()\n",
    "\n",
    "result_list = []\n",
    "for a1 in df.columns:\n",
    "    for a2 in df.columns:\n",
    "        if a1 != a2:\n",
    "            test_result = ts.coint(df[a1], df[a2])\n",
    "            if test_result[1] < 0.05:\n",
    "                print(a1 + ' and ' + a2 + ': p-value = ' + str(test_result[1]))\n",
    "                result_list.append((a1, a2, test_result[1]))"
   ]
  },
  {
   "cell_type": "code",
   "execution_count": 4,
   "metadata": {},
   "outputs": [],
   "source": [
    "## 等金額\n",
    "import statsmodels.formula.api as sm\n",
    "import statsmodels.tsa.stattools as ts\n",
    "\n",
    "def z_score(yport):\n",
    "    zscore = (yport[-1]  - yport.mean()) / yport.std()\n",
    "    return zscore\n",
    "\n",
    "def forwardStopLoss(ANewPrice, BNewPrice, aPos, bPos):\n",
    "    \"\"\"(0,2)\"\"\"\n",
    "    pass\n",
    "\n",
    "def backwardStopLoss(ANewPrice, BNewPrice, aPos, bPos):\n",
    "    \"\"\"(0,-2)\"\"\"\n",
    "    pass\n",
    "\n",
    "def stopLossForward(ANewPrice, BNewPrice, aPos, bPos):\n",
    "    \"\"\"(2, 0)\"\"\"\n",
    "    pass\n",
    "\n",
    "def stopLossBackward(ANewPrice, BNewPrice, aPos, bPos):\n",
    "    \"\"\"(-2, 0)\"\"\"\n",
    "    pass\n",
    "\n",
    "def backwardForward(ANewPrice, BNewPrice, aPos, bPos):\n",
    "    \"\"\"(-2, 2)\"\"\"\n",
    "    pass\n",
    "\n",
    "def forwardBackward(ANewPrice, BNewPrice, aPos, bPos):\n",
    "    \"\"\"(2, -2)\"\"\"\n",
    "    pass\n",
    "\n",
    "def forwardBackwardEntry(ANewPrice, BNewPrice, aPos, bPos):\n",
    "    \"\"\"\n",
    "    statusList = (2, -1)\n",
    "    long B \n",
    "    short A  \n",
    "    \"\"\"\n",
    "    global init\n",
    "    global AOldOrderPrice\n",
    "    global BOldOrderPrice\n",
    "#     aTotal = init/(abs(aPos) + abs(bPos))\n",
    "#     bTotal = aTotal * abs(bPos)\n",
    "    aTotal, bTotal = init/2, init/2\n",
    "    balanceDict['A']['available'] -=  aTotal\n",
    "    balanceDict['A']['position'] += -aTotal/ANewPrice\n",
    "    balanceDict['B']['available'] -= bTotal\n",
    "    balanceDict['B']['position'] += bTotal/BNewPrice\n",
    "    init -=(aTotal + bTotal)\n",
    "    AOldOrderPrice = ANewPrice\n",
    "    BOldOrderPrice = BNewPrice\n",
    "    \n",
    "def backwardForwardEntry(ANewPrice, BNewPrice, aPos, bPos):\n",
    "    \"\"\"\n",
    "    statusList = (-2, 1)\n",
    "    long A \n",
    "    short B    \n",
    "    \"\"\"\n",
    "    global init\n",
    "    global AOldOrderPrice\n",
    "    global BOldOrderPrice\n",
    "#     aTotal = init/(abs(aPos) + abs(bPos))\n",
    "#     bTotal = aTotal * abs(bPos)\n",
    "    aTotal, bTotal = init/2, init/2\n",
    "    balanceDict['A']['available'] -=  aTotal\n",
    "    balanceDict['A']['position'] += aTotal/ANewPrice\n",
    "    balanceDict['B']['available'] -= bTotal\n",
    "    balanceDict['B']['position'] += -bTotal/BNewPrice\n",
    "    init -=(aTotal + bTotal)\n",
    "    AOldOrderPrice = ANewPrice\n",
    "    BOldOrderPrice = BNewPrice\n",
    "\n",
    "def forwardStopLossEntry(ANewPrice, BNewPrice, aPos, bPos):\n",
    "    \"\"\"\n",
    "    statusList = (2,1)\n",
    "    long A \n",
    "    short B    \n",
    "    \"\"\"\n",
    "    global init\n",
    "    global AOldOrderPrice\n",
    "    global BOldOrderPrice\n",
    "#     aTotal = init/(abs(aPos) + abs(bPos))\n",
    "#     bTotal = aTotal * abs(bPos)\n",
    "    aTotal, bTotal = init/2, init/2\n",
    "    balanceDict['A']['available'] -=  aTotal\n",
    "    balanceDict['A']['position'] += -aTotal/ANewPrice\n",
    "    balanceDict['B']['available'] -= bTotal\n",
    "    balanceDict['B']['position'] += bTotal/BNewPrice\n",
    "    init -=(aTotal + bTotal)\n",
    "    AOldOrderPrice = ANewPrice\n",
    "    BOldOrderPrice = BNewPrice\n",
    "\n",
    "def backwardStopLossEntry(ANewPrice, BNewPrice, aPos, bPos):\n",
    "    \"\"\"\n",
    "    statusList = (-2,-1)\n",
    "    long B \n",
    "    short A    \n",
    "    \"\"\"\n",
    "    global init\n",
    "    global AOldOrderPrice\n",
    "    global BOldOrderPrice\n",
    "#     aTotal = init/(abs(aPos) + abs(bPos))\n",
    "#     bTotal = aTotal * abs(bPos)\n",
    "    aTotal, bTotal = init/2, init/2\n",
    "    balanceDict['A']['available'] -=  aTotal\n",
    "    balanceDict['A']['position'] += aTotal/ANewPrice\n",
    "    balanceDict['B']['available'] -= bTotal\n",
    "    balanceDict['B']['position'] += -bTotal/BNewPrice\n",
    "    init -=(aTotal + bTotal)\n",
    "    AOldOrderPrice = ANewPrice\n",
    "    BOldOrderPrice = BNewPrice\n",
    "    \n",
    "def forwardEntryToStopLoss(ANewPrice, BNewPrice, aPos, bPos):\n",
    "    \"\"\"\n",
    "    statusList = (1, 2)\n",
    "    long A \n",
    "    short B\n",
    "    close the position\n",
    "    \"\"\"\n",
    "    global init\n",
    "    global AOldOrderPrice\n",
    "    global BOldOrderPrice\n",
    "    \n",
    "    balanceDict['A']['available'] += abs(balanceDict['A']['position']) * (ANewPrice - AOldOrderPrice + AOldOrderPrice) \n",
    "    balanceDict['A']['position'] -= balanceDict['A']['position']\n",
    "    balanceDict['B']['available'] += abs(balanceDict['B']['position']) * (BOldOrderPrice - BNewPrice + BOldOrderPrice)\n",
    "    balanceDict['B']['position'] -= balanceDict['B']['position']  \n",
    "    init = balanceDict['A']['available'] + balanceDict['B']['available']\n",
    "    AOldOrderPrice = ANewPrice\n",
    "    BOldOrderPrice = BNewPrice  \n",
    "    \n",
    "def backwardEntryToStopLoss(ANewPrice, BNewPrice, aPos, bPos):\n",
    "    \"\"\"\n",
    "    statusList = (-1,-2)\n",
    "    long B \n",
    "    short A\n",
    "    close the position  \n",
    "    \"\"\"\n",
    "    global init\n",
    "    global AOldOrderPrice\n",
    "    global BOldOrderPrice\n",
    "    balanceDict['A']['available'] += abs(balanceDict['A']['position']) * (AOldOrderPrice - ANewPrice + AOldOrderPrice)\n",
    "    balanceDict['A']['position'] -= balanceDict['A']['position']\n",
    "    balanceDict['B']['available'] += abs(balanceDict['B']['position']) * (BNewPrice - BOldOrderPrice + BOldOrderPrice)\n",
    "    balanceDict['B']['position'] -= balanceDict['B']['position'] \n",
    "    init = balanceDict['A']['available'] + balanceDict['B']['available']\n",
    "    AOldOrderPrice = ANewPrice\n",
    "    BOldOrderPrice = BNewPrice \n",
    "    \n",
    "def upToOut(ANewPrice, BNewPrice, aPos, bPos):\n",
    "    \"\"\"\n",
    "    statusList = (1,0)\n",
    "    long A \n",
    "    short B\n",
    "    close the position\n",
    "    \"\"\"\n",
    "    global init\n",
    "    global AOldOrderPrice\n",
    "    global BOldOrderPrice\n",
    "    \n",
    "    balanceDict['A']['available'] += abs(balanceDict['A']['position']) * (ANewPrice - AOldOrderPrice + AOldOrderPrice) \n",
    "    balanceDict['A']['position'] -= balanceDict['A']['position']\n",
    "    balanceDict['B']['available'] += abs(balanceDict['B']['position']) * (BOldOrderPrice - BNewPrice + BOldOrderPrice)\n",
    "    balanceDict['B']['position'] -= balanceDict['B']['position']  \n",
    "    init = balanceDict['A']['available'] + balanceDict['B']['available']\n",
    "    AOldOrderPrice = ANewPrice\n",
    "    BOldOrderPrice = BNewPrice    \n",
    "    \n",
    "def upToDown(ANewPrice, BNewPrice, aPos, bPos):\n",
    "    \"\"\"\n",
    "    statusList = (1,-1)\n",
    "    long A \n",
    "    short B\n",
    "    close the position\n",
    "    long B \n",
    "    short A\n",
    "    \"\"\"\n",
    "    global init\n",
    "    global AOldOrderPrice\n",
    "    global BOldOrderPrice\n",
    "    balanceDict['A']['available'] += abs(balanceDict['A']['position']) * (ANewPrice - AOldOrderPrice + AOldOrderPrice) \n",
    "    balanceDict['A']['position'] -= balanceDict['A']['position']\n",
    "    balanceDict['B']['available'] += abs(balanceDict['B']['position']) * (BOldOrderPrice - BNewPrice + BOldOrderPrice)\n",
    "    balanceDict['B']['position'] -= balanceDict['B']['position']  \n",
    "    init = balanceDict['A']['available'] + balanceDict['B']['available'] \n",
    "    AOldOrderPrice = ANewPrice\n",
    "    BOldOrderPrice = BNewPrice     \n",
    "\n",
    "#     aTotal = init/(abs(aPos) + abs(bPos))\n",
    "#     bTotal = aTotal * abs(bPos)\n",
    "    aTotal, bTotal = init/2, init/2\n",
    "    balanceDict['A']['available'] -=  aTotal\n",
    "    balanceDict['A']['position'] += aTotal/ANewPrice\n",
    "    balanceDict['B']['available'] -= bTotal\n",
    "    balanceDict['B']['position'] += -bTotal/BNewPrice\n",
    "    init -=(aTotal + bTotal)\n",
    "    AOldOrderPrice = ANewPrice\n",
    "    BOldOrderPrice = BNewPrice\n",
    "    \n",
    "def outToUp(ANewPrice, BNewPrice, aPos, bPos):\n",
    "    \"\"\"\n",
    "    statusList = (0,1)\n",
    "    long A \n",
    "    short B\n",
    "    \"\"\"\n",
    "    global init\n",
    "    global AOldOrderPrice\n",
    "    global BOldOrderPrice\n",
    "    \n",
    "#     aTotal = init/(abs(aPos) + abs(bPos))\n",
    "#     bTotal = aTotal * abs(bPos)\n",
    "    aTotal, bTotal = init/2, init/2\n",
    "    balanceDict['A']['available'] -=  aTotal\n",
    "    balanceDict['A']['position'] += -aTotal/ANewPrice\n",
    "    balanceDict['B']['available'] -= bTotal\n",
    "    balanceDict['B']['position'] += bTotal/BNewPrice\n",
    "    init -=(aTotal + bTotal)\n",
    "    AOldOrderPrice = ANewPrice\n",
    "    BOldOrderPrice = BNewPrice\n",
    "    \n",
    "def outToDown(ANewPrice, BNewPrice, aPos, bPos):\n",
    "    \"\"\"\n",
    "    statusList = (0,-1)\n",
    "    long B \n",
    "    short A\n",
    "    \"\"\"\n",
    "    global init\n",
    "    global AOldOrderPrice\n",
    "    global BOldOrderPrice\n",
    "    \n",
    "#     aTotal = init/(abs(aPos) + abs(bPos))\n",
    "#     bTotal = aTotal * abs(bPos)\n",
    "    aTotal, bTotal = init/2, init/2\n",
    "    balanceDict['A']['available'] -=  aTotal\n",
    "    balanceDict['A']['position'] += aTotal/ANewPrice\n",
    "    balanceDict['B']['available'] -= bTotal\n",
    "    balanceDict['B']['position'] += -bTotal/BNewPrice\n",
    "    init -=(aTotal + bTotal)\n",
    "    AOldOrderPrice = ANewPrice\n",
    "    BOldOrderPrice = BNewPrice\n",
    "    \n",
    "def downToOut(ANewPrice, BNewPrice, aPos, bPos):\n",
    "    \"\"\"\n",
    "    statusList = (-1,0)\n",
    "    long B \n",
    "    short A\n",
    "    close the position\n",
    "    \"\"\"\n",
    "    global init\n",
    "    global AOldOrderPrice\n",
    "    global BOldOrderPrice\n",
    "    balanceDict['A']['available'] += abs(balanceDict['A']['position']) * (AOldOrderPrice - ANewPrice + AOldOrderPrice)\n",
    "    balanceDict['A']['position'] -= balanceDict['A']['position']\n",
    "    balanceDict['B']['available'] += abs(balanceDict['B']['position']) * (BNewPrice - BOldOrderPrice + BOldOrderPrice)\n",
    "    balanceDict['B']['position'] -= balanceDict['B']['position'] \n",
    "    init = balanceDict['A']['available'] + balanceDict['B']['available']\n",
    "    AOldOrderPrice = ANewPrice\n",
    "    BOldOrderPrice = BNewPrice\n",
    "    \n",
    "def downToUp(ANewPrice, BNewPrice, aPos, bPos):\n",
    "    \"\"\"\n",
    "    statusList = (-1,1)\n",
    "    long B \n",
    "    short A\n",
    "    close the position\n",
    "    long A \n",
    "    short B\n",
    "    \"\"\"\n",
    "    global init\n",
    "    global AOldOrderPrice\n",
    "    global BOldOrderPrice\n",
    "    balanceDict['A']['available'] += abs(balanceDict['A']['position']) * (AOldOrderPrice - ANewPrice + AOldOrderPrice)\n",
    "    balanceDict['A']['position'] -= balanceDict['A']['position']\n",
    "    balanceDict['B']['available'] += abs(balanceDict['B']['position']) * (BNewPrice - BOldOrderPrice + BOldOrderPrice)\n",
    "    balanceDict['B']['position'] -= balanceDict['B']['position'] \n",
    "    init = balanceDict['A']['available'] + balanceDict['B']['available']  \n",
    "    AOldOrderPrice = ANewPrice\n",
    "    BOldOrderPrice = BNewPrice\n",
    "    \n",
    "#     aTotal = init/(abs(aPos) + abs(bPos))\n",
    "#     bTotal = aTotal * abs(bPos)\n",
    "    aTotal, bTotal = init/2, init/2\n",
    "    balanceDict['A']['available'] -=  aTotal\n",
    "    balanceDict['A']['position'] += -aTotal/ANewPrice\n",
    "    balanceDict['B']['available'] -= bTotal\n",
    "    balanceDict['B']['position'] += bTotal/BNewPrice\n",
    "    init -=(aTotal + bTotal)\n",
    "    AOldOrderPrice = ANewPrice\n",
    "    BOldOrderPrice = BNewPrice\n",
    "\n",
    "\n",
    "strategy = {(1,0): upToOut, \n",
    "            (1,-1):upToDown,\n",
    "            (0,1): outToUp,\n",
    "            (0,-1):outToDown,\n",
    "            (-1,0):downToOut,\n",
    "            (-1,1):downToUp, \n",
    "            (0,2): forwardStopLoss, \n",
    "            (0,-2): backwardStopLoss, \n",
    "            (2,1) : forwardStopLossEntry,\n",
    "            (-2,-1) : backwardStopLossEntry, \n",
    "            (1, 2) : forwardEntryToStopLoss, \n",
    "            (-1,-2) : backwardEntryToStopLoss, \n",
    "            (2, 0) : stopLossForward, \n",
    "            (-2, 0) : stopLossBackward, \n",
    "            (-2, 2) : backwardForward, \n",
    "            (2, -2) : forwardBackward, \n",
    "            (2, -1) : forwardBackwardEntry, \n",
    "            (-2, 1) : backwardForwardEntry}    "
   ]
  },
  {
   "cell_type": "markdown",
   "metadata": {},
   "source": [
    "# stop limit"
   ]
  },
  {
   "cell_type": "code",
   "execution_count": 7,
   "metadata": {
    "collapsed": true
   },
   "outputs": [
    {
     "name": "stdout",
     "output_type": "stream",
     "text": [
      "[pair trade]ETHUSDT-BNBUSDT 0.12179935%\n",
      "[pair trade]ETHUSDT-FETUSDT 13.17686303%\n",
      "[pair trade]ETHUSDT-ATOMUSDT -5.92823383%\n",
      "[pair trade]BNBUSDT-ETHUSDT -7.72908620%\n",
      "[pair trade]BNBUSDT-ONEUSDT -32.84542599%\n",
      "[pair trade]BNBUSDT-TFUELUSDT 86.30617272%\n",
      "[pair trade]BNBUSDT-ONGUSDT -94.31851451%\n",
      "[pair trade]BNBUSDT-HOTUSDT 99.66977627%\n",
      "[pair trade]BNBUSDT-FETUSDT -4.78158316%\n",
      "[pair trade]BNBUSDT-CELRUSDT 17.86508005%\n",
      "[pair trade]BNBUSDT-ENJUSDT 35.84260211%\n",
      "[pair trade]BNBUSDT-MATICUSDT 102.02242003%\n",
      "[pair trade]NEOUSDT-TFUELUSDT 47.15471963%\n",
      "[pair trade]NEOUSDT-HOTUSDT 73.67040244%\n",
      "[pair trade]NEOUSDT-ZILUSDT 20.66005196%\n",
      "[pair trade]NEOUSDT-THETAUSDT -31.86101930%\n",
      "[pair trade]LTCUSDT-BTCUSDT 2.53419312%\n",
      "[pair trade]LTCUSDT-IOTAUSDT -16.16037041%\n",
      "[pair trade]LTCUSDT-XLMUSDT 29.33907644%\n",
      "[pair trade]LTCUSDT-LINKUSDT -13.34806811%\n",
      "[pair trade]LTCUSDT-HOTUSDT 9.26789582%\n",
      "[pair trade]LTCUSDT-DASHUSDT -7.95168102%\n",
      "[pair trade]LTCUSDT-THETAUSDT 66.03636236%\n",
      "[pair trade]QTUMUSDT-XRPUSDT -59.82235692%\n",
      "[pair trade]QTUMUSDT-IOTAUSDT 16.58471291%\n",
      "[pair trade]QTUMUSDT-TRXUSDT -31.20506761%\n",
      "[pair trade]QTUMUSDT-VETUSDT 42.24773792%\n",
      "[pair trade]QTUMUSDT-TFUELUSDT 48.89738140%\n",
      "[pair trade]QTUMUSDT-ONGUSDT 37.95433038%\n",
      "[pair trade]QTUMUSDT-HOTUSDT -22.68824081%\n",
      "[pair trade]QTUMUSDT-FETUSDT -7.35171578%\n",
      "[pair trade]QTUMUSDT-IOSTUSDT 10.78412678%\n",
      "[pair trade]QTUMUSDT-THETAUSDT 27.28960788%\n",
      "[pair trade]QTUMUSDT-MITHUSDT -76.66123662%\n",
      "[pair trade]ADAUSDT-XRPUSDT 8.08236381%\n",
      "[pair trade]ADAUSDT-TRXUSDT 27.68961384%\n",
      "[pair trade]ADAUSDT-ETCUSDT -15.55415005%\n",
      "[pair trade]ADAUSDT-TFUELUSDT 12.74423704%\n",
      "[pair trade]ADAUSDT-WAVESUSDT 5.02744824%\n",
      "[pair trade]ADAUSDT-ONGUSDT -36.73384471%\n",
      "[pair trade]ADAUSDT-FETUSDT 38.77762957%\n",
      "[pair trade]XRPUSDT-ETHUSDT 27.85414508%\n",
      "[pair trade]XRPUSDT-QTUMUSDT -63.78580914%\n",
      "[pair trade]XRPUSDT-ADAUSDT 45.11784570%\n",
      "[pair trade]XRPUSDT-TRXUSDT -29.73181461%\n",
      "[pair trade]XRPUSDT-ETCUSDT -0.92971520%\n",
      "[pair trade]XRPUSDT-VETUSDT -28.31966152%\n",
      "[pair trade]XRPUSDT-TFUELUSDT -51.41828208%\n",
      "[pair trade]XRPUSDT-WAVESUSDT -42.11218687%\n",
      "[pair trade]XRPUSDT-ONGUSDT -19.42273144%\n",
      "[pair trade]XRPUSDT-HOTUSDT 2.39955295%\n",
      "[pair trade]XRPUSDT-FETUSDT 4.71280412%\n",
      "[pair trade]XRPUSDT-IOSTUSDT -39.29558753%\n",
      "[pair trade]XRPUSDT-CELRUSDT 62.74997753%\n",
      "[pair trade]XRPUSDT-OMGUSDT 13.36750458%\n",
      "[pair trade]XRPUSDT-THETAUSDT 26.09302911%\n",
      "[pair trade]EOSUSDT-NEOUSDT -49.56511670%\n",
      "[pair trade]EOSUSDT-DASHUSDT -29.29526179%\n",
      "[pair trade]EOSUSDT-THETAUSDT 20.89208221%\n",
      "[pair trade]EOSUSDT-MITHUSDT -22.06749861%\n",
      "[pair trade]ONEUSDT-ETHUSDT -18.03489407%\n",
      "[pair trade]ONEUSDT-BNBUSDT 6.22177903%\n",
      "[pair trade]ONEUSDT-CELRUSDT -39.70127680%\n",
      "[pair trade]ONEUSDT-MATICUSDT -47.88826510%\n",
      "[pair trade]ONEUSDT-ATOMUSDT -6.30974444%\n",
      "[pair trade]IOTAUSDT-LTCUSDT -2.86434259%\n",
      "[pair trade]IOTAUSDT-TFUELUSDT 153.28016032%\n",
      "[pair trade]IOTAUSDT-ONGUSDT -53.06545885%\n",
      "[pair trade]IOTAUSDT-HOTUSDT -1.80786170%\n",
      "[pair trade]IOTAUSDT-XMRUSDT -5.09152719%\n",
      "[pair trade]IOTAUSDT-THETAUSDT 88.68536150%\n",
      "[pair trade]IOTAUSDT-MITHUSDT -36.81279906%\n",
      "[pair trade]XLMUSDT-LTCUSDT 21.28029291%\n",
      "[pair trade]XLMUSDT-ICXUSDT 8.63505861%\n",
      "[pair trade]XLMUSDT-ZILUSDT -39.66941185%\n",
      "[pair trade]XLMUSDT-ZRXUSDT 36.57230270%\n",
      "[pair trade]XLMUSDT-XMRUSDT 7.54852407%\n",
      "[pair trade]XLMUSDT-IOSTUSDT 23.12029696%\n",
      "[pair trade]ONTUSDT-NEOUSDT -18.50376107%\n",
      "[pair trade]ONTUSDT-THETAUSDT 85.95875238%\n",
      "[pair trade]TRXUSDT-QTUMUSDT -35.56569930%\n",
      "[pair trade]TRXUSDT-ADAUSDT 51.44569306%\n",
      "[pair trade]TRXUSDT-XRPUSDT -31.26394188%\n",
      "[pair trade]TRXUSDT-ETCUSDT -1.92057131%\n",
      "[pair trade]TRXUSDT-VETUSDT -27.66155067%\n",
      "[pair trade]TRXUSDT-TFUELUSDT 10.56498753%\n",
      "[pair trade]TRXUSDT-WAVESUSDT 10.13364412%\n",
      "[pair trade]TRXUSDT-ONGUSDT -16.83932646%\n",
      "[pair trade]TRXUSDT-HOTUSDT -18.44062065%\n",
      "[pair trade]TRXUSDT-FETUSDT -33.24073149%\n",
      "[pair trade]TRXUSDT-THETAUSDT 8.48727580%\n",
      "[pair trade]TRXUSDT-ENJUSDT -33.63450594%\n",
      "[pair trade]ETCUSDT-BNBUSDT -23.56900092%\n",
      "[pair trade]ETCUSDT-QTUMUSDT 100.92385488%\n",
      "[pair trade]ETCUSDT-ADAUSDT -38.66790949%\n",
      "[pair trade]ETCUSDT-XRPUSDT -32.40467325%\n",
      "[pair trade]ETCUSDT-TRXUSDT -11.43806928%\n",
      "[pair trade]ETCUSDT-VETUSDT 14.05951138%\n",
      "[pair trade]ETCUSDT-TFUELUSDT 87.03957979%\n",
      "[pair trade]ETCUSDT-HOTUSDT -0.01198478%\n",
      "[pair trade]ETCUSDT-FETUSDT -7.50245218%\n",
      "[pair trade]ETCUSDT-IOSTUSDT -6.52891217%\n",
      "[pair trade]ETCUSDT-THETAUSDT 92.76255134%\n",
      "[pair trade]ICXUSDT-IOTAUSDT -21.41486683%\n",
      "[pair trade]ICXUSDT-XLMUSDT 6.75681175%\n",
      "[pair trade]ICXUSDT-VETUSDT -32.49238056%\n",
      "[pair trade]ICXUSDT-LINKUSDT -40.04840683%\n",
      "[pair trade]ICXUSDT-ZECUSDT -57.09366037%\n",
      "[pair trade]ICXUSDT-IOSTUSDT -47.37810869%\n",
      "[pair trade]ICXUSDT-DASHUSDT -38.46100944%\n",
      "[pair trade]ICXUSDT-MITHUSDT -48.05458838%\n",
      "[pair trade]NULSUSDT-NEOUSDT 7.75623806%\n",
      "[pair trade]NULSUSDT-LTCUSDT 6.57466546%\n",
      "[pair trade]NULSUSDT-IOTAUSDT 32.26958750%\n",
      "[pair trade]NULSUSDT-ONTUSDT -8.94955067%\n",
      "[pair trade]NULSUSDT-ICXUSDT 72.71581236%\n",
      "[pair trade]NULSUSDT-LINKUSDT 161.52530960%\n",
      "[pair trade]NULSUSDT-HOTUSDT -38.43376430%\n",
      "[pair trade]NULSUSDT-ZILUSDT 4.27367597%\n",
      "[pair trade]NULSUSDT-ZRXUSDT 28.89167254%\n",
      "[pair trade]NULSUSDT-ZECUSDT -47.43910781%\n",
      "[pair trade]NULSUSDT-DASHUSDT 52.15259754%\n",
      "[pair trade]VETUSDT-QTUMUSDT 13.19598064%\n",
      "[pair trade]VETUSDT-ADAUSDT -17.42224454%\n",
      "[pair trade]VETUSDT-XRPUSDT -26.09060512%\n",
      "[pair trade]VETUSDT-TRXUSDT -7.68184980%\n",
      "[pair trade]VETUSDT-ETCUSDT 26.28478171%\n",
      "[pair trade]VETUSDT-ICXUSDT -14.03224425%\n",
      "[pair trade]VETUSDT-TFUELUSDT 162.94588481%\n",
      "[pair trade]VETUSDT-WAVESUSDT 3.24868055%\n",
      "[pair trade]VETUSDT-ONGUSDT 185.01724625%\n",
      "[pair trade]VETUSDT-HOTUSDT -17.00474689%\n",
      "[pair trade]VETUSDT-FETUSDT -32.57133464%\n",
      "[pair trade]VETUSDT-IOSTUSDT -23.12913285%\n",
      "[pair trade]VETUSDT-THETAUSDT 91.21798725%\n",
      "[pair trade]TFUELUSDT-BNBUSDT 63.04927950%\n",
      "[pair trade]TFUELUSDT-NEOUSDT 119.08033690%\n",
      "[pair trade]TFUELUSDT-QTUMUSDT 34.39430137%\n",
      "[pair trade]TFUELUSDT-ADAUSDT 53.25320434%\n",
      "[pair trade]TFUELUSDT-XRPUSDT -66.39151952%\n",
      "[pair trade]TFUELUSDT-IOTAUSDT 137.37329555%\n",
      "[pair trade]TFUELUSDT-TRXUSDT 0.11973088%\n",
      "[pair trade]TFUELUSDT-ETCUSDT 87.59443800%\n",
      "[pair trade]TFUELUSDT-VETUSDT 30.68338350%\n",
      "[pair trade]TFUELUSDT-WAVESUSDT -37.15279256%\n",
      "[pair trade]TFUELUSDT-ONGUSDT -30.61772416%\n",
      "[pair trade]TFUELUSDT-HOTUSDT 42.46130666%\n",
      "[pair trade]TFUELUSDT-XMRUSDT -12.22109515%\n",
      "[pair trade]TFUELUSDT-IOSTUSDT -22.46420567%\n",
      "[pair trade]TFUELUSDT-MITHUSDT -52.39474045%\n",
      "[pair trade]LINKUSDT-LTCUSDT -6.93647307%\n",
      "[pair trade]LINKUSDT-ICXUSDT -49.50616520%\n",
      "[pair trade]LINKUSDT-TFUELUSDT 66.52994791%\n",
      "[pair trade]LINKUSDT-ZRXUSDT -56.93718745%\n",
      "[pair trade]WAVESUSDT-ADAUSDT 0.52044309%\n",
      "[pair trade]WAVESUSDT-XRPUSDT -32.06118978%\n",
      "[pair trade]WAVESUSDT-TRXUSDT -42.41204740%\n",
      "[pair trade]WAVESUSDT-VETUSDT -44.19678659%\n",
      "[pair trade]WAVESUSDT-TFUELUSDT -30.62077247%\n",
      "[pair trade]WAVESUSDT-ONGUSDT -78.33689812%\n",
      "[pair trade]WAVESUSDT-HOTUSDT 128.25726377%\n",
      "[pair trade]WAVESUSDT-FETUSDT 41.17078463%\n",
      "[pair trade]WAVESUSDT-OMGUSDT 6.64450504%\n",
      "[pair trade]WAVESUSDT-THETAUSDT -39.35189693%\n",
      "[pair trade]ONGUSDT-ETHUSDT -76.75074090%\n",
      "[pair trade]ONGUSDT-BNBUSDT -94.66456786%\n",
      "[pair trade]ONGUSDT-QTUMUSDT 28.66419024%\n",
      "[pair trade]ONGUSDT-ADAUSDT -38.32634003%\n",
      "[pair trade]ONGUSDT-XRPUSDT -57.04052385%\n",
      "[pair trade]ONGUSDT-IOTAUSDT -44.91417038%\n",
      "[pair trade]ONGUSDT-TRXUSDT -3.58890877%\n",
      "[pair trade]ONGUSDT-VETUSDT 177.75304538%\n",
      "[pair trade]ONGUSDT-TFUELUSDT -6.50698776%\n",
      "[pair trade]ONGUSDT-WAVESUSDT -85.71151316%\n",
      "[pair trade]ONGUSDT-HOTUSDT -4.02422800%\n",
      "[pair trade]ONGUSDT-FETUSDT -17.67087209%\n",
      "[pair trade]ONGUSDT-ZECUSDT -22.19401765%\n",
      "[pair trade]ONGUSDT-IOSTUSDT -49.45331394%\n",
      "[pair trade]ONGUSDT-CELRUSDT 0.61339189%\n",
      "[pair trade]ONGUSDT-MITHUSDT -25.49240810%\n",
      "[pair trade]HOTUSDT-BNBUSDT 48.45440316%\n",
      "[pair trade]HOTUSDT-NEOUSDT 47.59881383%\n",
      "[pair trade]HOTUSDT-LTCUSDT -10.96108903%\n",
      "[pair trade]HOTUSDT-QTUMUSDT -50.43822379%\n",
      "[pair trade]HOTUSDT-ADAUSDT -2.88963949%\n",
      "[pair trade]HOTUSDT-XRPUSDT 8.88777516%\n",
      "[pair trade]HOTUSDT-IOTAUSDT -18.38972741%\n",
      "[pair trade]HOTUSDT-TRXUSDT -5.42938365%\n",
      "[pair trade]HOTUSDT-ETCUSDT 2.14927184%\n",
      "[pair trade]HOTUSDT-ICXUSDT 6.68394232%\n",
      "[pair trade]HOTUSDT-VETUSDT -43.39324271%\n",
      "[pair trade]HOTUSDT-TFUELUSDT -33.61702587%\n",
      "[pair trade]HOTUSDT-WAVESUSDT 98.11763496%\n",
      "[pair trade]HOTUSDT-ONGUSDT -42.67870648%\n"
     ]
    },
    {
     "name": "stdout",
     "output_type": "stream",
     "text": [
      "[pair trade]HOTUSDT-FETUSDT -10.34682428%\n",
      "[pair trade]HOTUSDT-XMRUSDT 29.18299991%\n",
      "[pair trade]HOTUSDT-ZECUSDT 15.36988703%\n",
      "[pair trade]HOTUSDT-IOSTUSDT -37.14585718%\n",
      "[pair trade]HOTUSDT-CELRUSDT -48.86936570%\n",
      "[pair trade]HOTUSDT-DASHUSDT -10.26812941%\n",
      "[pair trade]HOTUSDT-MITHUSDT -32.66778334%\n",
      "[pair trade]ZILUSDT-XLMUSDT 19.01200459%\n",
      "[pair trade]ZILUSDT-ZRXUSDT 3.49637439%\n",
      "[pair trade]ZILUSDT-DASHUSDT -46.50189094%\n",
      "[pair trade]ZRXUSDT-LTCUSDT 25.63968484%\n",
      "[pair trade]ZRXUSDT-IOTAUSDT 9.75667732%\n",
      "[pair trade]ZRXUSDT-XLMUSDT 24.79301602%\n",
      "[pair trade]ZRXUSDT-NULSUSDT 3.29225593%\n",
      "[pair trade]ZRXUSDT-LINKUSDT -30.53449710%\n",
      "[pair trade]ZRXUSDT-ZILUSDT -3.56281084%\n",
      "[pair trade]ZRXUSDT-ZECUSDT -13.25572460%\n",
      "[pair trade]ZRXUSDT-DASHUSDT -38.96689514%\n",
      "[pair trade]FETUSDT-ETHUSDT 14.01806517%\n",
      "[pair trade]FETUSDT-BNBUSDT -1.24845126%\n",
      "[pair trade]FETUSDT-QTUMUSDT 32.48309268%\n",
      "[pair trade]FETUSDT-ADAUSDT 66.26715181%\n",
      "[pair trade]FETUSDT-XRPUSDT -18.56141785%\n",
      "[pair trade]FETUSDT-TRXUSDT -34.52459631%\n",
      "[pair trade]FETUSDT-WAVESUSDT 11.52055065%\n",
      "[pair trade]FETUSDT-ONGUSDT -18.74813485%\n",
      "[pair trade]FETUSDT-HOTUSDT -15.02097038%\n",
      "[pair trade]FETUSDT-IOSTUSDT -49.37105955%\n",
      "[pair trade]FETUSDT-CELRUSDT -63.54013364%\n",
      "[pair trade]FETUSDT-OMGUSDT -21.57706796%\n",
      "[pair trade]FETUSDT-ATOMUSDT 28.81770974%\n",
      "[pair trade]BATUSDT-ENJUSDT -15.38039831%\n",
      "[pair trade]BATUSDT-ATOMUSDT 44.49434722%\n",
      "[pair trade]XMRUSDT-XLMUSDT 5.63941638%\n",
      "[pair trade]XMRUSDT-TFUELUSDT -24.25110423%\n",
      "[pair trade]XMRUSDT-ONGUSDT -5.94102149%\n",
      "[pair trade]XMRUSDT-HOTUSDT 86.10665630%\n",
      "[pair trade]XMRUSDT-THETAUSDT -40.09987663%\n",
      "[pair trade]ZECUSDT-BTCUSDT 18.68576187%\n",
      "[pair trade]ZECUSDT-IOTAUSDT -43.40201340%\n",
      "[pair trade]ZECUSDT-TRXUSDT -41.68843281%\n",
      "[pair trade]ZECUSDT-ICXUSDT -50.94751936%\n",
      "[pair trade]ZECUSDT-NULSUSDT 24.92854336%\n",
      "[pair trade]ZECUSDT-VETUSDT -23.19062091%\n",
      "[pair trade]ZECUSDT-TFUELUSDT 58.03220091%\n",
      "[pair trade]ZECUSDT-LINKUSDT -33.50339097%\n",
      "[pair trade]ZECUSDT-ONGUSDT -31.66813162%\n",
      "[pair trade]ZECUSDT-HOTUSDT 17.86875687%\n",
      "[pair trade]ZECUSDT-ZRXUSDT -19.30891925%\n",
      "[pair trade]ZECUSDT-FETUSDT 16.59999538%\n",
      "[pair trade]ZECUSDT-XMRUSDT -11.01347423%\n",
      "[pair trade]ZECUSDT-THETAUSDT 7.60733854%\n",
      "[pair trade]ZECUSDT-ENJUSDT -42.27787860%\n",
      "[pair trade]ZECUSDT-MITHUSDT -59.18172200%\n",
      "[pair trade]IOSTUSDT-QTUMUSDT 45.13440256%\n",
      "[pair trade]IOSTUSDT-XRPUSDT -29.16704125%\n",
      "[pair trade]IOSTUSDT-TRXUSDT -29.68764225%\n",
      "[pair trade]IOSTUSDT-ICXUSDT -27.51618282%\n",
      "[pair trade]IOSTUSDT-VETUSDT 9.82950714%\n",
      "[pair trade]IOSTUSDT-TFUELUSDT -38.49504467%\n",
      "[pair trade]IOSTUSDT-ONGUSDT -28.03336813%\n",
      "[pair trade]IOSTUSDT-HOTUSDT -8.46016357%\n",
      "[pair trade]IOSTUSDT-THETAUSDT 9.73005265%\n",
      "[pair trade]CELRUSDT-ETHUSDT 50.01203968%\n",
      "[pair trade]CELRUSDT-BNBUSDT 31.75301844%\n",
      "[pair trade]CELRUSDT-ADAUSDT -27.60926729%\n",
      "[pair trade]CELRUSDT-ONEUSDT -13.55359243%\n",
      "[pair trade]CELRUSDT-ONGUSDT -52.14770564%\n",
      "[pair trade]CELRUSDT-FETUSDT -76.55772426%\n",
      "[pair trade]CELRUSDT-MATICUSDT 108.37546363%\n",
      "[pair trade]DASHUSDT-NEOUSDT -3.76516562%\n",
      "[pair trade]DASHUSDT-LTCUSDT 1.49035375%\n",
      "[pair trade]DASHUSDT-EOSUSDT -46.86174422%\n",
      "[pair trade]DASHUSDT-XLMUSDT -33.68824723%\n",
      "[pair trade]DASHUSDT-ICXUSDT -19.83568069%\n",
      "[pair trade]DASHUSDT-TFUELUSDT 54.40109730%\n",
      "[pair trade]DASHUSDT-LINKUSDT -38.79062309%\n",
      "[pair trade]DASHUSDT-HOTUSDT 20.16581553%\n",
      "[pair trade]DASHUSDT-ZILUSDT -38.67773650%\n",
      "[pair trade]DASHUSDT-ZRXUSDT -37.09090116%\n",
      "[pair trade]DASHUSDT-IOSTUSDT -26.44146660%\n",
      "[pair trade]DASHUSDT-THETAUSDT 11.93666101%\n",
      "[pair trade]DASHUSDT-MITHUSDT -60.87995251%\n",
      "[pair trade]OMGUSDT-ADAUSDT -29.57854918%\n",
      "[pair trade]OMGUSDT-ONEUSDT -46.06622548%\n",
      "[pair trade]OMGUSDT-WAVESUSDT -1.83022818%\n",
      "[pair trade]OMGUSDT-ONGUSDT -44.77768426%\n",
      "[pair trade]OMGUSDT-FETUSDT 74.81341502%\n",
      "[pair trade]OMGUSDT-ATOMUSDT 10.93096763%\n",
      "[pair trade]THETAUSDT-NEOUSDT 15.94544996%\n",
      "[pair trade]THETAUSDT-LTCUSDT 2.11634153%\n",
      "[pair trade]THETAUSDT-IOTAUSDT 109.03656350%\n",
      "[pair trade]THETAUSDT-XLMUSDT -30.18460120%\n",
      "[pair trade]THETAUSDT-TRXUSDT 11.98143396%\n",
      "[pair trade]THETAUSDT-ETCUSDT 111.10434741%\n",
      "[pair trade]THETAUSDT-VETUSDT 50.25157717%\n",
      "[pair trade]THETAUSDT-WAVESUSDT -32.74028948%\n",
      "[pair trade]THETAUSDT-XMRUSDT -32.80700895%\n",
      "[pair trade]THETAUSDT-ZECUSDT -26.38100290%\n",
      "[pair trade]THETAUSDT-IOSTUSDT 0.27254396%\n",
      "[pair trade]THETAUSDT-DASHUSDT -30.20968749%\n",
      "[pair trade]THETAUSDT-MITHUSDT -14.58146464%\n",
      "[pair trade]ENJUSDT-BNBUSDT -7.01649167%\n",
      "[pair trade]ENJUSDT-TRXUSDT -52.44999514%\n",
      "[pair trade]ENJUSDT-BATUSDT -31.51557834%\n",
      "[pair trade]ENJUSDT-ATOMUSDT 53.06276079%\n",
      "[pair trade]MITHUSDT-NEOUSDT -54.59173470%\n",
      "[pair trade]MITHUSDT-LTCUSDT 6.04855623%\n",
      "[pair trade]MITHUSDT-QTUMUSDT -58.28327904%\n",
      "[pair trade]MITHUSDT-IOTAUSDT -44.26225604%\n",
      "[pair trade]MITHUSDT-ICXUSDT -39.44635059%\n",
      "[pair trade]MITHUSDT-VETUSDT -68.63120616%\n",
      "[pair trade]MITHUSDT-TFUELUSDT 2.22358169%\n",
      "[pair trade]MITHUSDT-ONGUSDT -43.77184058%\n",
      "[pair trade]MITHUSDT-HOTUSDT -35.26628373%\n",
      "[pair trade]MITHUSDT-BATUSDT -49.37295586%\n",
      "[pair trade]MITHUSDT-ZECUSDT -44.73742238%\n",
      "[pair trade]MITHUSDT-DASHUSDT -64.93989852%\n",
      "[pair trade]MITHUSDT-THETAUSDT -7.61064873%\n",
      "[pair trade]MATICUSDT-BNBUSDT 50.64926018%\n",
      "[pair trade]MATICUSDT-ONEUSDT -61.57960899%\n",
      "[pair trade]MATICUSDT-CELRUSDT 238.11573702%\n",
      "[pair trade]ATOMUSDT-ETHUSDT -5.39293397%\n",
      "[pair trade]ATOMUSDT-ONEUSDT -18.24667769%\n",
      "[pair trade]ATOMUSDT-FETUSDT 30.20706393%\n",
      "[pair trade]ATOMUSDT-BATUSDT 43.24029778%\n",
      "[pair trade]ATOMUSDT-CELRUSDT -38.76191052%\n",
      "[pair trade]ATOMUSDT-ENJUSDT 11.00494390%\n"
     ]
    },
    {
     "data": {
      "text/plain": [
       "<Figure size 432x288 with 0 Axes>"
      ]
     },
     "metadata": {},
     "output_type": "display_data"
    },
    {
     "data": {
      "text/plain": [
       "<Figure size 720x576 with 0 Axes>"
      ]
     },
     "metadata": {},
     "output_type": "display_data"
    },
    {
     "data": {
      "text/plain": [
       "<Figure size 720x576 with 0 Axes>"
      ]
     },
     "metadata": {},
     "output_type": "display_data"
    },
    {
     "data": {
      "text/plain": [
       "<Figure size 720x576 with 0 Axes>"
      ]
     },
     "metadata": {},
     "output_type": "display_data"
    },
    {
     "data": {
      "text/plain": [
       "<Figure size 720x576 with 0 Axes>"
      ]
     },
     "metadata": {},
     "output_type": "display_data"
    },
    {
     "data": {
      "text/plain": [
       "<Figure size 720x576 with 0 Axes>"
      ]
     },
     "metadata": {},
     "output_type": "display_data"
    },
    {
     "data": {
      "text/plain": [
       "<Figure size 720x576 with 0 Axes>"
      ]
     },
     "metadata": {},
     "output_type": "display_data"
    },
    {
     "data": {
      "text/plain": [
       "<Figure size 720x576 with 0 Axes>"
      ]
     },
     "metadata": {},
     "output_type": "display_data"
    },
    {
     "data": {
      "text/plain": [
       "<Figure size 720x576 with 0 Axes>"
      ]
     },
     "metadata": {},
     "output_type": "display_data"
    },
    {
     "data": {
      "text/plain": [
       "<Figure size 720x576 with 0 Axes>"
      ]
     },
     "metadata": {},
     "output_type": "display_data"
    },
    {
     "data": {
      "text/plain": [
       "<Figure size 720x576 with 0 Axes>"
      ]
     },
     "metadata": {},
     "output_type": "display_data"
    },
    {
     "data": {
      "text/plain": [
       "<Figure size 720x576 with 0 Axes>"
      ]
     },
     "metadata": {},
     "output_type": "display_data"
    },
    {
     "data": {
      "text/plain": [
       "<Figure size 720x576 with 0 Axes>"
      ]
     },
     "metadata": {},
     "output_type": "display_data"
    },
    {
     "data": {
      "text/plain": [
       "<Figure size 720x576 with 0 Axes>"
      ]
     },
     "metadata": {},
     "output_type": "display_data"
    },
    {
     "data": {
      "text/plain": [
       "<Figure size 720x576 with 0 Axes>"
      ]
     },
     "metadata": {},
     "output_type": "display_data"
    },
    {
     "data": {
      "text/plain": [
       "<Figure size 720x576 with 0 Axes>"
      ]
     },
     "metadata": {},
     "output_type": "display_data"
    },
    {
     "data": {
      "text/plain": [
       "<Figure size 720x576 with 0 Axes>"
      ]
     },
     "metadata": {},
     "output_type": "display_data"
    },
    {
     "data": {
      "text/plain": [
       "<Figure size 720x576 with 0 Axes>"
      ]
     },
     "metadata": {},
     "output_type": "display_data"
    },
    {
     "data": {
      "text/plain": [
       "<Figure size 720x576 with 0 Axes>"
      ]
     },
     "metadata": {},
     "output_type": "display_data"
    },
    {
     "data": {
      "text/plain": [
       "<Figure size 720x576 with 0 Axes>"
      ]
     },
     "metadata": {},
     "output_type": "display_data"
    },
    {
     "data": {
      "text/plain": [
       "<Figure size 720x576 with 0 Axes>"
      ]
     },
     "metadata": {},
     "output_type": "display_data"
    },
    {
     "data": {
      "text/plain": [
       "<Figure size 720x576 with 0 Axes>"
      ]
     },
     "metadata": {},
     "output_type": "display_data"
    },
    {
     "data": {
      "text/plain": [
       "<Figure size 720x576 with 0 Axes>"
      ]
     },
     "metadata": {},
     "output_type": "display_data"
    },
    {
     "data": {
      "text/plain": [
       "<Figure size 720x576 with 0 Axes>"
      ]
     },
     "metadata": {},
     "output_type": "display_data"
    },
    {
     "data": {
      "text/plain": [
       "<Figure size 720x576 with 0 Axes>"
      ]
     },
     "metadata": {},
     "output_type": "display_data"
    },
    {
     "data": {
      "text/plain": [
       "<Figure size 720x576 with 0 Axes>"
      ]
     },
     "metadata": {},
     "output_type": "display_data"
    },
    {
     "data": {
      "text/plain": [
       "<Figure size 720x576 with 0 Axes>"
      ]
     },
     "metadata": {},
     "output_type": "display_data"
    },
    {
     "data": {
      "text/plain": [
       "<Figure size 720x576 with 0 Axes>"
      ]
     },
     "metadata": {},
     "output_type": "display_data"
    },
    {
     "data": {
      "text/plain": [
       "<Figure size 720x576 with 0 Axes>"
      ]
     },
     "metadata": {},
     "output_type": "display_data"
    },
    {
     "data": {
      "text/plain": [
       "<Figure size 720x576 with 0 Axes>"
      ]
     },
     "metadata": {},
     "output_type": "display_data"
    },
    {
     "data": {
      "text/plain": [
       "<Figure size 720x576 with 0 Axes>"
      ]
     },
     "metadata": {},
     "output_type": "display_data"
    },
    {
     "data": {
      "text/plain": [
       "<Figure size 720x576 with 0 Axes>"
      ]
     },
     "metadata": {},
     "output_type": "display_data"
    },
    {
     "data": {
      "text/plain": [
       "<Figure size 720x576 with 0 Axes>"
      ]
     },
     "metadata": {},
     "output_type": "display_data"
    },
    {
     "data": {
      "text/plain": [
       "<Figure size 720x576 with 0 Axes>"
      ]
     },
     "metadata": {},
     "output_type": "display_data"
    },
    {
     "data": {
      "text/plain": [
       "<Figure size 720x576 with 0 Axes>"
      ]
     },
     "metadata": {},
     "output_type": "display_data"
    },
    {
     "data": {
      "text/plain": [
       "<Figure size 720x576 with 0 Axes>"
      ]
     },
     "metadata": {},
     "output_type": "display_data"
    },
    {
     "data": {
      "text/plain": [
       "<Figure size 720x576 with 0 Axes>"
      ]
     },
     "metadata": {},
     "output_type": "display_data"
    },
    {
     "data": {
      "text/plain": [
       "<Figure size 720x576 with 0 Axes>"
      ]
     },
     "metadata": {},
     "output_type": "display_data"
    },
    {
     "data": {
      "text/plain": [
       "<Figure size 720x576 with 0 Axes>"
      ]
     },
     "metadata": {},
     "output_type": "display_data"
    },
    {
     "data": {
      "text/plain": [
       "<Figure size 720x576 with 0 Axes>"
      ]
     },
     "metadata": {},
     "output_type": "display_data"
    },
    {
     "data": {
      "text/plain": [
       "<Figure size 720x576 with 0 Axes>"
      ]
     },
     "metadata": {},
     "output_type": "display_data"
    },
    {
     "data": {
      "text/plain": [
       "<Figure size 720x576 with 0 Axes>"
      ]
     },
     "metadata": {},
     "output_type": "display_data"
    },
    {
     "data": {
      "text/plain": [
       "<Figure size 720x576 with 0 Axes>"
      ]
     },
     "metadata": {},
     "output_type": "display_data"
    },
    {
     "data": {
      "text/plain": [
       "<Figure size 720x576 with 0 Axes>"
      ]
     },
     "metadata": {},
     "output_type": "display_data"
    },
    {
     "data": {
      "text/plain": [
       "<Figure size 720x576 with 0 Axes>"
      ]
     },
     "metadata": {},
     "output_type": "display_data"
    },
    {
     "data": {
      "text/plain": [
       "<Figure size 720x576 with 0 Axes>"
      ]
     },
     "metadata": {},
     "output_type": "display_data"
    },
    {
     "data": {
      "text/plain": [
       "<Figure size 720x576 with 0 Axes>"
      ]
     },
     "metadata": {},
     "output_type": "display_data"
    },
    {
     "data": {
      "text/plain": [
       "<Figure size 720x576 with 0 Axes>"
      ]
     },
     "metadata": {},
     "output_type": "display_data"
    },
    {
     "data": {
      "text/plain": [
       "<Figure size 720x576 with 0 Axes>"
      ]
     },
     "metadata": {},
     "output_type": "display_data"
    },
    {
     "data": {
      "text/plain": [
       "<Figure size 720x576 with 0 Axes>"
      ]
     },
     "metadata": {},
     "output_type": "display_data"
    },
    {
     "data": {
      "text/plain": [
       "<Figure size 720x576 with 0 Axes>"
      ]
     },
     "metadata": {},
     "output_type": "display_data"
    },
    {
     "data": {
      "text/plain": [
       "<Figure size 720x576 with 0 Axes>"
      ]
     },
     "metadata": {},
     "output_type": "display_data"
    },
    {
     "data": {
      "text/plain": [
       "<Figure size 720x576 with 0 Axes>"
      ]
     },
     "metadata": {},
     "output_type": "display_data"
    },
    {
     "data": {
      "text/plain": [
       "<Figure size 720x576 with 0 Axes>"
      ]
     },
     "metadata": {},
     "output_type": "display_data"
    },
    {
     "data": {
      "text/plain": [
       "<Figure size 720x576 with 0 Axes>"
      ]
     },
     "metadata": {},
     "output_type": "display_data"
    },
    {
     "data": {
      "text/plain": [
       "<Figure size 720x576 with 0 Axes>"
      ]
     },
     "metadata": {},
     "output_type": "display_data"
    },
    {
     "data": {
      "text/plain": [
       "<Figure size 720x576 with 0 Axes>"
      ]
     },
     "metadata": {},
     "output_type": "display_data"
    },
    {
     "data": {
      "text/plain": [
       "<Figure size 720x576 with 0 Axes>"
      ]
     },
     "metadata": {},
     "output_type": "display_data"
    },
    {
     "data": {
      "text/plain": [
       "<Figure size 720x576 with 0 Axes>"
      ]
     },
     "metadata": {},
     "output_type": "display_data"
    },
    {
     "data": {
      "text/plain": [
       "<Figure size 720x576 with 0 Axes>"
      ]
     },
     "metadata": {},
     "output_type": "display_data"
    },
    {
     "data": {
      "text/plain": [
       "<Figure size 720x576 with 0 Axes>"
      ]
     },
     "metadata": {},
     "output_type": "display_data"
    },
    {
     "data": {
      "text/plain": [
       "<Figure size 720x576 with 0 Axes>"
      ]
     },
     "metadata": {},
     "output_type": "display_data"
    },
    {
     "data": {
      "text/plain": [
       "<Figure size 720x576 with 0 Axes>"
      ]
     },
     "metadata": {},
     "output_type": "display_data"
    },
    {
     "data": {
      "text/plain": [
       "<Figure size 720x576 with 0 Axes>"
      ]
     },
     "metadata": {},
     "output_type": "display_data"
    },
    {
     "data": {
      "text/plain": [
       "<Figure size 720x576 with 0 Axes>"
      ]
     },
     "metadata": {},
     "output_type": "display_data"
    },
    {
     "data": {
      "text/plain": [
       "<Figure size 720x576 with 0 Axes>"
      ]
     },
     "metadata": {},
     "output_type": "display_data"
    },
    {
     "data": {
      "text/plain": [
       "<Figure size 720x576 with 0 Axes>"
      ]
     },
     "metadata": {},
     "output_type": "display_data"
    },
    {
     "data": {
      "text/plain": [
       "<Figure size 720x576 with 0 Axes>"
      ]
     },
     "metadata": {},
     "output_type": "display_data"
    },
    {
     "data": {
      "text/plain": [
       "<Figure size 720x576 with 0 Axes>"
      ]
     },
     "metadata": {},
     "output_type": "display_data"
    },
    {
     "data": {
      "text/plain": [
       "<Figure size 720x576 with 0 Axes>"
      ]
     },
     "metadata": {},
     "output_type": "display_data"
    },
    {
     "data": {
      "text/plain": [
       "<Figure size 720x576 with 0 Axes>"
      ]
     },
     "metadata": {},
     "output_type": "display_data"
    },
    {
     "data": {
      "text/plain": [
       "<Figure size 720x576 with 0 Axes>"
      ]
     },
     "metadata": {},
     "output_type": "display_data"
    },
    {
     "data": {
      "text/plain": [
       "<Figure size 720x576 with 0 Axes>"
      ]
     },
     "metadata": {},
     "output_type": "display_data"
    },
    {
     "data": {
      "text/plain": [
       "<Figure size 720x576 with 0 Axes>"
      ]
     },
     "metadata": {},
     "output_type": "display_data"
    },
    {
     "data": {
      "text/plain": [
       "<Figure size 720x576 with 0 Axes>"
      ]
     },
     "metadata": {},
     "output_type": "display_data"
    },
    {
     "data": {
      "text/plain": [
       "<Figure size 720x576 with 0 Axes>"
      ]
     },
     "metadata": {},
     "output_type": "display_data"
    },
    {
     "data": {
      "text/plain": [
       "<Figure size 720x576 with 0 Axes>"
      ]
     },
     "metadata": {},
     "output_type": "display_data"
    },
    {
     "data": {
      "text/plain": [
       "<Figure size 720x576 with 0 Axes>"
      ]
     },
     "metadata": {},
     "output_type": "display_data"
    },
    {
     "data": {
      "text/plain": [
       "<Figure size 720x576 with 0 Axes>"
      ]
     },
     "metadata": {},
     "output_type": "display_data"
    },
    {
     "data": {
      "text/plain": [
       "<Figure size 720x576 with 0 Axes>"
      ]
     },
     "metadata": {},
     "output_type": "display_data"
    },
    {
     "data": {
      "text/plain": [
       "<Figure size 720x576 with 0 Axes>"
      ]
     },
     "metadata": {},
     "output_type": "display_data"
    },
    {
     "data": {
      "text/plain": [
       "<Figure size 720x576 with 0 Axes>"
      ]
     },
     "metadata": {},
     "output_type": "display_data"
    },
    {
     "data": {
      "text/plain": [
       "<Figure size 720x576 with 0 Axes>"
      ]
     },
     "metadata": {},
     "output_type": "display_data"
    },
    {
     "data": {
      "text/plain": [
       "<Figure size 720x576 with 0 Axes>"
      ]
     },
     "metadata": {},
     "output_type": "display_data"
    },
    {
     "data": {
      "text/plain": [
       "<Figure size 720x576 with 0 Axes>"
      ]
     },
     "metadata": {},
     "output_type": "display_data"
    },
    {
     "data": {
      "text/plain": [
       "<Figure size 720x576 with 0 Axes>"
      ]
     },
     "metadata": {},
     "output_type": "display_data"
    },
    {
     "data": {
      "text/plain": [
       "<Figure size 720x576 with 0 Axes>"
      ]
     },
     "metadata": {},
     "output_type": "display_data"
    },
    {
     "data": {
      "text/plain": [
       "<Figure size 720x576 with 0 Axes>"
      ]
     },
     "metadata": {},
     "output_type": "display_data"
    },
    {
     "data": {
      "text/plain": [
       "<Figure size 720x576 with 0 Axes>"
      ]
     },
     "metadata": {},
     "output_type": "display_data"
    },
    {
     "data": {
      "text/plain": [
       "<Figure size 720x576 with 0 Axes>"
      ]
     },
     "metadata": {},
     "output_type": "display_data"
    },
    {
     "data": {
      "text/plain": [
       "<Figure size 720x576 with 0 Axes>"
      ]
     },
     "metadata": {},
     "output_type": "display_data"
    },
    {
     "data": {
      "text/plain": [
       "<Figure size 720x576 with 0 Axes>"
      ]
     },
     "metadata": {},
     "output_type": "display_data"
    },
    {
     "data": {
      "text/plain": [
       "<Figure size 720x576 with 0 Axes>"
      ]
     },
     "metadata": {},
     "output_type": "display_data"
    },
    {
     "data": {
      "text/plain": [
       "<Figure size 720x576 with 0 Axes>"
      ]
     },
     "metadata": {},
     "output_type": "display_data"
    },
    {
     "data": {
      "text/plain": [
       "<Figure size 720x576 with 0 Axes>"
      ]
     },
     "metadata": {},
     "output_type": "display_data"
    },
    {
     "data": {
      "text/plain": [
       "<Figure size 720x576 with 0 Axes>"
      ]
     },
     "metadata": {},
     "output_type": "display_data"
    },
    {
     "data": {
      "text/plain": [
       "<Figure size 720x576 with 0 Axes>"
      ]
     },
     "metadata": {},
     "output_type": "display_data"
    },
    {
     "data": {
      "text/plain": [
       "<Figure size 720x576 with 0 Axes>"
      ]
     },
     "metadata": {},
     "output_type": "display_data"
    },
    {
     "data": {
      "text/plain": [
       "<Figure size 720x576 with 0 Axes>"
      ]
     },
     "metadata": {},
     "output_type": "display_data"
    },
    {
     "data": {
      "text/plain": [
       "<Figure size 720x576 with 0 Axes>"
      ]
     },
     "metadata": {},
     "output_type": "display_data"
    },
    {
     "data": {
      "text/plain": [
       "<Figure size 720x576 with 0 Axes>"
      ]
     },
     "metadata": {},
     "output_type": "display_data"
    },
    {
     "data": {
      "text/plain": [
       "<Figure size 720x576 with 0 Axes>"
      ]
     },
     "metadata": {},
     "output_type": "display_data"
    },
    {
     "data": {
      "text/plain": [
       "<Figure size 720x576 with 0 Axes>"
      ]
     },
     "metadata": {},
     "output_type": "display_data"
    },
    {
     "data": {
      "text/plain": [
       "<Figure size 720x576 with 0 Axes>"
      ]
     },
     "metadata": {},
     "output_type": "display_data"
    },
    {
     "data": {
      "text/plain": [
       "<Figure size 720x576 with 0 Axes>"
      ]
     },
     "metadata": {},
     "output_type": "display_data"
    },
    {
     "data": {
      "text/plain": [
       "<Figure size 720x576 with 0 Axes>"
      ]
     },
     "metadata": {},
     "output_type": "display_data"
    },
    {
     "data": {
      "text/plain": [
       "<Figure size 720x576 with 0 Axes>"
      ]
     },
     "metadata": {},
     "output_type": "display_data"
    },
    {
     "data": {
      "text/plain": [
       "<Figure size 720x576 with 0 Axes>"
      ]
     },
     "metadata": {},
     "output_type": "display_data"
    },
    {
     "data": {
      "text/plain": [
       "<Figure size 720x576 with 0 Axes>"
      ]
     },
     "metadata": {},
     "output_type": "display_data"
    },
    {
     "data": {
      "text/plain": [
       "<Figure size 720x576 with 0 Axes>"
      ]
     },
     "metadata": {},
     "output_type": "display_data"
    },
    {
     "data": {
      "text/plain": [
       "<Figure size 720x576 with 0 Axes>"
      ]
     },
     "metadata": {},
     "output_type": "display_data"
    },
    {
     "data": {
      "text/plain": [
       "<Figure size 720x576 with 0 Axes>"
      ]
     },
     "metadata": {},
     "output_type": "display_data"
    },
    {
     "data": {
      "text/plain": [
       "<Figure size 720x576 with 0 Axes>"
      ]
     },
     "metadata": {},
     "output_type": "display_data"
    },
    {
     "data": {
      "text/plain": [
       "<Figure size 720x576 with 0 Axes>"
      ]
     },
     "metadata": {},
     "output_type": "display_data"
    },
    {
     "data": {
      "text/plain": [
       "<Figure size 720x576 with 0 Axes>"
      ]
     },
     "metadata": {},
     "output_type": "display_data"
    },
    {
     "data": {
      "text/plain": [
       "<Figure size 720x576 with 0 Axes>"
      ]
     },
     "metadata": {},
     "output_type": "display_data"
    },
    {
     "data": {
      "text/plain": [
       "<Figure size 720x576 with 0 Axes>"
      ]
     },
     "metadata": {},
     "output_type": "display_data"
    },
    {
     "data": {
      "text/plain": [
       "<Figure size 720x576 with 0 Axes>"
      ]
     },
     "metadata": {},
     "output_type": "display_data"
    },
    {
     "data": {
      "text/plain": [
       "<Figure size 720x576 with 0 Axes>"
      ]
     },
     "metadata": {},
     "output_type": "display_data"
    },
    {
     "data": {
      "text/plain": [
       "<Figure size 720x576 with 0 Axes>"
      ]
     },
     "metadata": {},
     "output_type": "display_data"
    },
    {
     "data": {
      "text/plain": [
       "<Figure size 720x576 with 0 Axes>"
      ]
     },
     "metadata": {},
     "output_type": "display_data"
    },
    {
     "data": {
      "text/plain": [
       "<Figure size 720x576 with 0 Axes>"
      ]
     },
     "metadata": {},
     "output_type": "display_data"
    },
    {
     "data": {
      "text/plain": [
       "<Figure size 720x576 with 0 Axes>"
      ]
     },
     "metadata": {},
     "output_type": "display_data"
    },
    {
     "data": {
      "text/plain": [
       "<Figure size 720x576 with 0 Axes>"
      ]
     },
     "metadata": {},
     "output_type": "display_data"
    },
    {
     "data": {
      "text/plain": [
       "<Figure size 720x576 with 0 Axes>"
      ]
     },
     "metadata": {},
     "output_type": "display_data"
    },
    {
     "data": {
      "text/plain": [
       "<Figure size 720x576 with 0 Axes>"
      ]
     },
     "metadata": {},
     "output_type": "display_data"
    },
    {
     "data": {
      "text/plain": [
       "<Figure size 720x576 with 0 Axes>"
      ]
     },
     "metadata": {},
     "output_type": "display_data"
    },
    {
     "data": {
      "text/plain": [
       "<Figure size 720x576 with 0 Axes>"
      ]
     },
     "metadata": {},
     "output_type": "display_data"
    },
    {
     "data": {
      "text/plain": [
       "<Figure size 720x576 with 0 Axes>"
      ]
     },
     "metadata": {},
     "output_type": "display_data"
    },
    {
     "data": {
      "text/plain": [
       "<Figure size 720x576 with 0 Axes>"
      ]
     },
     "metadata": {},
     "output_type": "display_data"
    },
    {
     "data": {
      "text/plain": [
       "<Figure size 720x576 with 0 Axes>"
      ]
     },
     "metadata": {},
     "output_type": "display_data"
    },
    {
     "data": {
      "text/plain": [
       "<Figure size 720x576 with 0 Axes>"
      ]
     },
     "metadata": {},
     "output_type": "display_data"
    },
    {
     "data": {
      "text/plain": [
       "<Figure size 720x576 with 0 Axes>"
      ]
     },
     "metadata": {},
     "output_type": "display_data"
    },
    {
     "data": {
      "text/plain": [
       "<Figure size 720x576 with 0 Axes>"
      ]
     },
     "metadata": {},
     "output_type": "display_data"
    },
    {
     "data": {
      "text/plain": [
       "<Figure size 720x576 with 0 Axes>"
      ]
     },
     "metadata": {},
     "output_type": "display_data"
    },
    {
     "data": {
      "text/plain": [
       "<Figure size 720x576 with 0 Axes>"
      ]
     },
     "metadata": {},
     "output_type": "display_data"
    },
    {
     "data": {
      "text/plain": [
       "<Figure size 720x576 with 0 Axes>"
      ]
     },
     "metadata": {},
     "output_type": "display_data"
    },
    {
     "data": {
      "text/plain": [
       "<Figure size 720x576 with 0 Axes>"
      ]
     },
     "metadata": {},
     "output_type": "display_data"
    },
    {
     "data": {
      "text/plain": [
       "<Figure size 720x576 with 0 Axes>"
      ]
     },
     "metadata": {},
     "output_type": "display_data"
    },
    {
     "data": {
      "text/plain": [
       "<Figure size 720x576 with 0 Axes>"
      ]
     },
     "metadata": {},
     "output_type": "display_data"
    },
    {
     "data": {
      "text/plain": [
       "<Figure size 720x576 with 0 Axes>"
      ]
     },
     "metadata": {},
     "output_type": "display_data"
    },
    {
     "data": {
      "text/plain": [
       "<Figure size 720x576 with 0 Axes>"
      ]
     },
     "metadata": {},
     "output_type": "display_data"
    },
    {
     "data": {
      "text/plain": [
       "<Figure size 720x576 with 0 Axes>"
      ]
     },
     "metadata": {},
     "output_type": "display_data"
    },
    {
     "data": {
      "text/plain": [
       "<Figure size 720x576 with 0 Axes>"
      ]
     },
     "metadata": {},
     "output_type": "display_data"
    },
    {
     "data": {
      "text/plain": [
       "<Figure size 720x576 with 0 Axes>"
      ]
     },
     "metadata": {},
     "output_type": "display_data"
    },
    {
     "data": {
      "text/plain": [
       "<Figure size 720x576 with 0 Axes>"
      ]
     },
     "metadata": {},
     "output_type": "display_data"
    },
    {
     "data": {
      "text/plain": [
       "<Figure size 720x576 with 0 Axes>"
      ]
     },
     "metadata": {},
     "output_type": "display_data"
    },
    {
     "data": {
      "text/plain": [
       "<Figure size 720x576 with 0 Axes>"
      ]
     },
     "metadata": {},
     "output_type": "display_data"
    },
    {
     "data": {
      "text/plain": [
       "<Figure size 720x576 with 0 Axes>"
      ]
     },
     "metadata": {},
     "output_type": "display_data"
    },
    {
     "data": {
      "text/plain": [
       "<Figure size 720x576 with 0 Axes>"
      ]
     },
     "metadata": {},
     "output_type": "display_data"
    },
    {
     "data": {
      "text/plain": [
       "<Figure size 720x576 with 0 Axes>"
      ]
     },
     "metadata": {},
     "output_type": "display_data"
    },
    {
     "data": {
      "text/plain": [
       "<Figure size 720x576 with 0 Axes>"
      ]
     },
     "metadata": {},
     "output_type": "display_data"
    },
    {
     "data": {
      "text/plain": [
       "<Figure size 720x576 with 0 Axes>"
      ]
     },
     "metadata": {},
     "output_type": "display_data"
    },
    {
     "data": {
      "text/plain": [
       "<Figure size 720x576 with 0 Axes>"
      ]
     },
     "metadata": {},
     "output_type": "display_data"
    },
    {
     "data": {
      "text/plain": [
       "<Figure size 720x576 with 0 Axes>"
      ]
     },
     "metadata": {},
     "output_type": "display_data"
    },
    {
     "data": {
      "text/plain": [
       "<Figure size 720x576 with 0 Axes>"
      ]
     },
     "metadata": {},
     "output_type": "display_data"
    },
    {
     "data": {
      "text/plain": [
       "<Figure size 720x576 with 0 Axes>"
      ]
     },
     "metadata": {},
     "output_type": "display_data"
    },
    {
     "data": {
      "text/plain": [
       "<Figure size 720x576 with 0 Axes>"
      ]
     },
     "metadata": {},
     "output_type": "display_data"
    },
    {
     "data": {
      "text/plain": [
       "<Figure size 720x576 with 0 Axes>"
      ]
     },
     "metadata": {},
     "output_type": "display_data"
    },
    {
     "data": {
      "text/plain": [
       "<Figure size 720x576 with 0 Axes>"
      ]
     },
     "metadata": {},
     "output_type": "display_data"
    },
    {
     "data": {
      "text/plain": [
       "<Figure size 720x576 with 0 Axes>"
      ]
     },
     "metadata": {},
     "output_type": "display_data"
    },
    {
     "data": {
      "text/plain": [
       "<Figure size 720x576 with 0 Axes>"
      ]
     },
     "metadata": {},
     "output_type": "display_data"
    },
    {
     "data": {
      "text/plain": [
       "<Figure size 720x576 with 0 Axes>"
      ]
     },
     "metadata": {},
     "output_type": "display_data"
    },
    {
     "data": {
      "text/plain": [
       "<Figure size 720x576 with 0 Axes>"
      ]
     },
     "metadata": {},
     "output_type": "display_data"
    },
    {
     "data": {
      "text/plain": [
       "<Figure size 720x576 with 0 Axes>"
      ]
     },
     "metadata": {},
     "output_type": "display_data"
    },
    {
     "data": {
      "text/plain": [
       "<Figure size 720x576 with 0 Axes>"
      ]
     },
     "metadata": {},
     "output_type": "display_data"
    },
    {
     "data": {
      "text/plain": [
       "<Figure size 720x576 with 0 Axes>"
      ]
     },
     "metadata": {},
     "output_type": "display_data"
    },
    {
     "data": {
      "text/plain": [
       "<Figure size 720x576 with 0 Axes>"
      ]
     },
     "metadata": {},
     "output_type": "display_data"
    },
    {
     "data": {
      "text/plain": [
       "<Figure size 720x576 with 0 Axes>"
      ]
     },
     "metadata": {},
     "output_type": "display_data"
    },
    {
     "data": {
      "text/plain": [
       "<Figure size 720x576 with 0 Axes>"
      ]
     },
     "metadata": {},
     "output_type": "display_data"
    },
    {
     "data": {
      "text/plain": [
       "<Figure size 720x576 with 0 Axes>"
      ]
     },
     "metadata": {},
     "output_type": "display_data"
    },
    {
     "data": {
      "text/plain": [
       "<Figure size 720x576 with 0 Axes>"
      ]
     },
     "metadata": {},
     "output_type": "display_data"
    },
    {
     "data": {
      "text/plain": [
       "<Figure size 720x576 with 0 Axes>"
      ]
     },
     "metadata": {},
     "output_type": "display_data"
    },
    {
     "data": {
      "text/plain": [
       "<Figure size 720x576 with 0 Axes>"
      ]
     },
     "metadata": {},
     "output_type": "display_data"
    },
    {
     "data": {
      "text/plain": [
       "<Figure size 720x576 with 0 Axes>"
      ]
     },
     "metadata": {},
     "output_type": "display_data"
    },
    {
     "data": {
      "text/plain": [
       "<Figure size 720x576 with 0 Axes>"
      ]
     },
     "metadata": {},
     "output_type": "display_data"
    },
    {
     "data": {
      "text/plain": [
       "<Figure size 720x576 with 0 Axes>"
      ]
     },
     "metadata": {},
     "output_type": "display_data"
    },
    {
     "data": {
      "text/plain": [
       "<Figure size 720x576 with 0 Axes>"
      ]
     },
     "metadata": {},
     "output_type": "display_data"
    },
    {
     "data": {
      "text/plain": [
       "<Figure size 720x576 with 0 Axes>"
      ]
     },
     "metadata": {},
     "output_type": "display_data"
    },
    {
     "data": {
      "text/plain": [
       "<Figure size 720x576 with 0 Axes>"
      ]
     },
     "metadata": {},
     "output_type": "display_data"
    },
    {
     "data": {
      "text/plain": [
       "<Figure size 720x576 with 0 Axes>"
      ]
     },
     "metadata": {},
     "output_type": "display_data"
    },
    {
     "data": {
      "text/plain": [
       "<Figure size 720x576 with 0 Axes>"
      ]
     },
     "metadata": {},
     "output_type": "display_data"
    },
    {
     "data": {
      "text/plain": [
       "<Figure size 720x576 with 0 Axes>"
      ]
     },
     "metadata": {},
     "output_type": "display_data"
    },
    {
     "data": {
      "text/plain": [
       "<Figure size 720x576 with 0 Axes>"
      ]
     },
     "metadata": {},
     "output_type": "display_data"
    },
    {
     "data": {
      "text/plain": [
       "<Figure size 720x576 with 0 Axes>"
      ]
     },
     "metadata": {},
     "output_type": "display_data"
    },
    {
     "data": {
      "text/plain": [
       "<Figure size 720x576 with 0 Axes>"
      ]
     },
     "metadata": {},
     "output_type": "display_data"
    },
    {
     "data": {
      "text/plain": [
       "<Figure size 720x576 with 0 Axes>"
      ]
     },
     "metadata": {},
     "output_type": "display_data"
    },
    {
     "data": {
      "text/plain": [
       "<Figure size 720x576 with 0 Axes>"
      ]
     },
     "metadata": {},
     "output_type": "display_data"
    },
    {
     "data": {
      "text/plain": [
       "<Figure size 720x576 with 0 Axes>"
      ]
     },
     "metadata": {},
     "output_type": "display_data"
    },
    {
     "data": {
      "text/plain": [
       "<Figure size 720x576 with 0 Axes>"
      ]
     },
     "metadata": {},
     "output_type": "display_data"
    },
    {
     "data": {
      "text/plain": [
       "<Figure size 720x576 with 0 Axes>"
      ]
     },
     "metadata": {},
     "output_type": "display_data"
    },
    {
     "data": {
      "text/plain": [
       "<Figure size 720x576 with 0 Axes>"
      ]
     },
     "metadata": {},
     "output_type": "display_data"
    },
    {
     "data": {
      "text/plain": [
       "<Figure size 720x576 with 0 Axes>"
      ]
     },
     "metadata": {},
     "output_type": "display_data"
    },
    {
     "data": {
      "text/plain": [
       "<Figure size 720x576 with 0 Axes>"
      ]
     },
     "metadata": {},
     "output_type": "display_data"
    },
    {
     "data": {
      "text/plain": [
       "<Figure size 720x576 with 0 Axes>"
      ]
     },
     "metadata": {},
     "output_type": "display_data"
    },
    {
     "data": {
      "text/plain": [
       "<Figure size 720x576 with 0 Axes>"
      ]
     },
     "metadata": {},
     "output_type": "display_data"
    },
    {
     "data": {
      "text/plain": [
       "<Figure size 720x576 with 0 Axes>"
      ]
     },
     "metadata": {},
     "output_type": "display_data"
    },
    {
     "data": {
      "text/plain": [
       "<Figure size 720x576 with 0 Axes>"
      ]
     },
     "metadata": {},
     "output_type": "display_data"
    },
    {
     "data": {
      "text/plain": [
       "<Figure size 720x576 with 0 Axes>"
      ]
     },
     "metadata": {},
     "output_type": "display_data"
    },
    {
     "data": {
      "text/plain": [
       "<Figure size 720x576 with 0 Axes>"
      ]
     },
     "metadata": {},
     "output_type": "display_data"
    },
    {
     "data": {
      "text/plain": [
       "<Figure size 720x576 with 0 Axes>"
      ]
     },
     "metadata": {},
     "output_type": "display_data"
    },
    {
     "data": {
      "text/plain": [
       "<Figure size 720x576 with 0 Axes>"
      ]
     },
     "metadata": {},
     "output_type": "display_data"
    },
    {
     "data": {
      "text/plain": [
       "<Figure size 720x576 with 0 Axes>"
      ]
     },
     "metadata": {},
     "output_type": "display_data"
    },
    {
     "data": {
      "text/plain": [
       "<Figure size 720x576 with 0 Axes>"
      ]
     },
     "metadata": {},
     "output_type": "display_data"
    },
    {
     "data": {
      "text/plain": [
       "<Figure size 720x576 with 0 Axes>"
      ]
     },
     "metadata": {},
     "output_type": "display_data"
    },
    {
     "data": {
      "text/plain": [
       "<Figure size 720x576 with 0 Axes>"
      ]
     },
     "metadata": {},
     "output_type": "display_data"
    },
    {
     "data": {
      "text/plain": [
       "<Figure size 720x576 with 0 Axes>"
      ]
     },
     "metadata": {},
     "output_type": "display_data"
    },
    {
     "data": {
      "text/plain": [
       "<Figure size 720x576 with 0 Axes>"
      ]
     },
     "metadata": {},
     "output_type": "display_data"
    },
    {
     "data": {
      "text/plain": [
       "<Figure size 720x576 with 0 Axes>"
      ]
     },
     "metadata": {},
     "output_type": "display_data"
    },
    {
     "data": {
      "text/plain": [
       "<Figure size 720x576 with 0 Axes>"
      ]
     },
     "metadata": {},
     "output_type": "display_data"
    },
    {
     "data": {
      "text/plain": [
       "<Figure size 720x576 with 0 Axes>"
      ]
     },
     "metadata": {},
     "output_type": "display_data"
    },
    {
     "data": {
      "text/plain": [
       "<Figure size 720x576 with 0 Axes>"
      ]
     },
     "metadata": {},
     "output_type": "display_data"
    },
    {
     "data": {
      "text/plain": [
       "<Figure size 720x576 with 0 Axes>"
      ]
     },
     "metadata": {},
     "output_type": "display_data"
    },
    {
     "data": {
      "text/plain": [
       "<Figure size 720x576 with 0 Axes>"
      ]
     },
     "metadata": {},
     "output_type": "display_data"
    },
    {
     "data": {
      "text/plain": [
       "<Figure size 720x576 with 0 Axes>"
      ]
     },
     "metadata": {},
     "output_type": "display_data"
    },
    {
     "data": {
      "text/plain": [
       "<Figure size 720x576 with 0 Axes>"
      ]
     },
     "metadata": {},
     "output_type": "display_data"
    },
    {
     "data": {
      "text/plain": [
       "<Figure size 720x576 with 0 Axes>"
      ]
     },
     "metadata": {},
     "output_type": "display_data"
    },
    {
     "data": {
      "text/plain": [
       "<Figure size 720x576 with 0 Axes>"
      ]
     },
     "metadata": {},
     "output_type": "display_data"
    },
    {
     "data": {
      "text/plain": [
       "<Figure size 720x576 with 0 Axes>"
      ]
     },
     "metadata": {},
     "output_type": "display_data"
    },
    {
     "data": {
      "text/plain": [
       "<Figure size 720x576 with 0 Axes>"
      ]
     },
     "metadata": {},
     "output_type": "display_data"
    },
    {
     "data": {
      "text/plain": [
       "<Figure size 720x576 with 0 Axes>"
      ]
     },
     "metadata": {},
     "output_type": "display_data"
    },
    {
     "data": {
      "text/plain": [
       "<Figure size 720x576 with 0 Axes>"
      ]
     },
     "metadata": {},
     "output_type": "display_data"
    },
    {
     "data": {
      "text/plain": [
       "<Figure size 720x576 with 0 Axes>"
      ]
     },
     "metadata": {},
     "output_type": "display_data"
    },
    {
     "data": {
      "text/plain": [
       "<Figure size 720x576 with 0 Axes>"
      ]
     },
     "metadata": {},
     "output_type": "display_data"
    },
    {
     "data": {
      "text/plain": [
       "<Figure size 720x576 with 0 Axes>"
      ]
     },
     "metadata": {},
     "output_type": "display_data"
    },
    {
     "data": {
      "text/plain": [
       "<Figure size 720x576 with 0 Axes>"
      ]
     },
     "metadata": {},
     "output_type": "display_data"
    },
    {
     "data": {
      "text/plain": [
       "<Figure size 720x576 with 0 Axes>"
      ]
     },
     "metadata": {},
     "output_type": "display_data"
    },
    {
     "data": {
      "text/plain": [
       "<Figure size 720x576 with 0 Axes>"
      ]
     },
     "metadata": {},
     "output_type": "display_data"
    },
    {
     "data": {
      "text/plain": [
       "<Figure size 720x576 with 0 Axes>"
      ]
     },
     "metadata": {},
     "output_type": "display_data"
    },
    {
     "data": {
      "text/plain": [
       "<Figure size 720x576 with 0 Axes>"
      ]
     },
     "metadata": {},
     "output_type": "display_data"
    },
    {
     "data": {
      "text/plain": [
       "<Figure size 720x576 with 0 Axes>"
      ]
     },
     "metadata": {},
     "output_type": "display_data"
    },
    {
     "data": {
      "text/plain": [
       "<Figure size 720x576 with 0 Axes>"
      ]
     },
     "metadata": {},
     "output_type": "display_data"
    },
    {
     "data": {
      "text/plain": [
       "<Figure size 720x576 with 0 Axes>"
      ]
     },
     "metadata": {},
     "output_type": "display_data"
    },
    {
     "data": {
      "text/plain": [
       "<Figure size 720x576 with 0 Axes>"
      ]
     },
     "metadata": {},
     "output_type": "display_data"
    },
    {
     "data": {
      "text/plain": [
       "<Figure size 720x576 with 0 Axes>"
      ]
     },
     "metadata": {},
     "output_type": "display_data"
    },
    {
     "data": {
      "text/plain": [
       "<Figure size 720x576 with 0 Axes>"
      ]
     },
     "metadata": {},
     "output_type": "display_data"
    },
    {
     "data": {
      "text/plain": [
       "<Figure size 720x576 with 0 Axes>"
      ]
     },
     "metadata": {},
     "output_type": "display_data"
    },
    {
     "data": {
      "text/plain": [
       "<Figure size 720x576 with 0 Axes>"
      ]
     },
     "metadata": {},
     "output_type": "display_data"
    },
    {
     "data": {
      "text/plain": [
       "<Figure size 720x576 with 0 Axes>"
      ]
     },
     "metadata": {},
     "output_type": "display_data"
    },
    {
     "data": {
      "text/plain": [
       "<Figure size 720x576 with 0 Axes>"
      ]
     },
     "metadata": {},
     "output_type": "display_data"
    },
    {
     "data": {
      "text/plain": [
       "<Figure size 720x576 with 0 Axes>"
      ]
     },
     "metadata": {},
     "output_type": "display_data"
    },
    {
     "data": {
      "text/plain": [
       "<Figure size 720x576 with 0 Axes>"
      ]
     },
     "metadata": {},
     "output_type": "display_data"
    },
    {
     "data": {
      "text/plain": [
       "<Figure size 720x576 with 0 Axes>"
      ]
     },
     "metadata": {},
     "output_type": "display_data"
    },
    {
     "data": {
      "text/plain": [
       "<Figure size 720x576 with 0 Axes>"
      ]
     },
     "metadata": {},
     "output_type": "display_data"
    },
    {
     "data": {
      "text/plain": [
       "<Figure size 720x576 with 0 Axes>"
      ]
     },
     "metadata": {},
     "output_type": "display_data"
    },
    {
     "data": {
      "text/plain": [
       "<Figure size 720x576 with 0 Axes>"
      ]
     },
     "metadata": {},
     "output_type": "display_data"
    },
    {
     "data": {
      "text/plain": [
       "<Figure size 720x576 with 0 Axes>"
      ]
     },
     "metadata": {},
     "output_type": "display_data"
    },
    {
     "data": {
      "text/plain": [
       "<Figure size 720x576 with 0 Axes>"
      ]
     },
     "metadata": {},
     "output_type": "display_data"
    },
    {
     "data": {
      "text/plain": [
       "<Figure size 720x576 with 0 Axes>"
      ]
     },
     "metadata": {},
     "output_type": "display_data"
    },
    {
     "data": {
      "text/plain": [
       "<Figure size 720x576 with 0 Axes>"
      ]
     },
     "metadata": {},
     "output_type": "display_data"
    },
    {
     "data": {
      "text/plain": [
       "<Figure size 720x576 with 0 Axes>"
      ]
     },
     "metadata": {},
     "output_type": "display_data"
    },
    {
     "data": {
      "text/plain": [
       "<Figure size 720x576 with 0 Axes>"
      ]
     },
     "metadata": {},
     "output_type": "display_data"
    },
    {
     "data": {
      "text/plain": [
       "<Figure size 720x576 with 0 Axes>"
      ]
     },
     "metadata": {},
     "output_type": "display_data"
    },
    {
     "data": {
      "text/plain": [
       "<Figure size 720x576 with 0 Axes>"
      ]
     },
     "metadata": {},
     "output_type": "display_data"
    },
    {
     "data": {
      "text/plain": [
       "<Figure size 720x576 with 0 Axes>"
      ]
     },
     "metadata": {},
     "output_type": "display_data"
    },
    {
     "data": {
      "text/plain": [
       "<Figure size 720x576 with 0 Axes>"
      ]
     },
     "metadata": {},
     "output_type": "display_data"
    },
    {
     "data": {
      "text/plain": [
       "<Figure size 720x576 with 0 Axes>"
      ]
     },
     "metadata": {},
     "output_type": "display_data"
    },
    {
     "data": {
      "text/plain": [
       "<Figure size 720x576 with 0 Axes>"
      ]
     },
     "metadata": {},
     "output_type": "display_data"
    },
    {
     "data": {
      "text/plain": [
       "<Figure size 720x576 with 0 Axes>"
      ]
     },
     "metadata": {},
     "output_type": "display_data"
    },
    {
     "data": {
      "text/plain": [
       "<Figure size 720x576 with 0 Axes>"
      ]
     },
     "metadata": {},
     "output_type": "display_data"
    },
    {
     "data": {
      "text/plain": [
       "<Figure size 720x576 with 0 Axes>"
      ]
     },
     "metadata": {},
     "output_type": "display_data"
    },
    {
     "data": {
      "text/plain": [
       "<Figure size 720x576 with 0 Axes>"
      ]
     },
     "metadata": {},
     "output_type": "display_data"
    },
    {
     "data": {
      "text/plain": [
       "<Figure size 720x576 with 0 Axes>"
      ]
     },
     "metadata": {},
     "output_type": "display_data"
    },
    {
     "data": {
      "text/plain": [
       "<Figure size 720x576 with 0 Axes>"
      ]
     },
     "metadata": {},
     "output_type": "display_data"
    },
    {
     "data": {
      "text/plain": [
       "<Figure size 720x576 with 0 Axes>"
      ]
     },
     "metadata": {},
     "output_type": "display_data"
    },
    {
     "data": {
      "text/plain": [
       "<Figure size 720x576 with 0 Axes>"
      ]
     },
     "metadata": {},
     "output_type": "display_data"
    },
    {
     "data": {
      "text/plain": [
       "<Figure size 720x576 with 0 Axes>"
      ]
     },
     "metadata": {},
     "output_type": "display_data"
    },
    {
     "data": {
      "text/plain": [
       "<Figure size 720x576 with 0 Axes>"
      ]
     },
     "metadata": {},
     "output_type": "display_data"
    },
    {
     "data": {
      "text/plain": [
       "<Figure size 720x576 with 0 Axes>"
      ]
     },
     "metadata": {},
     "output_type": "display_data"
    },
    {
     "data": {
      "text/plain": [
       "<Figure size 720x576 with 0 Axes>"
      ]
     },
     "metadata": {},
     "output_type": "display_data"
    },
    {
     "data": {
      "text/plain": [
       "<Figure size 720x576 with 0 Axes>"
      ]
     },
     "metadata": {},
     "output_type": "display_data"
    },
    {
     "data": {
      "text/plain": [
       "<Figure size 720x576 with 0 Axes>"
      ]
     },
     "metadata": {},
     "output_type": "display_data"
    },
    {
     "data": {
      "text/plain": [
       "<Figure size 720x576 with 0 Axes>"
      ]
     },
     "metadata": {},
     "output_type": "display_data"
    },
    {
     "data": {
      "text/plain": [
       "<Figure size 720x576 with 0 Axes>"
      ]
     },
     "metadata": {},
     "output_type": "display_data"
    },
    {
     "data": {
      "text/plain": [
       "<Figure size 720x576 with 0 Axes>"
      ]
     },
     "metadata": {},
     "output_type": "display_data"
    },
    {
     "data": {
      "text/plain": [
       "<Figure size 720x576 with 0 Axes>"
      ]
     },
     "metadata": {},
     "output_type": "display_data"
    },
    {
     "data": {
      "text/plain": [
       "<Figure size 720x576 with 0 Axes>"
      ]
     },
     "metadata": {},
     "output_type": "display_data"
    },
    {
     "data": {
      "text/plain": [
       "<Figure size 720x576 with 0 Axes>"
      ]
     },
     "metadata": {},
     "output_type": "display_data"
    },
    {
     "data": {
      "text/plain": [
       "<Figure size 720x576 with 0 Axes>"
      ]
     },
     "metadata": {},
     "output_type": "display_data"
    },
    {
     "data": {
      "text/plain": [
       "<Figure size 720x576 with 0 Axes>"
      ]
     },
     "metadata": {},
     "output_type": "display_data"
    },
    {
     "data": {
      "text/plain": [
       "<Figure size 720x576 with 0 Axes>"
      ]
     },
     "metadata": {},
     "output_type": "display_data"
    },
    {
     "data": {
      "text/plain": [
       "<Figure size 720x576 with 0 Axes>"
      ]
     },
     "metadata": {},
     "output_type": "display_data"
    },
    {
     "data": {
      "text/plain": [
       "<Figure size 720x576 with 0 Axes>"
      ]
     },
     "metadata": {},
     "output_type": "display_data"
    },
    {
     "data": {
      "text/plain": [
       "<Figure size 720x576 with 0 Axes>"
      ]
     },
     "metadata": {},
     "output_type": "display_data"
    },
    {
     "data": {
      "text/plain": [
       "<Figure size 720x576 with 0 Axes>"
      ]
     },
     "metadata": {},
     "output_type": "display_data"
    },
    {
     "data": {
      "text/plain": [
       "<Figure size 720x576 with 0 Axes>"
      ]
     },
     "metadata": {},
     "output_type": "display_data"
    },
    {
     "data": {
      "text/plain": [
       "<Figure size 720x576 with 0 Axes>"
      ]
     },
     "metadata": {},
     "output_type": "display_data"
    },
    {
     "data": {
      "text/plain": [
       "<Figure size 720x576 with 0 Axes>"
      ]
     },
     "metadata": {},
     "output_type": "display_data"
    },
    {
     "data": {
      "text/plain": [
       "<Figure size 720x576 with 0 Axes>"
      ]
     },
     "metadata": {},
     "output_type": "display_data"
    },
    {
     "data": {
      "text/plain": [
       "<Figure size 720x576 with 0 Axes>"
      ]
     },
     "metadata": {},
     "output_type": "display_data"
    },
    {
     "data": {
      "text/plain": [
       "<Figure size 720x576 with 0 Axes>"
      ]
     },
     "metadata": {},
     "output_type": "display_data"
    },
    {
     "data": {
      "text/plain": [
       "<Figure size 720x576 with 0 Axes>"
      ]
     },
     "metadata": {},
     "output_type": "display_data"
    },
    {
     "data": {
      "text/plain": [
       "<Figure size 720x576 with 0 Axes>"
      ]
     },
     "metadata": {},
     "output_type": "display_data"
    },
    {
     "data": {
      "text/plain": [
       "<Figure size 720x576 with 0 Axes>"
      ]
     },
     "metadata": {},
     "output_type": "display_data"
    },
    {
     "data": {
      "text/plain": [
       "<Figure size 720x576 with 0 Axes>"
      ]
     },
     "metadata": {},
     "output_type": "display_data"
    },
    {
     "data": {
      "text/plain": [
       "<Figure size 720x576 with 0 Axes>"
      ]
     },
     "metadata": {},
     "output_type": "display_data"
    },
    {
     "data": {
      "text/plain": [
       "<Figure size 720x576 with 0 Axes>"
      ]
     },
     "metadata": {},
     "output_type": "display_data"
    },
    {
     "data": {
      "text/plain": [
       "<Figure size 720x576 with 0 Axes>"
      ]
     },
     "metadata": {},
     "output_type": "display_data"
    },
    {
     "data": {
      "text/plain": [
       "<Figure size 720x576 with 0 Axes>"
      ]
     },
     "metadata": {},
     "output_type": "display_data"
    },
    {
     "data": {
      "text/plain": [
       "<Figure size 720x576 with 0 Axes>"
      ]
     },
     "metadata": {},
     "output_type": "display_data"
    },
    {
     "data": {
      "text/plain": [
       "<Figure size 720x576 with 0 Axes>"
      ]
     },
     "metadata": {},
     "output_type": "display_data"
    },
    {
     "data": {
      "text/plain": [
       "<Figure size 720x576 with 0 Axes>"
      ]
     },
     "metadata": {},
     "output_type": "display_data"
    },
    {
     "data": {
      "text/plain": [
       "<Figure size 720x576 with 0 Axes>"
      ]
     },
     "metadata": {},
     "output_type": "display_data"
    },
    {
     "data": {
      "text/plain": [
       "<Figure size 720x576 with 0 Axes>"
      ]
     },
     "metadata": {},
     "output_type": "display_data"
    },
    {
     "data": {
      "text/plain": [
       "<Figure size 720x576 with 0 Axes>"
      ]
     },
     "metadata": {},
     "output_type": "display_data"
    },
    {
     "data": {
      "text/plain": [
       "<Figure size 720x576 with 0 Axes>"
      ]
     },
     "metadata": {},
     "output_type": "display_data"
    },
    {
     "data": {
      "text/plain": [
       "<Figure size 720x576 with 0 Axes>"
      ]
     },
     "metadata": {},
     "output_type": "display_data"
    },
    {
     "data": {
      "text/plain": [
       "<Figure size 720x576 with 0 Axes>"
      ]
     },
     "metadata": {},
     "output_type": "display_data"
    },
    {
     "data": {
      "text/plain": [
       "<Figure size 720x576 with 0 Axes>"
      ]
     },
     "metadata": {},
     "output_type": "display_data"
    },
    {
     "data": {
      "text/plain": [
       "<Figure size 720x576 with 0 Axes>"
      ]
     },
     "metadata": {},
     "output_type": "display_data"
    },
    {
     "data": {
      "text/plain": [
       "<Figure size 720x576 with 0 Axes>"
      ]
     },
     "metadata": {},
     "output_type": "display_data"
    },
    {
     "data": {
      "text/plain": [
       "<Figure size 720x576 with 0 Axes>"
      ]
     },
     "metadata": {},
     "output_type": "display_data"
    },
    {
     "data": {
      "text/plain": [
       "<Figure size 720x576 with 0 Axes>"
      ]
     },
     "metadata": {},
     "output_type": "display_data"
    },
    {
     "data": {
      "text/plain": [
       "<Figure size 720x576 with 0 Axes>"
      ]
     },
     "metadata": {},
     "output_type": "display_data"
    },
    {
     "data": {
      "text/plain": [
       "<Figure size 720x576 with 0 Axes>"
      ]
     },
     "metadata": {},
     "output_type": "display_data"
    },
    {
     "data": {
      "text/plain": [
       "<Figure size 720x576 with 0 Axes>"
      ]
     },
     "metadata": {},
     "output_type": "display_data"
    },
    {
     "data": {
      "text/plain": [
       "<Figure size 720x576 with 0 Axes>"
      ]
     },
     "metadata": {},
     "output_type": "display_data"
    },
    {
     "data": {
      "text/plain": [
       "<Figure size 720x576 with 0 Axes>"
      ]
     },
     "metadata": {},
     "output_type": "display_data"
    },
    {
     "data": {
      "text/plain": [
       "<Figure size 720x576 with 0 Axes>"
      ]
     },
     "metadata": {},
     "output_type": "display_data"
    },
    {
     "data": {
      "text/plain": [
       "<Figure size 720x576 with 0 Axes>"
      ]
     },
     "metadata": {},
     "output_type": "display_data"
    },
    {
     "data": {
      "text/plain": [
       "<Figure size 720x576 with 0 Axes>"
      ]
     },
     "metadata": {},
     "output_type": "display_data"
    },
    {
     "data": {
      "text/plain": [
       "<Figure size 720x576 with 0 Axes>"
      ]
     },
     "metadata": {},
     "output_type": "display_data"
    },
    {
     "data": {
      "image/png": "[encoded data removed]",
      "text/plain": [
       "<Figure size 720x576 with 1 Axes>"
      ]
     },
     "metadata": {
      "needs_background": "light"
     },
     "output_type": "display_data"
    }
   ],
   "source": [
    "pd.set_option('display.float_format', lambda x: '%.8f' % x)\n",
    "symb = []\n",
    "performance = []\n",
    "for i in result_list:\n",
    "    A_symbol, B_symbol = i[0], i[1]\n",
    "#     A_symbol, B_symbol = 'ETHUSDT', 'BNBUSDT'\n",
    "    init = 200000\n",
    "    pastStatus = 0\n",
    "    AOldOrderPrice = None\n",
    "    BOldOrderPrice = None\n",
    "    aEntryPriceList, bEntryPriceList = [], []\n",
    "    lookback = 20\n",
    "\n",
    "    balanceDict = {'A':{'available': 100000, 'position':0}, 'B':{'available': 100000, 'position':0}}\n",
    "    entryZscore = 1 \n",
    "    exitZscore = 0.2 # take profit\n",
    "    stopLoss = 1.2\n",
    "    #     miniSpread = 0.01\n",
    "    df1 = df[[A_symbol, B_symbol]]\n",
    "    df1['ratio'] = df1[A_symbol]/df1[B_symbol]\n",
    "    df1['zscore'] = rolling_apply(z_score, 20, df1['ratio'])\n",
    "    history = pd.DataFrame()\n",
    "    statusList = []\n",
    "    pl = []\n",
    "    date, A_available, A_position, B_available, B_position, Balance, initList, A_price, B_price= [], [], [], [], [], [], [], [], []\n",
    "    for index, row in df1.iterrows():\n",
    "        currStatus = 0 if (pastStatus == 1 and row['zscore'] < -exitZscore) or (pastStatus == -1 and row['zscore'] > exitZscore) else 1 if (pastStatus == 1 and row['zscore'] > exitZscore or row['zscore'] > entryZscore) and row['zscore'] < stopLoss else 2 if row['zscore'] > stopLoss else -1 if (pastStatus == -1 and row['zscore'] < -exitZscore or row['zscore'] < -entryZscore) and row['zscore'] > -stopLoss else -2 if row['zscore'] < -stopLoss else 0\n",
    "    #     currStatus = 0 if (pastStatus == 1 and row['zscore'] > -exitZscore) or (pastStatus == -1 and row['zscore'] < exitZscore) else 1 if (pastStatus == 1 and row['zscore'] < -exitZscore or row['zscore'] < -entryZscore) and row['zscore'] > -stopLoss else 2 if (pastStatus == 2 and row['zscore'] < -stopLoss or row['zscore'] < -stopLoss) else -1 if (pastStatus == -1 and row['zscore'] > exitZscore or row['zscore'] > entryZscore) and row['zscore'] < stopLoss else -2 if (pastStatus == -2 and row['zscore'] > stopLoss or row['zscore'] > stopLoss) else 0\n",
    "    #     currStatus = 0 if (pastStatus == 1 and row['zscore'] > -exitZscore) or (pastStatus == -1 and row['zscore'] < exitZscore) else 1 if (pastStatus == 1 and row['zscore'] < -exitZscore or row['zscore'] < -entryZscore) else -1 if (pastStatus == -1 and row['zscore'] > exitZscore or row['zscore'] > entryZscore) else 0\n",
    "        con = (pastStatus, currStatus)\n",
    "        if pastStatus != currStatus:\n",
    "            strategy[con](row[A_symbol], row[B_symbol], currStatus, row['ratio'], )\n",
    "            AOldOrderPrice, BOldOrderPrice = row[A_symbol], row[B_symbol]\n",
    "            aEntryPriceList.append(AOldOrderPrice)\n",
    "            bEntryPriceList.append(BOldOrderPrice)\n",
    "        else:\n",
    "            aEntryPriceList.append(0)\n",
    "            bEntryPriceList.append(0)\n",
    "        pastStatus = currStatus\n",
    "        statusList.append(currStatus)\n",
    "\n",
    "        date.append(index)\n",
    "        initList.append(init)\n",
    "        A_price.append(row[A_symbol])\n",
    "        B_price.append(row[B_symbol])\n",
    "        A_available.append(balanceDict['A']['available'])\n",
    "        A_position.append(balanceDict['A']['position'])\n",
    "        B_available.append(balanceDict['B']['available'])\n",
    "        B_position.append(balanceDict['B']['position'])\n",
    "        Balance.append(balanceDict['A']['available'] + balanceDict['B']['available'])\n",
    "    #     print('date: ', index, 'balanceDict:', balanceDict)\n",
    "    np.set_printoptions(suppress=True)\n",
    "    history['date'] = date\n",
    "    history['statusList'] = statusList\n",
    "    history['zscore'] = df1['zscore'].tolist()\n",
    "    history['{}_position'.format(A_symbol)] = A_position\n",
    "    history['{}_price'.format(A_symbol)] = A_price\n",
    "    #     history['{}_total'.format(A_symbol)] = abs(history['{}_position'.format(A_symbol)]) * history['{}_price'.format(A_symbol)]\n",
    "    history['{}_position'.format(B_symbol)] = B_position\n",
    "    history['{}_price'.format(B_symbol)] = B_price\n",
    "    #     history['{}_total'.format(B_symbol)] = abs(history['{}_position'.format(B_symbol)]) * history['{}_price'.format(B_symbol)]\n",
    "    # history['balance'] = history['{}_available'.format(A_symbol)] + (abs(history['{}_position'.format(A_symbol)]) * history['{}_price'.format(A_symbol)]) + history['{}_available'.format(B_symbol)] + (abs(history['{}_position'.format(B_symbol)]) * history['{}_price'.format(B_symbol)])\n",
    "    ## 初始本金\n",
    "    history['init'] = [200000]* history.shape[0] \n",
    "    ## 帳面收入\n",
    "    history['total_asset'] = initList + (abs(history['{}_position'.format(A_symbol)]) * history['{}_price'.format(A_symbol)]) + (abs(history['{}_position'.format(B_symbol)]) * history['{}_price'.format(B_symbol)])\n",
    "    ## 損益\n",
    "    history['pnl'] = history['total_asset'] - history['init'] \n",
    "    history['return'] = history['pnl']/history['init'] + 1\n",
    "    history = history.set_index(['date'])\n",
    "\n",
    "    # print(history['return'])\n",
    "    print('[pair trade]{}-{} {}%'.format(A_symbol, B_symbol, \"{:.8f}\".format((history['return'].iloc[-1] -1) * 100)))\n",
    "    symb.append('{}-{}'.format(A_symbol, B_symbol))\n",
    "    performance.append(\"{:.8f}\".format((history['return'].iloc[-1] -1) * 100))\n",
    "    plt.clf()\n",
    "    plt.figure(figsize=(10,8))\n",
    "    # history['total_asset'].plot()\n",
    "    history['total_asset'].plot.line()\n",
    "#     plt.show()\n",
    "    plt.savefig(\"chart/{}-{}\".format(A_symbol, B_symbol))\n",
    "    history.to_csv('process/{}_{}.csv'.format(A_symbol, B_symbol))\n",
    "perf = pd.DataFrame({'symbol' : symb, 'performance': performance})\n",
    "perf.to_csv('performance.csv')"
   ]
  },
  {
   "cell_type": "markdown",
   "metadata": {},
   "source": [
    "# original ratio"
   ]
  },
  {
   "cell_type": "code",
   "execution_count": null,
   "metadata": {},
   "outputs": [],
   "source": [
    "pd.set_option('display.float_format', lambda x: '%.8f' % x)\n",
    "\n",
    "for i in result_list:\n",
    "    A_symbol, B_symbol = i[0], i[1]\n",
    "# A_symbol, B_symbol = 'BTCUSDT', 'ETHUSDT'\n",
    "    init = 100000\n",
    "    pastStatus = 0\n",
    "    AOldOrderPrice = None\n",
    "    BOldOrderPrice = None\n",
    "    aEntryPriceList, bEntryPriceList = [], []\n",
    "    lookback = 20\n",
    "\n",
    "    balanceDict = {'A':{'available': 100000, 'position':0}, 'B':{'available': 100000, 'position':0}}\n",
    "    entryZscore = 1.5 \n",
    "    exitZscore = 0.5 # take profit\n",
    "    stopLoss = 2\n",
    "    #     miniSpread = 0.01\n",
    "    df1 = df[[A_symbol, B_symbol]]\n",
    "\n",
    "    hedgeRatio=np.full(df1.shape[0], 0.0)\n",
    "\n",
    "    df1['ratio'] = df1[A_symbol]/df1[B_symbol]\n",
    "    df1['zscore'] = rolling_apply(z_score, 20, df1['ratio'])\n",
    "\n",
    "    history_original = pd.DataFrame()\n",
    "    statusList = []\n",
    "    pl = []\n",
    "    date, A_available, A_position, B_available, B_position, init, Balance , A_price, B_price= [], [], [], [], [], [], [], [], []\n",
    "    for index, row in df1.iterrows():\n",
    "    #     currStatus = 0 if (pastStatus == 1 and row['zscore'] > -exitZscore) or (pastStatus == -1 and row['zscore'] < exitZscore) else 1 if (pastStatus == 1 and row['zscore'] < -exitZscore or row['zscore'] < -entryZscore) and row['zscore'] > -stopLoss else 2 if (pastStatus == 2 and row['zscore'] < -stopLoss or row['zscore'] < -stopLoss) else -1 if (pastStatus == -1 and row['zscore'] > exitZscore or row['zscore'] > entryZscore) and row['zscore'] < stopLoss else -2 if (pastStatus == -2 and row['zscore'] > stopLoss or row['zscore'] > stopLoss) else 0\n",
    "        currStatus = 0 if (pastStatus == 1 and row['zscore'] > -exitZscore) or (pastStatus == -1 and row['zscore'] < exitZscore) else 1 if (pastStatus == 1 and row['zscore'] < -exitZscore or row['zscore'] < -entryZscore) else -1 if (pastStatus == -1 and row['zscore'] > exitZscore or row['zscore'] > entryZscore) else 0\n",
    "        con = (pastStatus, currStatus)\n",
    "        if pastStatus != currStatus:\n",
    "            strategy[con](row[A_symbol], row[B_symbol], currStatus, row['ratio'], )\n",
    "            AOldOrderPrice, BOldOrderPrice = row[A_symbol], row[B_symbol]\n",
    "            aEntryPriceList.append(AOldOrderPrice)\n",
    "            bEntryPriceList.append(BOldOrderPrice)\n",
    "        else:\n",
    "            aEntryPriceList.append(0)\n",
    "            bEntryPriceList.append(0)\n",
    "        pastStatus = currStatus\n",
    "        statusList.append(currStatus)\n",
    "\n",
    "        date.append(index)\n",
    "        A_price.append(row[A_symbol])\n",
    "        B_price.append(row[B_symbol])\n",
    "        A_available.append(balanceDict['A']['available'])\n",
    "        A_position.append(balanceDict['A']['position'])\n",
    "        B_available.append(balanceDict['B']['available'])\n",
    "        B_position.append(balanceDict['B']['position'])\n",
    "        Balance.append(balanceDict['A']['available'] + balanceDict['B']['available'])\n",
    "    #     print('date: ', index, 'balanceDict:', balanceDict)\n",
    "    np.set_printoptions(suppress=True)\n",
    "    history_original['date'] = date\n",
    "    history_original['statusList'] = statusList\n",
    "    history_original['{}_available'.format(A_symbol)] = A_available\n",
    "    history_original['{}_position'.format(A_symbol)] = A_position\n",
    "    history_original['{}_price'.format(A_symbol)] = A_price\n",
    "    history_original['{}_available'.format(B_symbol)] = B_available\n",
    "    history_original['{}_position'.format(B_symbol)] = B_position\n",
    "    history_original['{}_price'.format(B_symbol)] = B_price\n",
    "    history_original['init'] = [200000]* history_original.shape[0]\n",
    "    history_original['balance'] = history_original['{}_available'.format(A_symbol)] + (abs(history_original['{}_position'.format(A_symbol)]) * history_original['{}_price'.format(A_symbol)]) + history_original['{}_available'.format(B_symbol)] + (abs(history_original['{}_position'.format(B_symbol)]) * history_original['{}_price'.format(B_symbol)])\n",
    "    history_original['pnl'] = history_original['balance'] - history_original['init']\n",
    "    history_original['return'] = history_original['balance']/200000 -1\n",
    "    #     history.to_csv(\"pair_trade_ratio/{}-{}_ratio.xls\".format(A_symbol, B_symbol))\n",
    "    #     print(history_original['return'])\n",
    "    print('[pair trade]{}-{} {}%'.format(A_symbol, B_symbol, \"{:.8f}\".format(history_original['return'].iloc[-1] * 100)))\n",
    "    plt.clf()\n",
    "    plt.figure(figsize=(10,8))\n",
    "    history_original['return'].plot()\n",
    "    plt.show()\n",
    "        #     plt.savefig(\"pair_trade_ratio/{}-{}_ratio\".format(A_symbol, B_symbol))"
   ]
  }
 ],
 "metadata": {
  "kernelspec": {
   "display_name": "Python 3",
   "language": "python",
   "name": "python3"
  },
  "language_info": {
   "codemirror_mode": {
    "name": "ipython",
    "version": 3
   },
   "file_extension": ".py",
   "mimetype": "text/x-python",
   "name": "python",
   "nbconvert_exporter": "python",
   "pygments_lexer": "ipython3",
   "version": "3.7.4"
  }
 },
 "nbformat": 4,
 "nbformat_minor": 5
}
