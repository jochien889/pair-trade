{
 "cells": [
  {
   "cell_type": "code",
   "execution_count": 7,
   "id": "786bc821",
   "metadata": {},
   "outputs": [],
   "source": [
    "from datetime import datetime\n",
    "import time\n",
    "from dateutil.relativedelta import relativedelta"
   ]
  },
  {
   "cell_type": "code",
   "execution_count": 5,
   "id": "24ff7d8d",
   "metadata": {},
   "outputs": [
    {
     "data": {
      "text/plain": [
       "'2022_06'"
      ]
     },
     "execution_count": 5,
     "metadata": {},
     "output_type": "execute_result"
    }
   ],
   "source": [
    "datetime.fromtimestamp(int(time.time())).strftime(\"%Y_%m\")"
   ]
  },
  {
   "cell_type": "code",
   "execution_count": 11,
   "id": "f602e65d",
   "metadata": {},
   "outputs": [
    {
     "data": {
      "text/plain": [
       "'2022_04'"
      ]
     },
     "execution_count": 11,
     "metadata": {},
     "output_type": "execute_result"
    }
   ],
   "source": [
    "(datetime.now() + relativedelta(months=-2)).strftime(\"%Y_%m\")"
   ]
  },
  {
   "cell_type": "code",
   "execution_count": 1,
   "id": "c1674b7a",
   "metadata": {},
   "outputs": [],
   "source": [
    "a = ['XLMUSDT_DASHUSDT',\n",
    "     'LINKUSDT_BCHUSDT',\n",
    "     'NEOUSDT_EOSUSDT',\n",
    "     'DASHUSDT_LTCUSDT',\n",
    "     'QTUMUSDT_VETUSDT',\n",
    "     'DASHUSDT_LINKUSDT',\n",
    "     'IOTAUSDT_LTCUSDT',\n",
    "     'LTCUSDT_XLMUSDT',\n",
    "     'LTCUSDT_LINKUSDT',\n",
    "     'DASHUSDT_BCHUSDT',\n",
    "     'BCHUSDT_LINKUSDT',\n",
    "     'ZECUSDT_BATUSDT',\n",
    "     'XRPUSDT_QTUMUSDT',\n",
    "     'ZECUSDT_XMRUSDT',\n",
    "     'THETAUSDT_VETUSDT',\n",
    "     'LINKUSDT_DASHUSDT',\n",
    "     'XMRUSDT_ZECUSDT',\n",
    "     'BCHUSDT_DASHUSDT',\n",
    "     'QTUMUSDT_XRPUSDT',\n",
    "     'VETUSDT_QTUMUSDT',\n",
    "     'LINKUSDT_LTCUSDT',\n",
    "     'IOTAUSDT_VETUSDT',\n",
    "     'XLMUSDT_LTCUSDT']"
   ]
  },
  {
   "cell_type": "code",
   "execution_count": 11,
   "id": "175e9dc3",
   "metadata": {},
   "outputs": [
    {
     "data": {
      "text/plain": [
       "23"
      ]
     },
     "execution_count": 11,
     "metadata": {},
     "output_type": "execute_result"
    }
   ],
   "source": [
    "len(a)"
   ]
  },
  {
   "cell_type": "code",
   "execution_count": 10,
   "id": "a5f2a779",
   "metadata": {},
   "outputs": [
    {
     "name": "stdout",
     "output_type": "stream",
     "text": [
      "['XLMUSDT', 'DASHUSDT', 'LINKUSDT', 'BCHUSDT', 'NEOUSDT', 'EOSUSDT', 'DASHUSDT', 'LTCUSDT', 'QTUMUSDT', 'VETUSDT', 'DASHUSDT', 'LINKUSDT', 'IOTAUSDT', 'LTCUSDT', 'LTCUSDT', 'XLMUSDT', 'LTCUSDT', 'LINKUSDT', 'DASHUSDT', 'BCHUSDT', 'BCHUSDT', 'LINKUSDT', 'ZECUSDT', 'BATUSDT', 'XRPUSDT', 'QTUMUSDT', 'ZECUSDT', 'XMRUSDT', 'THETAUSDT', 'VETUSDT', 'LINKUSDT', 'DASHUSDT', 'XMRUSDT', 'ZECUSDT', 'BCHUSDT', 'DASHUSDT', 'QTUMUSDT', 'XRPUSDT', 'VETUSDT', 'QTUMUSDT', 'LINKUSDT', 'LTCUSDT', 'IOTAUSDT', 'VETUSDT', 'XLMUSDT', 'LTCUSDT']\n",
      "tmpDict:  {'XLMUSDT': 3, 'DASHUSDT': 6, 'LINKUSDT': 6, 'BCHUSDT': 4, 'NEOUSDT': 1, 'EOSUSDT': 1, 'LTCUSDT': 6, 'QTUMUSDT': 4, 'VETUSDT': 4, 'IOTAUSDT': 2, 'ZECUSDT': 3, 'BATUSDT': 1, 'XRPUSDT': 2, 'XMRUSDT': 2, 'THETAUSDT': 1}\n"
     ]
    }
   ],
   "source": [
    "tmpList = []\n",
    "for i in a:\n",
    "    x = i.split('_')\n",
    "    tmpList.append(x[0])\n",
    "    tmpList.append(x[1])\n",
    "    \n",
    "print(tmpList)\n",
    "tmpDict = {i:tmpList.count(i) for i in tmpList}\n",
    "print('tmpDict: ', tmpDict)"
   ]
  },
  {
   "cell_type": "code",
   "execution_count": 12,
   "id": "75c20a0d",
   "metadata": {},
   "outputs": [
    {
     "name": "stdout",
     "output_type": "stream",
     "text": [
      "8.346666666666666\n"
     ]
    }
   ],
   "source": [
    "y = (8.77*2 +7.5)\n",
    "x = y/3\n",
    "print(x)"
   ]
  },
  {
   "cell_type": "code",
   "execution_count": null,
   "id": "b44d22c9",
   "metadata": {},
   "outputs": [],
   "source": []
  },
  {
   "cell_type": "code",
   "execution_count": null,
   "id": "1abe0abf",
   "metadata": {},
   "outputs": [],
   "source": []
  },
  {
   "cell_type": "code",
   "execution_count": null,
   "id": "61b315de",
   "metadata": {},
   "outputs": [],
   "source": []
  },
  {
   "cell_type": "code",
   "execution_count": null,
   "id": "98650e9c",
   "metadata": {},
   "outputs": [],
   "source": [
    "主要負責"
   ]
  }
 ],
 "metadata": {
  "kernelspec": {
   "display_name": "Python 3 (ipykernel)",
   "language": "python",
   "name": "python3"
  },
  "language_info": {
   "codemirror_mode": {
    "name": "ipython",
    "version": 3
   },
   "file_extension": ".py",
   "mimetype": "text/x-python",
   "name": "python",
   "nbconvert_exporter": "python",
   "pygments_lexer": "ipython3",
   "version": "3.9.7"
  }
 },
 "nbformat": 4,
 "nbformat_minor": 5
}
