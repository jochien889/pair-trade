{
 "cells": [
  {
   "cell_type": "code",
   "execution_count": 1,
   "id": "96c094d0",
   "metadata": {},
   "outputs": [],
   "source": [
    "from BinanceHttpClient import BinanceHttp, contractType, Interval, OrderSide, OrderType\n",
    "import pandas as pd\n",
    "import numpy as np\n",
    "from datetime import datetime\n",
    "import time\n",
    "import traceback"
   ]
  },
  {
   "cell_type": "code",
   "execution_count": 2,
   "id": "d1bb085b",
   "metadata": {},
   "outputs": [],
   "source": [
    "def tsConverter(Year, Month, Day, Hour, Min, Second):\n",
    "    ts= datetime(Year, Month, Day, Hour, Min, Second).timestamp()\n",
    "    return int(ts)\n",
    "\n",
    "http_client = BinanceHttp(marketType = 'USDTFutures')\n",
    "exchangeInfo = http_client.get_exchange_info()\n",
    "exchangeInfo['symbols']\n",
    "usdt = [i['symbol'] for i in exchangeInfo['symbols'] if ((i['symbol'][-4:] == 'USDT') & ( i['status'] == 'TRADING'))]"
   ]
  },
  {
   "cell_type": "code",
   "execution_count": null,
   "id": "9e1405ce",
   "metadata": {},
   "outputs": [],
   "source": [
    "file_name_list = ['1D', '4H', '1H', '15MIN', '1MIN']\n",
    "interval_list = [ Interval.HOUR_4, Interval.HOUR_1, Interval.MINUTE_15, Interval.MINUTE_1]\n",
    "minute_list = [60*24, 60*4, 60, 15, 1]\n",
    "\n",
    "for fi in range(len(file_name_list)):\n",
    "    print('fi:', fi)\n",
    "    interval = interval_list[fi]\n",
    "\n",
    "    columns = {'date': 0, 'open': 1, 'high': 2, 'low': 3, 'close': 4, 'volume': 5}\n",
    "    result = []\n",
    "    for j, i in enumerate(usdt):\n",
    "        start_time = tsConverter(2021, 6, 8, 0, 0, 0) * 1000 ### UTC +8\n",
    "        end_time = tsConverter(2022, 6, 8, 0, 0, 0) * 1000   ### UTC +8\n",
    "        klineList = []\n",
    "        print('#######################################')\n",
    "        while start_time <= end_time:\n",
    "            klineResp = http_client.get_kline(symbol = f'{i}', interval=interval, start_time = start_time, end_time= end_time, limit=1000)\n",
    "            print(pd.Timestamp(klineResp[0][0]*1000000), pd.Timestamp(klineResp[-1][0]*1000000))\n",
    "            print((klineResp[-1][0]-klineResp[0][0]+60000)/60000, len(klineResp))\n",
    "            klineList += klineResp\n",
    "            start_time += 1000 * 60 * 1000 * minute_list[fi] # 1代表1分鐘\n",
    "        print(j)\n",
    "        ts = {i[0] for i in klineList}\n",
    "\n",
    "        #if len(ts) == 13087:\n",
    "        print(i, len(ts))\n",
    "\n",
    "        print('#######################################')\n",
    "        result.append(i)\n",
    "\n",
    "        klines = [[datetime.fromtimestamp(int(kline[0]/1000)).strftime(\"%Y-%m-%d, %H:%M:%S\"),\n",
    "                       kline[1],kline[2],kline[3],kline[4],kline[5]] for kline in klineList]\n",
    "\n",
    "        df = pd.DataFrame(klines, columns = columns)\n",
    "        df.to_csv(f'{file_name_list[fi]}/{i}.csv', index=False)\n",
    "    df = pd.DataFrame(result, columns = ['symbol'])\n",
    "    df.to_csv(f'{file_name_list[fi]}/symbols.csv')"
   ]
  }
 ],
 "metadata": {
  "kernelspec": {
   "display_name": "Python 3 (ipykernel)",
   "language": "python",
   "name": "python3"
  },
  "language_info": {
   "codemirror_mode": {
    "name": "ipython",
    "version": 3
   },
   "file_extension": ".py",
   "mimetype": "text/x-python",
   "name": "python",
   "nbconvert_exporter": "python",
   "pygments_lexer": "ipython3",
   "version": "3.9.7"
  }
 },
 "nbformat": 4,
 "nbformat_minor": 5
}
