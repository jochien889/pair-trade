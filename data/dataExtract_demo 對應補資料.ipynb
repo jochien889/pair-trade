{
 "cells": [
  {
   "cell_type": "code",
   "execution_count": 6,
   "id": "ea214147",
   "metadata": {},
   "outputs": [],
   "source": [
    "from BinanceHttpClient import BinanceHttp, contractType, Interval, OrderSide, OrderType\n",
    "import pandas as pd\n",
    "import numpy as np\n",
    "from datetime import datetime\n",
    "import time\n",
    "import traceback"
   ]
  },
  {
   "cell_type": "code",
   "execution_count": 7,
   "id": "bc5b2413",
   "metadata": {},
   "outputs": [],
   "source": [
    "def tsConverter(Year, Month, Day, Hour, Min, Second):\n",
    "    ts= datetime(Year, Month, Day, Hour, Min, Second).timestamp()\n",
    "    return int(ts)\n",
    "\n",
    "# interval = MINUTE_30"
   ]
  },
  {
   "cell_type": "code",
   "execution_count": 19,
   "id": "ef629549",
   "metadata": {},
   "outputs": [],
   "source": [
    "http_client = BinanceHttp(marketType = 'COINFutures')\n",
    "exchangeInfo = http_client.get_exchange_info()\n",
    "exchangeInfo['symbols']\n",
    "usdt = [i['symbol'] for i in exchangeInfo['symbols']]"
   ]
  },
  {
   "cell_type": "code",
   "execution_count": 15,
   "id": "83328178",
   "metadata": {},
   "outputs": [
    {
     "data": {
      "text/plain": [
       "165"
      ]
     },
     "execution_count": 15,
     "metadata": {},
     "output_type": "execute_result"
    }
   ],
   "source": [
    "len(usdt)"
   ]
  },
  {
   "cell_type": "code",
   "execution_count": 17,
   "id": "17e4bf45",
   "metadata": {},
   "outputs": [
    {
     "data": {
      "text/plain": [
       "1462"
      ]
     },
     "execution_count": 17,
     "metadata": {},
     "output_type": "execute_result"
    }
   ],
   "source": [
    "len(usdt)"
   ]
  },
  {
   "cell_type": "code",
   "execution_count": 20,
   "id": "178b3a64",
   "metadata": {},
   "outputs": [
    {
     "data": {
      "text/plain": [
       "59"
      ]
     },
     "execution_count": 20,
     "metadata": {},
     "output_type": "execute_result"
    }
   ],
   "source": [
    "len(usdt)"
   ]
  },
  {
   "cell_type": "code",
   "execution_count": 23,
   "id": "3b3674c7",
   "metadata": {},
   "outputs": [
    {
     "data": {
      "text/plain": [
       "2427840"
      ]
     },
     "execution_count": 23,
     "metadata": {},
     "output_type": "execute_result"
    }
   ],
   "source": [
    "1440 * (59 + 1462 + 165)"
   ]
  },
  {
   "cell_type": "code",
   "execution_count": 25,
   "id": "47a8d7a9",
   "metadata": {},
   "outputs": [
    {
     "data": {
      "text/plain": [
       "237.09375"
      ]
     },
     "execution_count": 25,
     "metadata": {},
     "output_type": "execute_result"
    }
   ],
   "source": [
    "242784/1024"
   ]
  },
  {
   "cell_type": "code",
   "execution_count": 8,
   "id": "22b5243d",
   "metadata": {},
   "outputs": [],
   "source": [
    "interval = Interval.MINUTE_15"
   ]
  },
  {
   "cell_type": "code",
   "execution_count": 13,
   "id": "a3ffc643",
   "metadata": {},
   "outputs": [
    {
     "data": {
      "text/plain": [
       "<Interval.MINUTE_15: '15m'>"
      ]
     },
     "execution_count": 13,
     "metadata": {},
     "output_type": "execute_result"
    }
   ],
   "source": [
    "interval"
   ]
  },
  {
   "cell_type": "code",
   "execution_count": 30,
   "id": "45b8d7dc",
   "metadata": {},
   "outputs": [
    {
     "name": "stdout",
     "output_type": "stream",
     "text": [
      "[{'symbol': 'BTCUSDT', 'startTime': 1652140800000, 'open': '30056.00', 'high': '32650.00', 'low': '29701.40', 'close': '31002.10', 'volume': '863178.961'}, {'symbol': 'BTCUSDT', 'startTime': 1652227200000, 'open': '31002.10', 'high': '32197.60', 'low': '27651.00', 'close': '29074.70', 'volume': '1101875.972'}, {'symbol': 'BTCUSDT', 'startTime': 1652313600000, 'open': '29077.90', 'high': '30257.00', 'low': '26631.00', 'close': '29020.70', 'volume': '964475.589'}, {'symbol': 'BTCUSDT', 'startTime': 1652400000000, 'open': '29020.80', 'high': '31072.60', 'low': '28730.40', 'close': '29274.30', 'volume': '507620.105'}, {'symbol': 'BTCUSDT', 'startTime': 1652486400000, 'open': '29274.20', 'high': '30352.20', 'low': '28602.30', 'close': '30079.80', 'volume': '315756.895'}, {'symbol': 'BTCUSDT', 'startTime': 1652572800000, 'open': '30079.50', 'high': '31462.00', 'low': '29448.00', 'close': '31324.40', 'volume': '336773.139'}, {'symbol': 'BTCUSDT', 'startTime': 1652659200000, 'open': '31324.30', 'high': '31327.40', 'low': '29052.30', 'close': '29866.70', 'volume': '507243.166'}, {'symbol': 'BTCUSDT', 'startTime': 1652745600000, 'open': '29866.40', 'high': '30794.00', 'low': '29420.00', 'close': '30437.00', 'volume': '398624.519'}, {'symbol': 'BTCUSDT', 'startTime': 1652832000000, 'open': '30437.00', 'high': '30700.00', 'low': '28629.60', 'close': '28700.60', 'volume': '426700.457'}, {'symbol': 'BTCUSDT', 'startTime': 1652918400000, 'open': '28700.60', 'high': '30550.00', 'low': '28670.50', 'close': '30319.90', 'volume': '448856.724'}, {'symbol': 'BTCUSDT', 'startTime': 1653004800000, 'open': '30319.90', 'high': '30784.40', 'low': '28702.00', 'close': '29188.90', 'volume': '485439.171'}, {'symbol': 'BTCUSDT', 'startTime': 1653091200000, 'open': '29188.90', 'high': '29650.00', 'low': '28927.00', 'close': '29427.40', 'volume': '202804.089'}, {'symbol': 'BTCUSDT', 'startTime': 1653177600000, 'open': '29427.40', 'high': '30500.00', 'low': '29223.60', 'close': '30284.00', 'volume': '297116.440'}, {'symbol': 'BTCUSDT', 'startTime': 1653264000000, 'open': '30284.00', 'high': '30658.00', 'low': '28840.70', 'close': '29097.70', 'volume': '475720.750'}, {'symbol': 'BTCUSDT', 'startTime': 1653350400000, 'open': '29097.80', 'high': '29887.30', 'low': '28637.60', 'close': '29643.10', 'volume': '382124.449'}, {'symbol': 'BTCUSDT', 'startTime': 1653436800000, 'open': '29643.00', 'high': '30246.70', 'low': '29330.00', 'close': '29536.70', 'volume': '413459.484'}, {'symbol': 'BTCUSDT', 'startTime': 1653523200000, 'open': '29536.70', 'high': '29877.00', 'low': '27952.10', 'close': '29194.00', 'volume': '602137.086'}, {'symbol': 'BTCUSDT', 'startTime': 1653609600000, 'open': '29194.00', 'high': '29387.00', 'low': '28259.60', 'close': '28623.20', 'volume': '506638.884'}, {'symbol': 'BTCUSDT', 'startTime': 1653696000000, 'open': '28623.30', 'high': '29265.70', 'low': '28520.00', 'close': '29018.80', 'volume': '193644.283'}, {'symbol': 'BTCUSDT', 'startTime': 1653782400000, 'open': '29018.80', 'high': '29595.20', 'low': '28825.00', 'close': '29452.80', 'volume': '215139.934'}, {'symbol': 'BTCUSDT', 'startTime': 1653868800000, 'open': '29452.60', 'high': '32307.60', 'low': '29301.10', 'close': '31726.50', 'volume': '502712.176'}, {'symbol': 'BTCUSDT', 'startTime': 1653955200000, 'open': '31726.50', 'high': '32427.50', 'low': '31222.00', 'close': '31797.80', 'volume': '383688.265'}, {'symbol': 'BTCUSDT', 'startTime': 1654041600000, 'open': '31797.90', 'high': '31986.10', 'low': '29300.00', 'close': '29796.90', 'volume': '556992.756'}, {'symbol': 'BTCUSDT', 'startTime': 1654128000000, 'open': '29796.90', 'high': '30750.00', 'low': '29566.10', 'close': '30437.10', 'volume': '370924.687'}, {'symbol': 'BTCUSDT', 'startTime': 1654214400000, 'open': '30437.10', 'high': '30693.20', 'low': '29220.00', 'close': '29682.80', 'volume': '357110.377'}, {'symbol': 'BTCUSDT', 'startTime': 1654300800000, 'open': '29682.80', 'high': '29988.00', 'low': '29456.00', 'close': '29848.40', 'volume': '187520.534'}, {'symbol': 'BTCUSDT', 'startTime': 1654387200000, 'open': '29848.50', 'high': '30250.00', 'low': '29524.00', 'close': '29909.90', 'volume': '205385.831'}, {'symbol': 'BTCUSDT', 'startTime': 1654473600000, 'open': '29910.00', 'high': '31780.00', 'low': '29876.20', 'close': '31361.20', 'volume': '436522.874'}, {'symbol': 'BTCUSDT', 'startTime': 1654560000000, 'open': '31361.20', 'high': '31599.00', 'low': '29190.00', 'close': '31118.10', 'volume': '691714.985'}, {'symbol': 'BTCUSDT', 'startTime': 1654646400000, 'open': '31118.00', 'high': '31325.00', 'low': '29825.00', 'close': '30192.50', 'volume': '455686.637'}]\n",
      "[len] 30\n",
      "[{'symbol': 'ETHUSDT', 'startTime': 1652140800000, 'open': '2227.62', 'high': '2455.88', 'low': '2197.38', 'close': '2340.86', 'volume': '4079487.756'}, {'symbol': 'ETHUSDT', 'startTime': 1652227200000, 'open': '2340.85', 'high': '2451.86', 'low': '2002.00', 'close': '2083.98', 'volume': '5826464.141'}, {'symbol': 'ETHUSDT', 'startTime': 1652313600000, 'open': '2083.98', 'high': '2193.70', 'low': '1775.43', 'close': '1959.78', 'volume': '5639772.981'}, {'symbol': 'ETHUSDT', 'startTime': 1652400000000, 'open': '1959.79', 'high': '2149.99', 'low': '1939.33', 'close': '2008.49', 'volume': '2799355.876'}, {'symbol': 'ETHUSDT', 'startTime': 1652486400000, 'open': '2008.48', 'high': '2068.60', 'low': '1950.07', 'close': '2055.00', 'volume': '1712302.978'}, {'symbol': 'ETHUSDT', 'startTime': 1652572800000, 'open': '2054.99', 'high': '2174.32', 'low': '2000.00', 'close': '2144.07', 'volume': '1621232.284'}, {'symbol': 'ETHUSDT', 'startTime': 1652659200000, 'open': '2144.06', 'high': '2144.07', 'low': '1976.00', 'close': '2022.89', 'volume': '2642704.669'}, {'symbol': 'ETHUSDT', 'startTime': 1652745600000, 'open': '2022.79', 'high': '2124.10', 'low': '2006.71', 'close': '2090.00', 'volume': '1960680.703'}, {'symbol': 'ETHUSDT', 'startTime': 1652832000000, 'open': '2090.00', 'high': '2110.89', 'low': '1906.61', 'close': '1914.20', 'volume': '2331823.162'}, {'symbol': 'ETHUSDT', 'startTime': 1652918400000, 'open': '1914.19', 'high': '2039.30', 'low': '1901.70', 'close': '2019.46', 'volume': '2582771.916'}, {'symbol': 'ETHUSDT', 'startTime': 1653004800000, 'open': '2019.45', 'high': '2064.74', 'low': '1922.00', 'close': '1958.69', 'volume': '2606153.056'}, {'symbol': 'ETHUSDT', 'startTime': 1653091200000, 'open': '1958.69', 'high': '1990.75', 'low': '1935.52', 'close': '1973.94', 'volume': '1160939.760'}, {'symbol': 'ETHUSDT', 'startTime': 1653177600000, 'open': '1973.94', 'high': '2056.73', 'low': '1965.25', 'close': '2042.63', 'volume': '1433318.968'}, {'symbol': 'ETHUSDT', 'startTime': 1653264000000, 'open': '2042.63', 'high': '2088.60', 'low': '1955.01', 'close': '1972.45', 'volume': '2340762.693'}, {'symbol': 'ETHUSDT', 'startTime': 1653350400000, 'open': '1972.45', 'high': '1993.72', 'low': '1911.38', 'close': '1978.56', 'volume': '2077293.838'}, {'symbol': 'ETHUSDT', 'startTime': 1653436800000, 'open': '1978.56', 'high': '2022.74', 'low': '1933.00', 'close': '1942.00', 'volume': '2151769.493'}, {'symbol': 'ETHUSDT', 'startTime': 1653523200000, 'open': '1942.01', 'high': '1965.28', 'low': '1725.00', 'close': '1791.02', 'volume': '4404820.882'}, {'symbol': 'ETHUSDT', 'startTime': 1653609600000, 'open': '1790.99', 'high': '1821.85', 'low': '1694.97', 'close': '1726.55', 'volume': '4743622.208'}, {'symbol': 'ETHUSDT', 'startTime': 1653696000000, 'open': '1726.55', 'high': '1809.33', 'low': '1721.30', 'close': '1791.74', 'volume': '2072895.705'}, {'symbol': 'ETHUSDT', 'startTime': 1653782400000, 'open': '1791.75', 'high': '1829.00', 'low': '1755.25', 'close': '1812.45', 'volume': '1640982.631'}, {'symbol': 'ETHUSDT', 'startTime': 1653868800000, 'open': '1812.46', 'high': '2013.56', 'low': '1801.52', 'close': '1997.87', 'volume': '3264009.122'}, {'symbol': 'ETHUSDT', 'startTime': 1653955200000, 'open': '1997.87', 'high': '2016.77', 'low': '1922.00', 'close': '1941.68', 'volume': '2655076.664'}, {'symbol': 'ETHUSDT', 'startTime': 1654041600000, 'open': '1941.68', 'high': '1972.77', 'low': '1758.52', 'close': '1817.10', 'volume': '3499271.987'}, {'symbol': 'ETHUSDT', 'startTime': 1654128000000, 'open': '1817.16', 'high': '1852.99', 'low': '1780.48', 'close': '1833.37', 'volume': '2390879.573'}, {'symbol': 'ETHUSDT', 'startTime': 1654214400000, 'open': '1833.37', 'high': '1843.33', 'low': '1733.01', 'close': '1774.15', 'volume': '2363750.458'}, {'symbol': 'ETHUSDT', 'startTime': 1654300800000, 'open': '1774.16', 'high': '1815.48', 'low': '1747.45', 'close': '1803.71', 'volume': '1318917.819'}, {'symbol': 'ETHUSDT', 'startTime': 1654387200000, 'open': '1803.70', 'high': '1830.00', 'low': '1772.19', 'close': '1805.39', 'volume': '1432385.263'}, {'symbol': 'ETHUSDT', 'startTime': 1654473600000, 'open': '1805.40', 'high': '1919.33', 'low': '1803.52', 'close': '1859.11', 'volume': '2917516.330'}, {'symbol': 'ETHUSDT', 'startTime': 1654560000000, 'open': '1859.10', 'high': '1875.00', 'low': '1722.00', 'close': '1812.61', 'volume': '4087315.102'}, {'symbol': 'ETHUSDT', 'startTime': 1654646400000, 'open': '1812.62', 'high': '1840.13', 'low': '1763.87', 'close': '1791.02', 'volume': '2628755.953'}]\n",
      "[len] 30\n"
     ]
    }
   ],
   "source": [
    "columns = {'date': 0, 'open': 1, 'high': 2, 'low': 3, 'close': 4, 'volume': 5}\n",
    "result = []\n",
    "interval = Interval.MINUTE_15\n",
    "\n",
    "for i in usdt[0:2]:\n",
    "    sy = i\n",
    "    start_time = tsConverter(2021, 6, 8, 0, 0, 0) * 1000 ### UTC +8\n",
    "    end_time = tsConverter(2022, 6, 8, 0, 0, 0) * 1000   ### UTC +8\n",
    "    klineList = []\n",
    "    while start_time <= end_time:\n",
    "        klineResp = http_client.get_kline(symbol = f'{i}', interval=interval, start_time = start_time, end_time= end_time, limit=1440)\n",
    "#         print(klineResp)\n",
    "        klineList += klineResp\n",
    "        start_time += 1000 * 60 * 1000 * 1440\n",
    "    ts = {i[0] for i in klineList}\n",
    "    insertItem = [{'symbol':sy, 'startTime':i[0], 'open':i[1], 'high':i[2], 'low':i[3], 'close':i[4], 'volume':i[5]} for i in klineList]\n",
    "    print(insertItem)\n",
    "    print('[len]', len(insertItem))\n",
    "#     print(i, insertItem)\n",
    "#     if len(ts) == 13087:\n",
    "#     print(i, len(ts))\n",
    "#     klines = [[datetime.fromtimestamp(int(kline[0]/1000)).strftime('%Y-%m-%d'),\n",
    "#                kline[1],kline[2],kline[3],kline[4],kline[5]] for kline in klineList]  \n",
    "    \n",
    "    \n",
    "    \n",
    "#     df = pd.DataFrame(klines, columns = columns)\n",
    "#     df.to_csv(f'crypto_ohlc_1Hour/{i}.csv', index=False)\n",
    "# df = pd.DataFrame(result, columns = ['symbol'])\n",
    "# df.to_csv('crypto_ohlc_1Hour/symbols.csv')"
   ]
  },
  {
   "cell_type": "code",
   "execution_count": 28,
   "id": "1bc2d06d",
   "metadata": {},
   "outputs": [
    {
     "data": {
      "text/plain": [
       "30"
      ]
     },
     "execution_count": 28,
     "metadata": {},
     "output_type": "execute_result"
    }
   ],
   "source": [
    "len(insertItem)"
   ]
  },
  {
   "cell_type": "code",
   "execution_count": null,
   "id": "56285548",
   "metadata": {},
   "outputs": [],
   "source": []
  }
 ],
 "metadata": {
  "kernelspec": {
   "display_name": "Python 3 (ipykernel)",
   "language": "python",
   "name": "python3"
  },
  "language_info": {
   "codemirror_mode": {
    "name": "ipython",
    "version": 3
   },
   "file_extension": ".py",
   "mimetype": "text/x-python",
   "name": "python",
   "nbconvert_exporter": "python",
   "pygments_lexer": "ipython3",
   "version": "3.9.7"
  }
 },
 "nbformat": 4,
 "nbformat_minor": 5
}
