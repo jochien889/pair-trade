{
 "cells": [
  {
   "cell_type": "code",
   "execution_count": 1,
   "id": "bccdf95b",
   "metadata": {},
   "outputs": [],
   "source": [
    "from BinanceHttpClient import BinanceHttp, contractType, Interval, OrderSide, OrderType\n",
    "import pandas as pd\n",
    "import numpy as np\n",
    "from datetime import datetime\n",
    "import time\n",
    "import traceback"
   ]
  },
  {
   "cell_type": "code",
   "execution_count": 2,
   "id": "609f3dbb",
   "metadata": {},
   "outputs": [],
   "source": [
    "def tsConverter(Year, Month, Day, Hour, Min, Second):\n",
    "    ts= datetime(Year, Month, Day, Hour, Min, Second).timestamp()\n",
    "    return int(ts)\n",
    "\n",
    "http_client = BinanceHttp(marketType = 'USDTFutures')\n",
    "exchangeInfo = http_client.get_exchange_info()\n",
    "exchangeInfo['symbols']\n",
    "usdt = [i['symbol'] for i in exchangeInfo['symbols'] if ((i['symbol'][-4:] == 'USDT') & ( i['status'] == 'TRADING'))]"
   ]
  },
  {
   "cell_type": "code",
   "execution_count": 5,
   "id": "5b0d32cc",
   "metadata": {},
   "outputs": [
    {
     "data": {
      "text/plain": [
       "'15m'"
      ]
     },
     "execution_count": 5,
     "metadata": {},
     "output_type": "execute_result"
    }
   ],
   "source": [
    "fileNameList[3]"
   ]
  },
  {
   "cell_type": "code",
   "execution_count": 7,
   "id": "9e1405ce",
   "metadata": {},
   "outputs": [
    {
     "name": "stdout",
     "output_type": "stream",
     "text": [
      "[fileName]:  15m\n",
      "[interval]:  Interval.MINUTE_15\n",
      "[minute]:  15\n",
      "[interval] Interval.MINUTE_15 BTCUSDT 35041\n",
      "[interval] Interval.MINUTE_15 GTCUSDT 34707\n",
      "[interval] Interval.MINUTE_15 BTCDOMUSDT 33747\n",
      "[interval] Interval.MINUTE_15 IOTXUSDT 28755\n",
      "[interval] Interval.MINUTE_15 AUDIOUSDT 28083\n",
      "[interval] Interval.MINUTE_15 RAYUSDT 27987\n",
      "[interval] Interval.MINUTE_15 C98USDT 27603\n",
      "[interval] Interval.MINUTE_15 MASKUSDT 27315\n",
      "[interval] Interval.MINUTE_15 ATAUSDT 26931\n",
      "[interval] Interval.MINUTE_15 DYDXUSDT 25971\n",
      "[interval] Interval.MINUTE_15 1000XECUSDT 25299\n",
      "[interval] Interval.MINUTE_15 GALAUSDT 25203\n",
      "[interval] Interval.MINUTE_15 CELOUSDT 24339\n",
      "[interval] Interval.MINUTE_15 ARUSDT 24243\n",
      "[interval] Interval.MINUTE_15 KLAYUSDT 22899\n",
      "[interval] Interval.MINUTE_15 ARPAUSDT 22227\n",
      "[interval] Interval.MINUTE_15 CTSIUSDT 21555\n",
      "[interval] Interval.MINUTE_15 LPTUSDT 20019\n",
      "[interval] Interval.MINUTE_15 ENSUSDT 18195\n",
      "[interval] Interval.MINUTE_15 PEOPLEUSDT 15889\n",
      "[interval] Interval.MINUTE_15 ANTUSDT 15601\n",
      "[interval] Interval.MINUTE_15 ROSEUSDT 15219\n",
      "[interval] Interval.MINUTE_15 DUSKUSDT 14547\n",
      "[interval] Interval.MINUTE_15 FLOWUSDT 11283\n",
      "[interval] Interval.MINUTE_15 IMXUSDT 11187\n",
      "[interval] Interval.MINUTE_15 API3USDT 10131\n",
      "[interval] Interval.MINUTE_15 GMTUSDT 8113\n",
      "[interval] Interval.MINUTE_15 APEUSDT 7877\n",
      "[interval] Interval.MINUTE_15 BNXUSDT 6483\n",
      "[interval] Interval.MINUTE_15 WOOUSDT 5811\n",
      "[interval] Interval.MINUTE_15 FTTUSDT 5139\n",
      "[interval] Interval.MINUTE_15 JASMYUSDT 4659\n",
      "[interval] Interval.MINUTE_15 DARUSDT 3795\n",
      "[interval] Interval.MINUTE_15 GALUSDT 3177\n",
      "[interval] Interval.MINUTE_15 OPUSDT 585\n"
     ]
    }
   ],
   "source": [
    "fileNameList = ['1D', '4H', '1H', '15m', '1m']\n",
    "intervalList = [Interval.DAY_1, Interval.HOUR_4, Interval.HOUR_1, Interval.MINUTE_15, Interval.MINUTE_1]\n",
    "minuteList = [60*24, 60*4, 60, 15, 1]\n",
    "\n",
    "# for ind in range(len(fileNameList)-2):\n",
    "ind = 3\n",
    "fileName = fileNameList[ind]\n",
    "interval = intervalList[ind]\n",
    "minute = minuteList[ind]\n",
    "print('[fileName]: ', fileName)\n",
    "print('[interval]: ',interval)\n",
    "print('[minute]: ',minute)\n",
    "tmpCnt = 0\n",
    "columns = {'date': 0, 'open': 1, 'high': 2, 'low': 3, 'close': 4, 'volume': 5}\n",
    "result = []\n",
    "for i in usdt:\n",
    "    time.sleep(0.8)\n",
    "    start_time = tsConverter(2021, 6, 8, 0, 0, 0) * 1000 ### UTC +8\n",
    "    end_time = tsConverter(2022, 6, 8, 0, 0, 0) * 1000   ### UTC +8\n",
    "    klineList = []\n",
    "    while start_time <= end_time:\n",
    "        klineResp = http_client.get_kline(symbol = f'{i}', interval=interval, start_time = start_time, end_time= end_time, limit=1000)\n",
    "#             print(pd.Timestamp(klineResp[0][0]*1000000), pd.Timestamp(klineResp[-1][0]*1000000))\n",
    "#             print((klineResp[-1][0]-klineResp[0][0]+60000)/60000, len(klineResp))\n",
    "        klineList += klineResp\n",
    "        start_time += 1000 * 60 * 1000 * minute # 1代表1分鐘\n",
    "    ts = {i[0] for i in klineList}\n",
    "    if tmpCnt != len(ts):\n",
    "        print('[interval]', interval, i, len(ts))\n",
    "    tmpCnt = len(ts)\n",
    "    result.append(i)\n",
    "\n",
    "    klines = [[datetime.fromtimestamp(int(kline[0]/1000)).strftime(\"%Y-%m-%d, %H:%M:%S\"),\n",
    "                   kline[1],kline[2],kline[3],kline[4],kline[5]] for kline in klineList]\n",
    "\n",
    "    df = pd.DataFrame(klines, columns = columns)\n",
    "#     if tmpCnt == 365:\n",
    "    df.to_csv(f'/Users/jochien/Documents/MaxRereach/stat-JOJO/future/{fileName}/{i}.csv', index=False)\n",
    "df = pd.DataFrame(result, columns = ['symbol'])\n",
    "df.to_csv(f'/Users/jochien/Documents/MaxRereach/stat-JOJO/future/{fileName}/symbols.csv')"
   ]
  },
  {
   "cell_type": "code",
   "execution_count": null,
   "id": "ee029c51",
   "metadata": {},
   "outputs": [],
   "source": [
    "print('1D: ', 365)\n",
    "print('4h: ', 365 * 6)\n",
    "print('1h: ', 365 * 24)\n",
    "print('15m: ', 365 * 24 * 15)\n",
    "print('1m: ', 365 * 24 * 60)"
   ]
  },
  {
   "cell_type": "code",
   "execution_count": 4,
   "id": "f108bbcb",
   "metadata": {},
   "outputs": [
    {
     "data": {
      "text/plain": [
       "2685.0"
      ]
     },
     "execution_count": 4,
     "metadata": {},
     "output_type": "execute_result"
    }
   ],
   "source": [
    "358*7.5"
   ]
  },
  {
   "cell_type": "code",
   "execution_count": null,
   "id": "31e229a4",
   "metadata": {},
   "outputs": [],
   "source": [
    "[1640995200000, '46210.57', '46944.56', '46210.55', '46789.56', '24921.419', 1641009599999, '1163591050.09468', 250048, '12498.910', '583519842.69033', '0']"
   ]
  }
 ],
 "metadata": {
  "kernelspec": {
   "display_name": "Python 3 (ipykernel)",
   "language": "python",
   "name": "python3"
  },
  "language_info": {
   "codemirror_mode": {
    "name": "ipython",
    "version": 3
   },
   "file_extension": ".py",
   "mimetype": "text/x-python",
   "name": "python",
   "nbconvert_exporter": "python",
   "pygments_lexer": "ipython3",
   "version": "3.9.7"
  }
 },
 "nbformat": 4,
 "nbformat_minor": 5
}
