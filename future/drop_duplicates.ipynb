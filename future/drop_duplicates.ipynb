{
 "cells": [
  {
   "cell_type": "code",
   "execution_count": 1,
   "id": "0698e58d",
   "metadata": {},
   "outputs": [],
   "source": [
    "import pandas as pd"
   ]
  },
  {
   "cell_type": "code",
   "execution_count": 4,
   "id": "58fcc916",
   "metadata": {},
   "outputs": [
    {
     "name": "stdout",
     "output_type": "stream",
     "text": [
      "(38, 7)\n",
      "(38, 7)\n"
     ]
    }
   ],
   "source": [
    "df = pd.read_csv(\"/Users/jochien/Documents/MaxRereach/stat-JOJO/future/4h/OPUSDT.csv\")\n",
    "print(df.shape)\n",
    "print(df.drop_duplicates().shape)"
   ]
  },
  {
   "cell_type": "code",
   "execution_count": 3,
   "id": "97affd95",
   "metadata": {},
   "outputs": [],
   "source": [
    "for i in ['15m', '1h', '4h', '1D']:\n",
    "    symbols = pd.read_csv(f\"/Users/jochien/Documents/MaxRereach/stat-JOJO/future/{i}/symbols.csv\").symbol.tolist()\n",
    "    for symbol in symbols:\n",
    "        df = pd.read_csv(f\"/Users/jochien/Documents/MaxRereach/stat-JOJO/future/{i}/{symbol}.csv\").drop_duplicates()\n",
    "        df.to_csv(f\"/Users/jochien/Documents/MaxRereach/stat-JOJO/future/{i}/{symbol}.csv\")"
   ]
  },
  {
   "cell_type": "code",
   "execution_count": null,
   "id": "36ffe9bd",
   "metadata": {},
   "outputs": [],
   "source": []
  }
 ],
 "metadata": {
  "kernelspec": {
   "display_name": "Python 3 (ipykernel)",
   "language": "python",
   "name": "python3"
  },
  "language_info": {
   "codemirror_mode": {
    "name": "ipython",
    "version": 3
   },
   "file_extension": ".py",
   "mimetype": "text/x-python",
   "name": "python",
   "nbconvert_exporter": "python",
   "pygments_lexer": "ipython3",
   "version": "3.9.7"
  }
 },
 "nbformat": 4,
 "nbformat_minor": 5
}
