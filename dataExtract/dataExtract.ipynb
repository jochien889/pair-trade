{
 "cells": [
  {
   "cell_type": "code",
   "execution_count": 1,
   "id": "6207316a",
   "metadata": {
    "collapsed": true
   },
   "outputs": [
    {
     "ename": "ImportError",
     "evalue": "Unable to import required dependencies:\nnumpy: \n\nIMPORTANT: PLEASE READ THIS FOR ADVICE ON HOW TO SOLVE THIS ISSUE!\n\nImporting the numpy C-extensions failed. This error can happen for\nmany reasons, often due to issues with your setup or how NumPy was\ninstalled.\n\nWe have compiled some common reasons and troubleshooting tips at:\n\n    https://numpy.org/devdocs/user/troubleshooting-importerror.html\n\nPlease note and check the following:\n\n  * The Python version is: Python3.8 from \"/Library/Developer/CommandLineTools/usr/bin/python3\"\n  * The NumPy version is: \"1.22.3\"\n\nand make sure that they are the versions you expect.\nPlease carefully study the documentation linked above for further help.\n\nOriginal error was: dlopen(/Users/jochien/Library/Python/3.8/lib/python/site-packages/numpy/core/_multiarray_umath.cpython-38-darwin.so, 0x0002): tried: '/Users/jochien/Library/Python/3.8/lib/python/site-packages/numpy/core/_multiarray_umath.cpython-38-darwin.so' (mach-o file, but is an incompatible architecture (have 'arm64', need 'x86_64')), '/usr/local/lib/_multiarray_umath.cpython-38-darwin.so' (no such file), '/usr/lib/_multiarray_umath.cpython-38-darwin.so' (no such file)\n",
     "output_type": "error",
     "traceback": [
      "\u001b[0;31m---------------------------------------------------------------------------\u001b[0m",
      "\u001b[0;31mImportError\u001b[0m                               Traceback (most recent call last)",
      "Input \u001b[0;32mIn [1]\u001b[0m, in \u001b[0;36m<cell line: 1>\u001b[0;34m()\u001b[0m\n\u001b[0;32m----> 1\u001b[0m \u001b[38;5;28;01mfrom\u001b[39;00m \u001b[38;5;21;01mBinanceHttpClient\u001b[39;00m \u001b[38;5;28;01mimport\u001b[39;00m BinanceHttp, contractType, Interval, OrderSide, OrderType\n\u001b[1;32m      2\u001b[0m \u001b[38;5;28;01mimport\u001b[39;00m \u001b[38;5;21;01mpandas\u001b[39;00m \u001b[38;5;28;01mas\u001b[39;00m \u001b[38;5;21;01mpd\u001b[39;00m\n\u001b[1;32m      3\u001b[0m \u001b[38;5;28;01mimport\u001b[39;00m \u001b[38;5;21;01mnumpy\u001b[39;00m \u001b[38;5;28;01mas\u001b[39;00m \u001b[38;5;21;01mnp\u001b[39;00m\n",
      "File \u001b[0;32m~/Documents/MaxRereach/strategy/dataExtract/BinanceHttpClient.py:3\u001b[0m, in \u001b[0;36m<module>\u001b[0;34m\u001b[0m\n\u001b[1;32m      1\u001b[0m \u001b[38;5;28;01mfrom\u001b[39;00m \u001b[38;5;21;01mdatetime\u001b[39;00m \u001b[38;5;28;01mimport\u001b[39;00m datetime\n\u001b[0;32m----> 3\u001b[0m \u001b[38;5;28;01mimport\u001b[39;00m \u001b[38;5;21;01mpandas\u001b[39;00m \u001b[38;5;28;01mas\u001b[39;00m \u001b[38;5;21;01mpd\u001b[39;00m\n\u001b[1;32m      4\u001b[0m \u001b[38;5;28;01mimport\u001b[39;00m \u001b[38;5;21;01mrequests\u001b[39;00m\n\u001b[1;32m      5\u001b[0m \u001b[38;5;28;01mimport\u001b[39;00m \u001b[38;5;21;01mjson\u001b[39;00m\n",
      "File \u001b[0;32m~/Library/Python/3.8/lib/python/site-packages/pandas/__init__.py:16\u001b[0m, in \u001b[0;36m<module>\u001b[0;34m\u001b[0m\n\u001b[1;32m     13\u001b[0m         missing_dependencies\u001b[38;5;241m.\u001b[39mappend(\u001b[38;5;124mf\u001b[39m\u001b[38;5;124m\"\u001b[39m\u001b[38;5;132;01m{\u001b[39;00mdependency\u001b[38;5;132;01m}\u001b[39;00m\u001b[38;5;124m: \u001b[39m\u001b[38;5;132;01m{\u001b[39;00me\u001b[38;5;132;01m}\u001b[39;00m\u001b[38;5;124m\"\u001b[39m)\n\u001b[1;32m     15\u001b[0m \u001b[38;5;28;01mif\u001b[39;00m missing_dependencies:\n\u001b[0;32m---> 16\u001b[0m     \u001b[38;5;28;01mraise\u001b[39;00m \u001b[38;5;167;01mImportError\u001b[39;00m(\n\u001b[1;32m     17\u001b[0m         \u001b[38;5;124m\"\u001b[39m\u001b[38;5;124mUnable to import required dependencies:\u001b[39m\u001b[38;5;130;01m\\n\u001b[39;00m\u001b[38;5;124m\"\u001b[39m \u001b[38;5;241m+\u001b[39m \u001b[38;5;124m\"\u001b[39m\u001b[38;5;130;01m\\n\u001b[39;00m\u001b[38;5;124m\"\u001b[39m\u001b[38;5;241m.\u001b[39mjoin(missing_dependencies)\n\u001b[1;32m     18\u001b[0m     )\n\u001b[1;32m     19\u001b[0m \u001b[38;5;28;01mdel\u001b[39;00m hard_dependencies, dependency, missing_dependencies\n\u001b[1;32m     21\u001b[0m \u001b[38;5;66;03m# numpy compat\u001b[39;00m\n",
      "\u001b[0;31mImportError\u001b[0m: Unable to import required dependencies:\nnumpy: \n\nIMPORTANT: PLEASE READ THIS FOR ADVICE ON HOW TO SOLVE THIS ISSUE!\n\nImporting the numpy C-extensions failed. This error can happen for\nmany reasons, often due to issues with your setup or how NumPy was\ninstalled.\n\nWe have compiled some common reasons and troubleshooting tips at:\n\n    https://numpy.org/devdocs/user/troubleshooting-importerror.html\n\nPlease note and check the following:\n\n  * The Python version is: Python3.8 from \"/Library/Developer/CommandLineTools/usr/bin/python3\"\n  * The NumPy version is: \"1.22.3\"\n\nand make sure that they are the versions you expect.\nPlease carefully study the documentation linked above for further help.\n\nOriginal error was: dlopen(/Users/jochien/Library/Python/3.8/lib/python/site-packages/numpy/core/_multiarray_umath.cpython-38-darwin.so, 0x0002): tried: '/Users/jochien/Library/Python/3.8/lib/python/site-packages/numpy/core/_multiarray_umath.cpython-38-darwin.so' (mach-o file, but is an incompatible architecture (have 'arm64', need 'x86_64')), '/usr/local/lib/_multiarray_umath.cpython-38-darwin.so' (no such file), '/usr/lib/_multiarray_umath.cpython-38-darwin.so' (no such file)\n"
     ]
    }
   ],
   "source": [
    "from BinanceHttpClient import BinanceHttp, contractType, Interval, OrderSide, OrderType\n",
    "import pandas as pd\n",
    "import numpy as np\n",
    "from datetime import datetime\n",
    "import time\n",
    "import traceback"
   ]
  },
  {
   "cell_type": "code",
   "execution_count": 2,
   "id": "a54ca6c6",
   "metadata": {},
   "outputs": [],
   "source": [
    "def tsConverter(Year, Month, Day, Hour, Min, Second):\n",
    "    ts= datetime(Year, Month, Day, Hour, Min, Second).timestamp()\n",
    "    return int(ts)"
   ]
  },
  {
   "cell_type": "code",
   "execution_count": 3,
   "id": "da2f3da0",
   "metadata": {},
   "outputs": [
    {
     "name": "stdout",
     "output_type": "stream",
     "text": [
      "['BTCUSDT', 'ETHUSDT', 'BNBUSDT', 'BCCUSDT', 'NEOUSDT']\n"
     ]
    }
   ],
   "source": [
    "http_client = BinanceHttp()\n",
    "exchangeInfo = http_client.get_exchange_info()\n",
    "exchangeInfo['symbols']\n",
    "usdt = [i['symbol'] for i in exchangeInfo['symbols'] if i['symbol'][-4:] == 'USDT']\n",
    "print(usdt[0:5])"
   ]
  },
  {
   "cell_type": "markdown",
   "id": "0040f9a2",
   "metadata": {},
   "source": [
    "# btc startTime"
   ]
  },
  {
   "cell_type": "code",
   "execution_count": 51,
   "id": "1ccbc375",
   "metadata": {},
   "outputs": [],
   "source": [
    "start_time = tsConverter(2020, 9, 1, 0, 0, 0) * 1000\n",
    "end_time = tsConverter(2022, 3, 1, 0, 0, 0) * 1000"
   ]
  },
  {
   "cell_type": "code",
   "execution_count": 11,
   "id": "5aa17c23",
   "metadata": {},
   "outputs": [
    {
     "name": "stdout",
     "output_type": "stream",
     "text": [
      "BTCUSDT 762\n",
      "ETHUSDT 762\n",
      "BNBUSDT 762\n",
      "NEOUSDT 762\n",
      "LTCUSDT 762\n",
      "QTUMUSDT 762\n",
      "ADAUSDT 762\n",
      "XRPUSDT 762\n",
      "EOSUSDT 762\n",
      "TUSDUSDT 762\n",
      "IOTAUSDT 762\n",
      "XLMUSDT 762\n",
      "ONTUSDT 762\n",
      "TRXUSDT 762\n",
      "ETCUSDT 762\n",
      "ICXUSDT 762\n",
      "NULSUSDT 762\n",
      "VETUSDT 762\n",
      "USDCUSDT 762\n",
      "LINKUSDT 762\n",
      "WAVESUSDT 762\n",
      "ONGUSDT 762\n",
      "HOTUSDT 762\n",
      "ZILUSDT 762\n",
      "ZRXUSDT 762\n",
      "FETUSDT 762\n",
      "BATUSDT 762\n",
      "XMRUSDT 762\n",
      "ZECUSDT 762\n",
      "IOSTUSDT 762\n",
      "CELRUSDT 762\n",
      "DASHUSDT 762\n",
      "OMGUSDT 762\n",
      "THETAUSDT 762\n",
      "ENJUSDT 762\n",
      "MITHUSDT 762\n",
      "MATICUSDT 762\n",
      "ATOMUSDT 762\n",
      "TFUELUSDT 762\n",
      "ONEUSDT 762\n",
      "FTMUSDT 762\n",
      "ALGOUSDT 762\n",
      "GTOUSDT 762\n",
      "DOGEUSDT 762\n",
      "DUSKUSDT 762\n",
      "ANKRUSDT 762\n",
      "WINUSDT 762\n",
      "COSUSDT 762\n",
      "MTLUSDT 762\n",
      "TOMOUSDT 762\n",
      "PERLUSDT 762\n",
      "DENTUSDT 762\n",
      "MFTUSDT 762\n",
      "KEYUSDT 762\n",
      "DOCKUSDT 762\n",
      "WANUSDT 762\n",
      "FUNUSDT 762\n",
      "CVCUSDT 762\n",
      "CHZUSDT 762\n",
      "BANDUSDT 762\n",
      "BUSDUSDT 762\n",
      "BEAMUSDT 762\n",
      "XTZUSDT 762\n",
      "RENUSDT 762\n",
      "RVNUSDT 762\n",
      "HBARUSDT 762\n",
      "NKNUSDT 762\n",
      "STXUSDT 762\n",
      "KAVAUSDT 762\n",
      "ARPAUSDT 762\n",
      "IOTXUSDT 762\n",
      "RLCUSDT 762\n",
      "CTXCUSDT 762\n",
      "BCHUSDT 762\n",
      "TROYUSDT 762\n",
      "VITEUSDT 762\n",
      "FTTUSDT 762\n"
     ]
    }
   ],
   "source": [
    "columns = {'date': 0, 'open': 1, 'high': 2, 'low': 3, 'close': 4, 'volume': 5}\n",
    "result = []\n",
    "\n",
    "for i in usdt:\n",
    "    start_time = tsConverter(2020, 1, 1, 0, 0, 0) * 1000\n",
    "    end_time = tsConverter(2022, 2, 1, 0, 0, 0) * 1000\n",
    "    klineList = []\n",
    "    while start_time <= end_time:\n",
    "        klineResp = http_client.get_kline(symbol = f'{i}', interval=Interval.DAY_1, start_time = start_time, end_time= end_time, limit=1440)\n",
    "#         print(klineResp)\n",
    "        klineList += klineResp\n",
    "        start_time += 1000 * 60 * 1000 * 1440\n",
    "    ts = {i[0] for i in klineList}\n",
    "    if len(ts) == 762:\n",
    "        print(i, len(ts))\n",
    "        result.append(i)\n",
    "        klines = [[datetime.fromtimestamp(int(kline[0]/1000)).strftime('%Y-%m-%d'),\n",
    "                   kline[1],kline[2],kline[3],kline[4],kline[5]] for kline in klineList]  \n",
    "        df = pd.DataFrame(klines, columns = columns)\n",
    "        df.to_csv(f'{i}.csv', index=False)\n",
    "df = pd.DataFrame(result, columns = ['symbol'])\n",
    "df.to_csv('symbol.csv')"
   ]
  },
  {
   "cell_type": "code",
   "execution_count": 10,
   "id": "347ec102",
   "metadata": {},
   "outputs": [
    {
     "name": "stdout",
     "output_type": "stream",
     "text": [
      "762\n"
     ]
    }
   ],
   "source": [
    "start_time = tsConverter(2020, 1, 1, 0, 0, 0) * 1000\n",
    "end_time = tsConverter(2022, 2, 1, 0, 0, 0) * 1000\n",
    "klineResp = http_client.get_kline(symbol = 'BTCUSDT', interval=Interval.DAY_1, start_time = start_time, end_time= end_time, limit=1440)\n",
    "ts = {i[0] for i in klineResp}\n",
    "print(len(set(ts)))"
   ]
  },
  {
   "cell_type": "code",
   "execution_count": null,
   "id": "98739bb5",
   "metadata": {},
   "outputs": [],
   "source": []
  }
 ],
 "metadata": {
  "kernelspec": {
   "display_name": "Python 3.8.9 64-bit",
   "language": "python",
   "name": "python389jvsc74a57bd031f2aee4e71d21fbe5cf8b01ff0e069b9275f58929596ceb00d14d90e3e16cd6"
  },
  "language_info": {
   "codemirror_mode": {
    "name": "ipython",
    "version": 3
   },
   "file_extension": ".py",
   "mimetype": "text/x-python",
   "name": "python",
   "nbconvert_exporter": "python",
   "pygments_lexer": "ipython3",
   "version": "3.8.9"
  }
 },
 "nbformat": 4,
 "nbformat_minor": 5
}
